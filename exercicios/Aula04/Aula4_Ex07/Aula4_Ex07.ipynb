{
 "cells": [
  {
   "cell_type": "markdown",
   "metadata": {},
   "source": [
    "# Aula 4 - Exercícios - Pandas, Fontes de dados e Agregação\n",
    "### Consulta a internet (Google, Stackoverflow e etc) liberada!!"
   ]
  },
  {
   "cell_type": "code",
   "execution_count": 1,
   "metadata": {},
   "outputs": [],
   "source": [
    "# Importe as bibliotecas pandas, numpy, glob e sqlalchemy\n",
    "import pandas as pd\n",
    "import numpy as np\n",
    "import sqlalchemy as sqla\n"
   ]
  },
  {
   "cell_type": "markdown",
   "metadata": {},
   "source": [
    "### 4.7 Escreva uma função para contar quantos nomes de municípios são diferentes nas bases de dados do PIB e da população. \n",
    "#### A coluna do nome dos municípios no dataset de PIB contém também o nome da UF. Remova o nome da UF, por exemplo, removendo os 5 últimos caracteres da string do nome do município, antes de efetuar a comparação.\n",
    "#### Interprete este resultado. O que você pode extrair de aprendizado deste resultado? "
   ]
  },
  {
   "cell_type": "code",
   "execution_count": 2,
   "metadata": {},
   "outputs": [
    {
     "data": {
      "text/html": [
       "<div>\n",
       "<style scoped>\n",
       "    .dataframe tbody tr th:only-of-type {\n",
       "        vertical-align: middle;\n",
       "    }\n",
       "\n",
       "    .dataframe tbody tr th {\n",
       "        vertical-align: top;\n",
       "    }\n",
       "\n",
       "    .dataframe thead th {\n",
       "        text-align: right;\n",
       "    }\n",
       "</style>\n",
       "<table border=\"1\" class=\"dataframe\">\n",
       "  <thead>\n",
       "    <tr style=\"text-align: right;\">\n",
       "      <th></th>\n",
       "      <th>uf</th>\n",
       "      <th>cod_uf</th>\n",
       "      <th>cod_munic</th>\n",
       "      <th>municipio_x</th>\n",
       "      <th>pop2017</th>\n",
       "      <th>cod_ibge7</th>\n",
       "      <th>nivel</th>\n",
       "      <th>municipio_y</th>\n",
       "      <th>2007</th>\n",
       "      <th>2009</th>\n",
       "      <th>2011</th>\n",
       "      <th>2013</th>\n",
       "      <th>2015</th>\n",
       "      <th>2017</th>\n",
       "    </tr>\n",
       "  </thead>\n",
       "  <tbody>\n",
       "    <tr>\n",
       "      <th>0</th>\n",
       "      <td>RO</td>\n",
       "      <td>11</td>\n",
       "      <td>00015</td>\n",
       "      <td>Alta Floresta D'Oeste</td>\n",
       "      <td>25437</td>\n",
       "      <td>1100015</td>\n",
       "      <td>MU</td>\n",
       "      <td>Alta Floresta D'Oeste (RO)</td>\n",
       "      <td>191364</td>\n",
       "      <td>256986</td>\n",
       "      <td>280510</td>\n",
       "      <td>341325</td>\n",
       "      <td>421300</td>\n",
       "      <td>498864</td>\n",
       "    </tr>\n",
       "    <tr>\n",
       "      <th>1</th>\n",
       "      <td>RO</td>\n",
       "      <td>11</td>\n",
       "      <td>00023</td>\n",
       "      <td>Ariquemes</td>\n",
       "      <td>107345</td>\n",
       "      <td>1100023</td>\n",
       "      <td>MU</td>\n",
       "      <td>Ariquemes (RO)</td>\n",
       "      <td>905203</td>\n",
       "      <td>1133095</td>\n",
       "      <td>1651885</td>\n",
       "      <td>1799853</td>\n",
       "      <td>2037799</td>\n",
       "      <td>2296074</td>\n",
       "    </tr>\n",
       "    <tr>\n",
       "      <th>2</th>\n",
       "      <td>RO</td>\n",
       "      <td>11</td>\n",
       "      <td>00031</td>\n",
       "      <td>Cabixi</td>\n",
       "      <td>6224</td>\n",
       "      <td>1100031</td>\n",
       "      <td>MU</td>\n",
       "      <td>Cabixi (RO)</td>\n",
       "      <td>49166</td>\n",
       "      <td>69776</td>\n",
       "      <td>77217</td>\n",
       "      <td>96365</td>\n",
       "      <td>116565</td>\n",
       "      <td>138894</td>\n",
       "    </tr>\n",
       "    <tr>\n",
       "      <th>3</th>\n",
       "      <td>RO</td>\n",
       "      <td>11</td>\n",
       "      <td>00049</td>\n",
       "      <td>Cacoal</td>\n",
       "      <td>88507</td>\n",
       "      <td>1100049</td>\n",
       "      <td>MU</td>\n",
       "      <td>Cacoal (RO)</td>\n",
       "      <td>814890</td>\n",
       "      <td>985479</td>\n",
       "      <td>1259024</td>\n",
       "      <td>1433254</td>\n",
       "      <td>1794478</td>\n",
       "      <td>2127523</td>\n",
       "    </tr>\n",
       "    <tr>\n",
       "      <th>4</th>\n",
       "      <td>RO</td>\n",
       "      <td>11</td>\n",
       "      <td>00056</td>\n",
       "      <td>Cerejeiras</td>\n",
       "      <td>17934</td>\n",
       "      <td>1100056</td>\n",
       "      <td>MU</td>\n",
       "      <td>Cerejeiras (RO)</td>\n",
       "      <td>143270</td>\n",
       "      <td>190902</td>\n",
       "      <td>260142</td>\n",
       "      <td>353270</td>\n",
       "      <td>397736</td>\n",
       "      <td>448524</td>\n",
       "    </tr>\n",
       "  </tbody>\n",
       "</table>\n",
       "</div>"
      ],
      "text/plain": [
       "   uf cod_uf cod_munic            municipio_x  pop2017 cod_ibge7 nivel  \\\n",
       "0  RO     11     00015  Alta Floresta D'Oeste    25437   1100015    MU   \n",
       "1  RO     11     00023              Ariquemes   107345   1100023    MU   \n",
       "2  RO     11     00031                 Cabixi     6224   1100031    MU   \n",
       "3  RO     11     00049                 Cacoal    88507   1100049    MU   \n",
       "4  RO     11     00056             Cerejeiras    17934   1100056    MU   \n",
       "\n",
       "                  municipio_y    2007     2009     2011     2013     2015  \\\n",
       "0  Alta Floresta D'Oeste (RO)  191364   256986   280510   341325   421300   \n",
       "1              Ariquemes (RO)  905203  1133095  1651885  1799853  2037799   \n",
       "2                 Cabixi (RO)   49166    69776    77217    96365   116565   \n",
       "3                 Cacoal (RO)  814890   985479  1259024  1433254  1794478   \n",
       "4             Cerejeiras (RO)  143270   190902   260142   353270   397736   \n",
       "\n",
       "      2017  \n",
       "0   498864  \n",
       "1  2296074  \n",
       "2   138894  \n",
       "3  2127523  \n",
       "4   448524  "
      ]
     },
     "execution_count": 2,
     "metadata": {},
     "output_type": "execute_result"
    }
   ],
   "source": [
    "%run ../Aula4_Ex04/Aula4_Ex04.ipynb\n",
    "path_pib = '../../curso_ciencia_dados2020/data/originais/pib/pib_municipios.xlsx'\n",
    "path_pop='../../curso_ciencia_dados2020/data/originais/populacao/estimativa_dou_2017.xlsx'\n",
    "df_pib_pop = merge_pop_pib(path_pop, path_pib)\n",
    "df_pib_pop.head()"
   ]
  },
  {
   "cell_type": "code",
   "execution_count": 3,
   "metadata": {
    "deletable": false,
    "nbgrader": {
     "cell_type": "code",
     "checksum": "1b6f243fb2fcd3e0f119d818061f5ded",
     "grade": false,
     "grade_id": "cell-553e5248eb1t4bc30",
     "locked": false,
     "schema_version": 3,
     "solution": true,
     "task": false
    }
   },
   "outputs": [],
   "source": [
    "# Dica 1: use a função map (element-wise) do objeto series, ou seja, sobre a coluna col2 do dataframe df.\n",
    "# Dica 2: passe uma função lambda para o metodo map que executa as instruções do enunciado.\n",
    "# Dica 3: compare o resultado da execução da funcao map com a coluna col1\n",
    "# Dica 4: retorne a quantidade de diferenças resultantes da comparação\n",
    "def compare_df_cols(df, col1, col2):\n",
    "    \"\"\"retorne a quantidade de registros em que o valor do registro na coluna col1 difere do valor em col2\n",
    "    \"\"\"\n",
    "    return (df[col1] != df[col2].map(lambda s: s[:-5])).sum()\n"
   ]
  },
  {
   "cell_type": "code",
   "execution_count": 4,
   "metadata": {},
   "outputs": [],
   "source": [
    "# Importar e carregar as funcoes do exercicio 4\n",
    "%run ../Aula4_Ex04/Aula4_Ex04.ipynb"
   ]
  },
  {
   "cell_type": "code",
   "execution_count": 5,
   "metadata": {},
   "outputs": [
    {
     "data": {
      "text/plain": [
       "16"
      ]
     },
     "execution_count": 5,
     "metadata": {},
     "output_type": "execute_result"
    }
   ],
   "source": [
    "## Faça seus testes aqui\n",
    "compare_df_cols(df_pib_pop, 'municipio_x', 'municipio_y')"
   ]
  },
  {
   "cell_type": "code",
   "execution_count": 6,
   "metadata": {
    "deletable": false,
    "editable": false,
    "nbgrader": {
     "cell_type": "code",
     "checksum": "f2c167f4bd43bd5046da4089ac2a5a65",
     "grade": true,
     "grade_id": "cell-0e2b6cefet06bdc60",
     "locked": true,
     "points": 1,
     "schema_version": 3,
     "solution": false,
     "task": false
    }
   },
   "outputs": [],
   "source": [
    "# Validação para nota\n",
    "# Importar e carregar as funcoes do exercicio 4\n",
    "%run ../Aula3_Ex04/Aula3_Ex04.ipynb\n",
    "\n",
    "path_pib = '../../curso_ciencia_dados2020/data/originais/pib/pib_municipios.xlsx'\n",
    "path_pop='../../curso_ciencia_dados2020/data/originais/populacao/estimativa_dou_2017.xlsx'\n",
    "df_pib_pop = merge_pop_pib(path_pop, path_pib)\n",
    "assert compare_df_cols(df_pib_pop, 'municipio_x', 'municipio_y') == 16"
   ]
  }
 ],
 "metadata": {
  "kernelspec": {
   "display_name": "Python 3",
   "language": "python",
   "name": "python3"
  },
  "language_info": {
   "codemirror_mode": {
    "name": "ipython",
    "version": 3
   },
   "file_extension": ".py",
   "mimetype": "text/x-python",
   "name": "python",
   "nbconvert_exporter": "python",
   "pygments_lexer": "ipython3",
   "version": "3.8.6"
  }
 },
 "nbformat": 4,
 "nbformat_minor": 4
}
