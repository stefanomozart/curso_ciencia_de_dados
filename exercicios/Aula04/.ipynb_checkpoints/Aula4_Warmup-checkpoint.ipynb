{
 "cells": [
  {
   "cell_type": "markdown",
   "metadata": {},
   "source": [
    "## Aula 4 - Pandas e Fontes de dados"
   ]
  },
  {
   "cell_type": "markdown",
   "metadata": {},
   "source": [
    "### Manipulação de Fontes de Dados"
   ]
  },
  {
   "cell_type": "code",
   "execution_count": 1,
   "metadata": {
    "ExecuteTime": {
     "end_time": "2020-11-16T17:52:17.124316Z",
     "start_time": "2020-11-16T17:51:38.346828Z"
    }
   },
   "outputs": [
    {
     "name": "stdout",
     "output_type": "stream",
     "text": [
      "Cloning into '../../curso_ciencia_dados2020'...\n",
      "remote: Enumerating objects: 379, done.\u001b[K\n",
      "remote: Counting objects: 100% (379/379), done.\u001b[K\n",
      "remote: Compressing objects: 100% (234/234), done.\u001b[K\n",
      "remote: Total 379 (delta 153), reused 303 (delta 95), pack-reused 0\u001b[K\n",
      "Receiving objects: 100% (379/379), 30.38 MiB | 942.00 KiB/s, done.\n",
      "Resolving deltas: 100% (153/153), done.\n"
     ]
    }
   ],
   "source": [
    "#Fazer o download dos datasets\n",
    "!git clone https://github.com/alexlopespereira/curso_ciencia_dados2020.git ../../curso_ciencia_dados2020"
   ]
  },
  {
   "cell_type": "code",
   "execution_count": null,
   "metadata": {},
   "outputs": [],
   "source": [
    "import pandas as pd\n",
    "import numpy as np"
   ]
  },
  {
   "cell_type": "markdown",
   "metadata": {},
   "source": [
    "#### W4.1 Carregue o arquivo do PIB disponibilizado nas bases de dados deste curso. Você pode escolher abrir do arquivo local ou diretamente da URL do github.\n",
    "#### Ajuste corretamente os argumentos skiprows e skipfooter para deixar na sua tabela somente os dados de interesse. As linhas de cabeçalho desnecessárias e o rodapé não devem fazer parte da sua tabela de dados."
   ]
  },
  {
   "cell_type": "code",
   "execution_count": null,
   "metadata": {},
   "outputs": [],
   "source": [
    "# path_pib = 'https://github.com/alexlopespereira/curso_ciencia_dados2020/raw/master/data/originais/pib/pib_municipios.xlsx', sheet_name='Tabela', skiprows=3)\n",
    "path_pib = '../../curso_ciencia_dados2020/data/originais/pib/pib_municipios.xlsx'\n"
   ]
  },
  {
   "cell_type": "code",
   "execution_count": null,
   "metadata": {},
   "outputs": [],
   "source": [
    "# Mostre os 10 primeiros registros da sua tabela com o método pd.DataFrame.head()\n"
   ]
  },
  {
   "cell_type": "code",
   "execution_count": null,
   "metadata": {
    "scrolled": false
   },
   "outputs": [],
   "source": [
    "# Mostre os 10 últimos registros da sua tabela com o método pd.DataFrame.tail()\n"
   ]
  },
  {
   "cell_type": "code",
   "execution_count": null,
   "metadata": {
    "scrolled": false
   },
   "outputs": [],
   "source": [
    "# Vizualize os tipos dos dados desse dataframe utilizando o método pd.DataFrame.info()\n",
    "# Use esse método SEMPRE que alguma coisa não funcionar quando estiver \n",
    "# fazendo operaçoes que esperam algum tipo de dado específico numa coluna.\n",
    "# Por exemplo, é comum você tentar concatenar o conteúdo de duas colunas na forma de string\n",
    "# imaginando que as duas colunas já são string, quando na verdade alguma delas não são.\n",
    "# Outro exemplo de erro bastante comum é você tentar somar o valor de duas colunas quando\n",
    "# uma delas ou as duas não são números, mas strings.\n",
    "\n",
    "\n"
   ]
  },
  {
   "cell_type": "markdown",
   "metadata": {},
   "source": [
    "#### W4.2 Carregue o arquivo do índice de gini. Você pode escolher abrir do arquivo local ou diretamente da URL do github.\n",
    "#### Use os argumentos sep, skiprows, skipfooter, na_values e decimal."
   ]
  },
  {
   "cell_type": "code",
   "execution_count": null,
   "metadata": {},
   "outputs": [],
   "source": [
    "# path_gini = 'https://github.com/alexlopespereira/curso_ciencia_dados2020/raw/master/data/originais/gini/ginibr.csv'\n",
    "path_gini = '../../curso_ciencia_dados2020/data/originais/gini/ginibr.csv'\n"
   ]
  },
  {
   "cell_type": "markdown",
   "metadata": {},
   "source": [
    "#### W4.3 Carregue o arquivo do dataset de morbidade disponibilizado nas bases de dados deste curso. Você pode escolher abrir do arquivo local ou diretamente da URL do github.\n",
    "#### Ajuste corretamente os argumentos sep e decimal. Assegure-se de que os dados numéricos foram carregados em formato numérico (int ou float). Use o método pd.DataFrame.info() para fazer esta verificação."
   ]
  },
  {
   "cell_type": "code",
   "execution_count": null,
   "metadata": {},
   "outputs": [],
   "source": [
    "# path_morbidade = 'https://github.com/alexlopespereira/curso_ciencia_dados2020/raw/master/data/originais/morbidade/consolidado/morbidade_simplificado.csv'\n",
    "path_morbidade = '../../curso_ciencia_dados2020/data/originais/morbidade/consolidado/morbidade_simplificado.csv'\n"
   ]
  },
  {
   "cell_type": "markdown",
   "metadata": {},
   "source": [
    "#### W4.4 Converta um dataframe para uma tabela de banco de dados SQLite"
   ]
  },
  {
   "cell_type": "code",
   "execution_count": null,
   "metadata": {},
   "outputs": [],
   "source": [
    "import sqlalchemy as sqla\n",
    "\n",
    "# Crie uma conexão com o banco de dados\n",
    "url_bd = None #'sqlite:///bd.sqlite'\n",
    "con = sqla.create_engine()\n",
    "\n",
    "# Escreva o DataFrame df_python[2] numa tabela de um banco de dados SQLite\n",
    "df_python[2].to_sql(\"python\", con, if_exists=\"replace\")\n"
   ]
  },
  {
   "cell_type": "markdown",
   "metadata": {},
   "source": [
    "### Descartando valores faltantes (NA ou NaN)"
   ]
  },
  {
   "cell_type": "markdown",
   "metadata": {},
   "source": [
    "#### W4.5 Remova os valores NA da series a seguir"
   ]
  },
  {
   "cell_type": "code",
   "execution_count": null,
   "metadata": {},
   "outputs": [],
   "source": [
    "from numpy import nan as NA\n",
    "# Considere a serie a seguir\n",
    "data = pd.Series([1, NA, 3.5, NA, 7])\n",
    "\n"
   ]
  },
  {
   "cell_type": "markdown",
   "metadata": {},
   "source": [
    "#### W4.6 Remova os itens duplicados do dataframe a seguir"
   ]
  },
  {
   "cell_type": "code",
   "execution_count": null,
   "metadata": {},
   "outputs": [],
   "source": [
    "# Considere o seguinte dataframe\n",
    "data = pd.DataFrame({'k1': ['one', 'two'] * 3 + ['two'], 'k2': [1, 1, 2, 3, 3, 4, 4]})\n"
   ]
  },
  {
   "cell_type": "markdown",
   "metadata": {},
   "source": [
    "### Treinando Indexação Hierárquica"
   ]
  },
  {
   "cell_type": "code",
   "execution_count": null,
   "metadata": {},
   "outputs": [],
   "source": [
    "# Considere a seguinte Serie\n",
    "data = pd.Series(np.random.randn(9), index=[['a', 'a', 'a', 'b', 'b', 'c', 'c', 'd', 'd'],\n",
    "                                            [1, 2, 3, 1, 3, 1, 2, 2, 3]])\n",
    "# Mostre o indice hierárquico\n",
    "data.index"
   ]
  },
  {
   "cell_type": "markdown",
   "metadata": {},
   "source": [
    "#### W4.7 Considerando a serie data, definida na célula anterior, faça um filtro com uma lista de elementos do 1o nível do índice"
   ]
  },
  {
   "cell_type": "code",
   "execution_count": null,
   "metadata": {},
   "outputs": [],
   "source": [
    "# Faça aqui\n"
   ]
  },
  {
   "cell_type": "markdown",
   "metadata": {},
   "source": [
    "#### W4.8 Considerando a serie data, faça um filtro no 2o Nível (mais interno)"
   ]
  },
  {
   "cell_type": "code",
   "execution_count": null,
   "metadata": {},
   "outputs": [],
   "source": [
    "# Considere o seguinte dataframe\n"
   ]
  },
  {
   "cell_type": "markdown",
   "metadata": {},
   "source": [
    "### Treinando a função merge (fundir/juntar)"
   ]
  },
  {
   "cell_type": "markdown",
   "metadata": {},
   "source": [
    "#### W4.9 Faça o merge dos dois dataframes a seguir usando como chave de junção a coluna 'key'. Use o argumento how='left'"
   ]
  },
  {
   "cell_type": "code",
   "execution_count": null,
   "metadata": {},
   "outputs": [],
   "source": [
    "# Considere os seguintes DataFrames\n",
    "df1 = pd.DataFrame({'key': ['b', 'b', 'a', 'c', 'a', 'a', 'b'], 'data1': range(7)})\n",
    "df2 = pd.DataFrame({'key': ['a', 'b', 'd'], 'data2': range(3)})"
   ]
  },
  {
   "cell_type": "code",
   "execution_count": null,
   "metadata": {},
   "outputs": [],
   "source": [
    "# Faça aqui\n"
   ]
  },
  {
   "cell_type": "markdown",
   "metadata": {},
   "source": [
    "#### W4.10 Repita o exercício 4.9, mas desta vez utilize o faça o merge de tal forma que apareça no resultado somente os registros que cuja chave esteja presente nos dois dataframes."
   ]
  },
  {
   "cell_type": "code",
   "execution_count": null,
   "metadata": {},
   "outputs": [],
   "source": [
    "# Faça aqui\n"
   ]
  },
  {
   "cell_type": "markdown",
   "metadata": {},
   "source": [
    "### Treinando Reshaping / Pivoting (Pivotar)"
   ]
  },
  {
   "cell_type": "markdown",
   "metadata": {},
   "source": [
    "#### W4.11 Pivote o dataframe df_provas a seguir colocando a coluna Aluno como índice, os valores da coluna Disciplina como colunas, e os valores da coluna Objetiva como conteúdo do novo dataframe"
   ]
  },
  {
   "cell_type": "code",
   "execution_count": null,
   "metadata": {},
   "outputs": [],
   "source": [
    "# Considere o seguinte DataFrame\n",
    "table = {\n",
    "    'Aluno': ['AlunoA', 'AlunoA', 'AlunoA', 'AlunoA', 'AlunoB', 'AlunoB', 'AlunoB', 'AlunoB'],\n",
    "    'Disciplina': ['Portugues', 'Matematica', 'Geografia', 'História', 'Portugues', 'Matematica', 'Geografia', 'História'],\n",
    "    'Objetiva': [8.5, 7.5, 9, 10, 8.5, 7.5, 9, 10],\n",
    "    'Discursiva': [6, 6.5, 7.5, 7, 8.5, 7.5, 9, 10]}\n",
    "df_provas = pd.DataFrame(table)"
   ]
  },
  {
   "cell_type": "code",
   "execution_count": null,
   "metadata": {},
   "outputs": [],
   "source": [
    "# Faça aqui\n"
   ]
  },
  {
   "cell_type": "markdown",
   "metadata": {},
   "source": [
    "#### W4.12 Usando o método pivot_table, faça o pivoteamento do dataframe a seguir. Utilize a métrica padrão (mean) sobre a de agregação quando houver valores repetidos com as mesmas chaves na tabela pivotada."
   ]
  },
  {
   "cell_type": "code",
   "execution_count": null,
   "metadata": {},
   "outputs": [],
   "source": [
    "# Considere o seguinte DataFrame\n",
    "table2 = {\n",
    "    'Aluno': ['AlunoA', 'AlunoA', 'AlunoA', 'AlunoA', 'AlunoA', 'AlunoB', 'AlunoB', 'AlunoB', 'AlunoB'],\n",
    "    'Disciplina': ['Portugues', 'Matematica', 'Geografia', 'Geografia', 'História', 'Portugues', 'Matematica', 'Geografia', 'História'],\n",
    "    'Objetiva': [8.5, 7.5, 9, 10, 9, 8.5, 7.5, 9, 10],\n",
    "    'Discursiva': [6, 6.5, 7.5, 7, 8, 8.5, 7.5, 9, 10]}\n",
    "df_provas2 = pd.DataFrame(table2)\n",
    "df_provas2"
   ]
  },
  {
   "cell_type": "code",
   "execution_count": null,
   "metadata": {},
   "outputs": [],
   "source": [
    "# Faça aqui\n"
   ]
  }
 ],
 "metadata": {
  "kernelspec": {
   "display_name": "Python 3",
   "language": "python",
   "name": "python3"
  },
  "language_info": {
   "codemirror_mode": {
    "name": "ipython",
    "version": 3
   },
   "file_extension": ".py",
   "mimetype": "text/x-python",
   "name": "python",
   "nbconvert_exporter": "python",
   "pygments_lexer": "ipython3",
   "version": "3.8.6"
  }
 },
 "nbformat": 4,
 "nbformat_minor": 4
}
