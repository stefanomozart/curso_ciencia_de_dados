{
 "cells": [
  {
   "cell_type": "markdown",
   "metadata": {},
   "source": [
    "# Aula 4 - Exercícios - Pandas, Fontes de dados e Agregação\n",
    "### Consulta a internet (Google, Stackoverflow e etc) liberada!!"
   ]
  },
  {
   "cell_type": "code",
   "execution_count": 1,
   "metadata": {},
   "outputs": [],
   "source": [
    "# Importe as bibliotecas pandas, numpy, glob e sqlalchemy\n",
    "import pandas as pd\n",
    "import numpy as np\n",
    "import sqlalchemy as sqla\n"
   ]
  },
  {
   "cell_type": "markdown",
   "metadata": {},
   "source": [
    "### 4.2 Escreva uma função para salvar um DataFrame num banco de dados SQLite  "
   ]
  },
  {
   "cell_type": "code",
   "execution_count": 2,
   "metadata": {
    "deletable": false,
    "nbgrader": {
     "cell_type": "code",
     "checksum": "60682ca859af98cb2e20dc1960e3fdfc",
     "grade": false,
     "grade_id": "cell-553qe5248eb14bc30",
     "locked": false,
     "schema_version": 3,
     "solution": true,
     "task": false
    }
   },
   "outputs": [],
   "source": [
    "# Dica: A resolução deste exercício é bem semelhante ao código apresentado na Aula\n",
    "\n",
    "def save_to_sqlite(df, table_name, con_str):\n",
    "    \"\"\"salve o dataframe df num banco de dados sqlite especificado por db_path\n",
    "    \"\"\"\n",
    "    con = sqla.create_engine(con_str)\n",
    "    df.to_sql(table_name, con, if_exists=\"replace\")\n"
   ]
  },
  {
   "cell_type": "code",
   "execution_count": 3,
   "metadata": {},
   "outputs": [],
   "source": [
    "## Faça seus testes aqui\n",
    "table_name = None # Escolha o nome da tabela\n",
    "path_idhm = 'https://github.com/alexlopespereira/curso_ciencia_dados2020/raw/master/data/originais/idhm/idhm2013.xlsx'\n",
    "# path_idhm='../../curso_ciencia_dados2020/data/originais/idhm/idhm2013.xlsx'\n",
    "con_str='sqlite:///idhm2013.sqlite'\n",
    "df_idhm = pd.read_excel(path_idhm, sheet_name=\"IDHM\")\n",
    "\n",
    "# Antes de salvar no banco de dados, defina o nome do índice como index. Conforme exemplo abaixo\n",
    "df_idhm.index.names = ['index']\n",
    "\n"
   ]
  },
  {
   "cell_type": "code",
   "execution_count": 4,
   "metadata": {
    "deletable": false,
    "editable": false,
    "nbgrader": {
     "cell_type": "code",
     "checksum": "ce8d173a8ebb2dc5be46f95a418a0c11",
     "grade": true,
     "grade_id": "cell-0e2bh6cefe06bdc60",
     "locked": true,
     "points": 1,
     "schema_version": 3,
     "solution": false,
     "task": false
    }
   },
   "outputs": [],
   "source": [
    "# Validação para nota\n",
    "def load_table(table, con_str):\n",
    "    con = sqla.create_engine(con_str)\n",
    "    return pd.read_sql_query(\"SELECT * from {0}\".format(table), con, index_col='index')\n",
    "    \n",
    "path_idhm='https://github.com/alexlopespereira/curso_ciencia_dados2020/raw/master/data/originais/idhm/idhm2013.xlsx'\n",
    "con_str='sqlite:///idhm2013.sqlite'\n",
    "table_name='IDHM'\n",
    "df_idhm = pd.read_excel(path_idhm, sheet_name=\"IDHM\")\n",
    "\n",
    "df_idhm.index.names = ['index']\n",
    "save_to_sqlite(df_idhm, table_name, con_str) # Função que deve ser implementada pelo aluno\n",
    "idhm_from_db = load_table(table_name, con_str)\n",
    "\n",
    "assert idhm_from_db.equals(df_idhm)"
   ]
  }
 ],
 "metadata": {
  "kernelspec": {
   "display_name": "Python 3",
   "language": "python",
   "name": "python3"
  },
  "language_info": {
   "codemirror_mode": {
    "name": "ipython",
    "version": 3
   },
   "file_extension": ".py",
   "mimetype": "text/x-python",
   "name": "python",
   "nbconvert_exporter": "python",
   "pygments_lexer": "ipython3",
   "version": "3.8.6"
  }
 },
 "nbformat": 4,
 "nbformat_minor": 4
}
