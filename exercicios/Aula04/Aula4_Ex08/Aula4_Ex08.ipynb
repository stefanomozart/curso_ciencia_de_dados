{
 "cells": [
  {
   "cell_type": "markdown",
   "metadata": {},
   "source": [
    "# Aula 4 - Exercícios - Pandas, Fontes de dados e Agregação\n",
    "### Consulta a internet (Google, Stackoverflow e etc) liberada!!"
   ]
  },
  {
   "cell_type": "code",
   "execution_count": 1,
   "metadata": {},
   "outputs": [],
   "source": [
    "# Importe as bibliotecas pandas, numpy, glob e sqlalchemy\n",
    "import pandas as pd\n",
    "import numpy as np\n",
    "import sqlalchemy as sqla"
   ]
  },
  {
   "cell_type": "markdown",
   "metadata": {},
   "source": [
    "### 4.8 Considere algumas linhas de uma base de dados de morbidade apresentadas a seguir. Perceba que há dados de vários meses de 2020 para cada Estado da Federação.\n",
    "#### Escreva uma função para pivotar esta base de dados apresentando os meses do ano nas colunas, os municípios nas linhas e a quantidade de óbitos como valores das células. \n",
    "\n",
    "|       | Município               |   cod_ibge6 | mes   |   ano | mes_ano    | Óbitos   |\n",
    "|------:|:------------------------|------------:|:------|------:|:-----------|:---------|\n",
    "|     0 | Alta Floresta D'Oeste   |      110001 | Abr   |  2020 | 2020-04-01 | 8        |\n",
    "|     1 | Alto Alegre dos Parecis |      110037 | Abr   |  2020 | 2020-04-01 | 1        |\n",
    "|     2 | Alto Paraíso            |      110040 | Abr   |  2020 | 2020-04-01 | 2        |\n",
    "| 33347 | Vila Boa                |      522220 | Jan   |  2020 | 2020-01-01 | -        |\n",
    "| 33348 | Vila Propício           |      522230 | Jan   |  2020 | 2020-01-01 | -        |\n",
    "| 33349 | Brasília                |      530010 | Jan   |  2020 | 2020-01-01 | 578      |\n",
    "\n",
    "#### O resultado esperado é semelhante a este:\n",
    "\n",
    "|   cod_ibge6 | 2020-01-01   |   2020-02-01 |   2020-03-01 | 2020-04-01   | 2020-05-01   | 2020-06-01   |\n",
    "|------------:|-------------:|-------------:|-------------:|-------------:|-------------:|-------------:|\n",
    "|      110001 |  5 |            2 |            3 |  8 | 2            | 2            |\n",
    "|      110002 | 12 |           13 |           16 | 10 | 8            | 7            |\n",
    "|      110003 |  - |            1 |            1 |  - | -            | 2            |\n",
    "|      110004 | 23 |            8 |           29 | 11 | 17           | 13           |\n",
    "|      110005 |  1 |            2 |            2 |  3 | 1            | -            |"
   ]
  },
  {
   "cell_type": "code",
   "execution_count": 2,
   "metadata": {
    "deletable": false,
    "nbgrader": {
     "cell_type": "code",
     "checksum": "9291b0e30fb848e7c19c59e1d67ab3b0",
     "grade": false,
     "grade_id": "cell-553e52r48eb14bc30",
     "locked": false,
     "schema_version": 3,
     "solution": true,
     "task": false
    }
   },
   "outputs": [],
   "source": [
    "# Dica 1: Sempre dê preferência para fazer agregação usando códigos como identificador, \n",
    "#         use nomes em ultimo caso quando não houver códigos identificadores. \n",
    "# Dica 2: Se você usar o atributo 'mes_ano' para pivotar, o pandas já ordena de forma cronológica as colunas.\n",
    "def pivot_morbidade(file_path):\n",
    "    \"\"\"retorne um dataframe pivotado\n",
    "    \"\"\"\n",
    "    df = pd.read_csv(path_morbidade, sep=\";\")\n",
    "    return df.pivot(index='cod_ibge6', columns='mes_ano', values='Óbitos')\n"
   ]
  },
  {
   "cell_type": "code",
   "execution_count": 3,
   "metadata": {},
   "outputs": [
    {
     "data": {
      "text/plain": [
       "{'2020-01-01': 5.0,\n",
       " '2020-02-01': 2.0,\n",
       " '2020-03-01': 3.0,\n",
       " '2020-04-01': 8.0,\n",
       " '2020-05-01': 2.0,\n",
       " '2020-06-01': 2.0}"
      ]
     },
     "execution_count": 3,
     "metadata": {},
     "output_type": "execute_result"
    }
   ],
   "source": [
    "## Faça seus testes aqui\n",
    "# path_morbidade = 'https://github.com/alexlopespereira/curso_ciencia_dados2020/raw/master/data/originais/morbidade/consolidado/morbidade_simplificado.csv'\n",
    "path_morbidade = '../../curso_ciencia_dados2020/data/originais/morbidade/consolidado/morbidade_simplificado.csv'\n",
    "\n",
    "df = pd.read_csv(path_morbidade, sep=\";\", na_values='-')\n",
    "pivoted = df.pivot(index='cod_ibge6', columns='mes_ano', values='Óbitos')\n",
    "pivoted.loc[110001].to_dict()"
   ]
  },
  {
   "cell_type": "code",
   "execution_count": 4,
   "metadata": {
    "deletable": false,
    "editable": false,
    "nbgrader": {
     "cell_type": "code",
     "checksum": "d4d9b41ee77bebf81e726a454e267adf",
     "grade": true,
     "grade_id": "cell-0e2b6tcefe06bdc60",
     "locked": true,
     "points": 1,
     "schema_version": 3,
     "solution": false,
     "task": false
    }
   },
   "outputs": [],
   "source": [
    "# Validação para nota\n",
    "path_morbidade = 'https://github.com/alexlopespereira/curso_ciencia_dados2020/raw/master/data/originais/morbidade/consolidado/morbidade_simplificado.csv'\n",
    "test_data = {'2020-01-01': '5', '2020-02-01': '2', '2020-03-01': '3', '2020-04-01': '8', '2020-05-01': '2', \n",
    "             '2020-06-01': '2'}\n",
    "assert pivot_morbidade(path_morbidade).loc[110001].to_dict() == test_data\n"
   ]
  }
 ],
 "metadata": {
  "kernelspec": {
   "display_name": "Python 3",
   "language": "python",
   "name": "python3"
  },
  "language_info": {
   "codemirror_mode": {
    "name": "ipython",
    "version": 3
   },
   "file_extension": ".py",
   "mimetype": "text/x-python",
   "name": "python",
   "nbconvert_exporter": "python",
   "pygments_lexer": "ipython3",
   "version": "3.8.6"
  }
 },
 "nbformat": 4,
 "nbformat_minor": 4
}
