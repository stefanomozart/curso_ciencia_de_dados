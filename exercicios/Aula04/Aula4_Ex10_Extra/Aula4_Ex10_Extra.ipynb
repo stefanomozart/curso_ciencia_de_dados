{
 "cells": [
  {
   "cell_type": "markdown",
   "metadata": {},
   "source": [
    "# Aula 4 - Exercícios Extra - Pandas, Fontes de dados e Agregação\n",
    "### Consulta a internet (Google, Stackoverflow e etc) liberada!!"
   ]
  },
  {
   "cell_type": "code",
   "execution_count": 1,
   "metadata": {},
   "outputs": [],
   "source": [
    "# Importe as bibliotecas pandas, numpy, glob e sqlalchemy\n",
    "import pandas as pd\n",
    "import numpy as np\n"
   ]
  },
  {
   "cell_type": "markdown",
   "metadata": {},
   "source": [
    "### 4.10 Escreva uma função para gerar uma permutação (aleatória) de uma lista e colocar o resultado num dataframe com os elementos da lista agrupados em grupos de tamanho N (Ex.: N=4). \n",
    "#### A coluna de índices deve conter o nome dos grupos. Os nomes dos grupos devem seguir a seguinte regra: Grupo 1, Grupo 2, Grupo 3,..., Grupo K.\n",
    "#### Veja como ficaria o resultado para o exemplo a seguir com uma lista de 9 elementos e tamanho N=4.\n",
    "\n",
    "|         | 0                  |\n",
    "|:--------|:-------------------|\n",
    "| Grupo 0 | Julie Lewis        |\n",
    "| Grupo 0 | Mary Phinney       |\n",
    "| Grupo 0 | Gilbert Ravenell   |\n",
    "| Grupo 0 | Jillian Brennan    |\n",
    "| Grupo 1 | Michelle Humphreys |\n",
    "| Grupo 1 | Kimberly Ransome   |\n",
    "| Grupo 1 | Lisa Watson        |\n",
    "| Grupo 1 | Jennifer Daniels   |\n",
    "| Grupo 2 | Olga Crocker       |"
   ]
  },
  {
   "cell_type": "code",
   "execution_count": 2,
   "metadata": {
    "deletable": false,
    "nbgrader": {
     "cell_type": "code",
     "checksum": "af70937774159de18b7c6072e191c434",
     "grade": false,
     "grade_id": "cell-553qe5248eb14bc30",
     "locked": false,
     "schema_version": 3,
     "solution": true,
     "task": false
    }
   },
   "outputs": [],
   "source": [
    "# Dica 1: A função len calcula o tamanho de uma lista.\n",
    "# Dica 2: Use a função math.ceil(N/n), onde N é o tamanho da lista e n é a quantidade\n",
    "#         de pessoas em cada grupo\n",
    "\n",
    "def create_groups(names_list, n):\n",
    "    \"\"\"Crie um dataframe com os nomes da lista names_list agrupados em grupos de tamanho n.\n",
    "    \"\"\"\n",
    "    # permuta os nomes\n",
    "    from random import shuffle\n",
    "    shuffle(names_list)\n",
    "    \n",
    "    # cria o indice\n",
    "    indice_grupo = []\n",
    "    g = 0 \n",
    "    for i in range(1, len(names_list)+1):\n",
    "        indice_grupo.append(f'Grupo {g}')\n",
    "        if i > 0 and i % n == 0:\n",
    "            g += 1\n",
    "    \n",
    "    # monta o dataframe\n",
    "    return pd.DataFrame({'nome': names_list}, index=indice_grupo)"
   ]
  },
  {
   "cell_type": "code",
   "execution_count": 3,
   "metadata": {},
   "outputs": [
    {
     "data": {
      "text/html": [
       "<div>\n",
       "<style scoped>\n",
       "    .dataframe tbody tr th:only-of-type {\n",
       "        vertical-align: middle;\n",
       "    }\n",
       "\n",
       "    .dataframe tbody tr th {\n",
       "        vertical-align: top;\n",
       "    }\n",
       "\n",
       "    .dataframe thead th {\n",
       "        text-align: right;\n",
       "    }\n",
       "</style>\n",
       "<table border=\"1\" class=\"dataframe\">\n",
       "  <thead>\n",
       "    <tr style=\"text-align: right;\">\n",
       "      <th></th>\n",
       "      <th>nome</th>\n",
       "    </tr>\n",
       "  </thead>\n",
       "  <tbody>\n",
       "    <tr>\n",
       "      <th>Grupo 0</th>\n",
       "      <td>Robert Mercer</td>\n",
       "    </tr>\n",
       "    <tr>\n",
       "      <th>Grupo 0</th>\n",
       "      <td>Luis Waldrep</td>\n",
       "    </tr>\n",
       "    <tr>\n",
       "      <th>Grupo 0</th>\n",
       "      <td>Carole Fields</td>\n",
       "    </tr>\n",
       "    <tr>\n",
       "      <th>Grupo 0</th>\n",
       "      <td>Anthony Fajardo</td>\n",
       "    </tr>\n",
       "    <tr>\n",
       "      <th>Grupo 1</th>\n",
       "      <td>Wayne Morales</td>\n",
       "    </tr>\n",
       "    <tr>\n",
       "      <th>Grupo 1</th>\n",
       "      <td>Maricela Gilbert</td>\n",
       "    </tr>\n",
       "    <tr>\n",
       "      <th>Grupo 1</th>\n",
       "      <td>Daniel Corrado</td>\n",
       "    </tr>\n",
       "    <tr>\n",
       "      <th>Grupo 1</th>\n",
       "      <td>Karen Guarnera</td>\n",
       "    </tr>\n",
       "    <tr>\n",
       "      <th>Grupo 2</th>\n",
       "      <td>Edmund Straub</td>\n",
       "    </tr>\n",
       "  </tbody>\n",
       "</table>\n",
       "</div>"
      ],
      "text/plain": [
       "                     nome\n",
       "Grupo 0     Robert Mercer\n",
       "Grupo 0      Luis Waldrep\n",
       "Grupo 0     Carole Fields\n",
       "Grupo 0   Anthony Fajardo\n",
       "Grupo 1     Wayne Morales\n",
       "Grupo 1  Maricela Gilbert\n",
       "Grupo 1    Daniel Corrado\n",
       "Grupo 1    Karen Guarnera\n",
       "Grupo 2     Edmund Straub"
      ]
     },
     "execution_count": 3,
     "metadata": {},
     "output_type": "execute_result"
    }
   ],
   "source": [
    "## Faça seus testes aqui\n",
    "import names\n",
    "test_data = [names.get_full_name() for n in range(9)]\n",
    "\n",
    "create_groups(test_data, 4)"
   ]
  },
  {
   "cell_type": "code",
   "execution_count": 4,
   "metadata": {
    "deletable": false,
    "editable": false,
    "nbgrader": {
     "cell_type": "code",
     "checksum": "e25e2d5c34dae55eb28bb9ad6ef3c19d",
     "grade": true,
     "grade_id": "cell-0e2bh6cefe06bdc60",
     "locked": true,
     "points": 1,
     "schema_version": 3,
     "solution": false,
     "task": false
    }
   },
   "outputs": [],
   "source": [
    "# Validação para nota\n",
    "import names\n",
    "N = 9\n",
    "group_length = 4\n",
    "test_data = [names.get_full_name() for n in range(N)]\n",
    "result = ['Grupo 0', 'Grupo 0', 'Grupo 0', 'Grupo 0', 'Grupo 1', 'Grupo 1', 'Grupo 1', 'Grupo 1', 'Grupo 2']\n",
    "df = create_groups(test_data, group_length)\n",
    "\n",
    "assert df.index.to_list() == result"
   ]
  }
 ],
 "metadata": {
  "kernelspec": {
   "display_name": "Python 3",
   "language": "python",
   "name": "python3"
  },
  "language_info": {
   "codemirror_mode": {
    "name": "ipython",
    "version": 3
   },
   "file_extension": ".py",
   "mimetype": "text/x-python",
   "name": "python",
   "nbconvert_exporter": "python",
   "pygments_lexer": "ipython3",
   "version": "3.8.6"
  }
 },
 "nbformat": 4,
 "nbformat_minor": 4
}
