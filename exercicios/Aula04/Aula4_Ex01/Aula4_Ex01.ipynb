{
 "cells": [
  {
   "cell_type": "markdown",
   "metadata": {},
   "source": [
    "# Aula 4 - Exercícios - Pandas, Fontes de dados e Agregação\n",
    "### Consulta a internet (Google, Stackoverflow e etc) liberada!!"
   ]
  },
  {
   "cell_type": "code",
   "execution_count": 1,
   "metadata": {},
   "outputs": [],
   "source": [
    "#Fazer o download dos datasets\n",
    "# Se já tiver feito o download, não precisa fazer novamente.\n",
    "# Se aparecer um erro dizendo que a pasta não está vazia é porque o download já foi feito\n",
    "#!git clone https://github.com/alexlopespereira/curso_ciencia_dados2020.git ../../curso_ciencia_dados2020"
   ]
  },
  {
   "cell_type": "code",
   "execution_count": 2,
   "metadata": {},
   "outputs": [],
   "source": [
    "# Importe as bibliotecas pandas, numpy, glob e sqlalchemy\n",
    "import pandas as pd\n",
    "import numpy as np"
   ]
  },
  {
   "cell_type": "markdown",
   "metadata": {},
   "source": [
    "### 4.1 Carregue o arquivo do IDEB 2017 no formato de um DataFrame.  Crie uma função para calcular a média do IDEB de 2017 de todos os municípios de um determinado Estado. \n",
    "#### Remova os registros cujo valor na coluna REDE sejam Municipal, Estadual ou Federal. Deixe somente os registros cujos valores na coluna REDE sejam Pública.\n"
   ]
  },
  {
   "cell_type": "code",
   "execution_count": 3,
   "metadata": {
    "deletable": false,
    "nbgrader": {
     "cell_type": "code",
     "checksum": "be3500a271775b4944069ee6f24f8139",
     "grade": false,
     "grade_id": "cell-c705ab9d11473b9f9",
     "locked": false,
     "schema_version": 3,
     "solution": true,
     "task": false
    }
   },
   "outputs": [],
   "source": [
    "# Dica 1: Antes de calcular, certifique-se de interpretar os valores '-' como NA durante \n",
    "#         o carregamento dos dados ou os substitua por np.nan (NA) com o metodo replace.\n",
    "# Dica 2: Use a função loc para fazer o filtro de registros.\n",
    "# Dica 3: Dentre várias maneiras possíveis, uma maneira bastante concisa é usar o operador & (and) para\n",
    "# congregar dois critérios de filtro (seleção) de registros.\n",
    "def media_ideb(df, sigla_estado):\n",
    "    \"\"\"retorne o valor da media do IDEB de 2017 contido na coluna col do Estado especificado por sigla_estado.\n",
    "    \"\"\"\n",
    "    return df.loc[(df.SG_UF==sigla_estado) & (df.REDE=='Pública'), 'IDEB12_17'].mean()\n"
   ]
  },
  {
   "cell_type": "code",
   "execution_count": 4,
   "metadata": {},
   "outputs": [],
   "source": [
    "## Faça seus testes aqui\n",
    "path_ideb='../../curso_ciencia_dados2020/data/originais/ideb/ideb_municipios2017.xlsx'\n",
    "\n",
    "df_ideb = pd.read_excel(path_ideb, skiprows = 9, skipfooter=3, na_values=['-'])"
   ]
  },
  {
   "cell_type": "code",
   "execution_count": 5,
   "metadata": {
    "deletable": false,
    "editable": false,
    "nbgrader": {
     "cell_type": "code",
     "checksum": "9eecde1fec5b28f9da56828ee2863b98",
     "grade": true,
     "grade_id": "cell-9ffdsa88d58e9282a",
     "locked": true,
     "points": 1,
     "schema_version": 3,
     "solution": false,
     "task": false
    }
   },
   "outputs": [],
   "source": [
    "# Validação para nota\n",
    "###################################\n",
    "### ATENÇÃO PARA ESTA INSTRUÇÃO ###\n",
    "# Crie na célula anterior um dataframe df_ideb. \n",
    "# Use os argumentos skiprows, na_values e skipfooter para carregar a tabela corretamente.\n",
    "###################################\n",
    "assert round(media_ideb(df_ideb, 'DF'),1) == 3.4\n",
    "assert round(media_ideb(df_ideb, 'SP'),1) == 4.0\n",
    "assert round(media_ideb(df_ideb, 'GO'),1) == 4.2"
   ]
  }
 ],
 "metadata": {
  "kernelspec": {
   "display_name": "Python 3",
   "language": "python",
   "name": "python3"
  },
  "language_info": {
   "codemirror_mode": {
    "name": "ipython",
    "version": 3
   },
   "file_extension": ".py",
   "mimetype": "text/x-python",
   "name": "python",
   "nbconvert_exporter": "python",
   "pygments_lexer": "ipython3",
   "version": "3.8.6"
  }
 },
 "nbformat": 4,
 "nbformat_minor": 4
}
