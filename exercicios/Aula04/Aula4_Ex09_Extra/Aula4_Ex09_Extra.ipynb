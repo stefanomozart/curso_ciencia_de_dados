{
 "cells": [
  {
   "cell_type": "markdown",
   "metadata": {},
   "source": [
    "# Aula 4 - Exercícios Extra - Pandas, Fontes de dados e Agregação\n",
    "### Consulta a internet (Google, Stackoverflow e etc) liberada!!"
   ]
  },
  {
   "cell_type": "code",
   "execution_count": 1,
   "metadata": {},
   "outputs": [],
   "source": [
    "# Importe as bibliotecas pandas, numpy, glob e sqlalchemy\n",
    "import pandas as pd\n",
    "import numpy as np\n"
   ]
  },
  {
   "cell_type": "markdown",
   "metadata": {},
   "source": [
    "### 4.9 Construa uma função para concatenar (verticalmente) o conteúdo de vários arquivos CSV do dataset de morbidade. Esses arquivos contêm dados com colunas compatíveis.\n",
    "#### Extraia a data do cabeçalho do arquivo. Divida a coluna 'Município' em duas outras contendo o código ibge de 6 caracteres e o nome do município.\n",
    "\n"
   ]
  },
  {
   "cell_type": "code",
   "execution_count": 2,
   "metadata": {
    "deletable": false,
    "nbgrader": {
     "cell_type": "code",
     "checksum": "ed763f9213fcbbf7d06a5bdbb3ad9487",
     "grade": false,
     "grade_id": "cell-c705ab9d11473b9f9",
     "locked": false,
     "schema_version": 3,
     "solution": true,
     "task": false
    }
   },
   "outputs": [],
   "source": [
    "# Dica 1: Construa uma lista de arquivos presentes num diretório usando a função glob da biblioteca glob\n",
    "# Dica 2: Num loop, leia os arquivo duas vezes. Na primeira vez, pra carregar somente a parte desejada do cabeçalho,\n",
    "#         onde se encontra o mês/ano do respectivo arquivo, utilize o parâmetro nrows. Preste atenção ao separador \n",
    "#         dos arquivos CSV, é um ponto e vírgula.\n",
    "# Dica 3: O método split pode dividir uma string na posição de um caracter especificado.\n",
    "# Dica 4: Se quiser converter o nome do mês para o seu número, você precisa ajustar a configuração de locale\n",
    "#         do python para 'pt_BR'. Use o código a seguir para fazer esta operação.\n",
    "#            import locale\n",
    "#            locale.setlocale(locale.LC_ALL, 'pt_BR')\n",
    "# Dica 5: O código strptime(nome_mes,'%b').tm_mon converte nome do mês no seu respectivo número de 1 a 12\n",
    "# Dica 6: Para criar uma data a partir dos seus atributos use um código semelhante ao exemplo a seguir\n",
    "#            import datetime\n",
    "#            datetime.date(year=2020, month=1, day=1)\n",
    "# Dica 7: Para construir uma nova coluna aplicando uma regra para cada célula use a função apply e construa uma\n",
    "#         função lambda.\n",
    "# Dica 8: O método join de uma string consegue unir, com um caracter separador, o conteúdo de uma lista de \n",
    "#         elementos numa string. Exemplo: ' '.join(lista_exemplo), produz uma string concatenando com um espaçao\n",
    "#         os elementos da lista_exemplo. Pode ser útil para isolar o nome do município.\n",
    "# Dica 9: Adicione todos os dataframes construídos dentro do loop a uma lista e depois use o método concat para \n",
    "#         concatenar os dataframes verticalmente. Use o parâmetro ignore_index=True para ignorar o índice dos \n",
    "#         dataframes.\n",
    "\n",
    "def concat_morbidade(files_path):\n",
    "    \"\"\"Retorne um dataframe com a concatenação vertical dos dados dos arquivos do diretorio dir_path\n",
    "    \"\"\"\n",
    "    import glob\n",
    "    from time import strptime\n",
    "    import datetime\n",
    "    import locale\n",
    "    locale.setlocale(locale.LC_ALL, 'pt_BR.utf8')\n",
    "    \n",
    "    partes = []\n",
    "    for file in glob.glob(files_path):\n",
    "        periodo = pd.read_csv(file, encoding='latin1', skiprows=2, nrows=1)\n",
    "        mes_ano = periodo.columns.values[0].split(':')[1]\n",
    "        mes, ano = mes_ano.split('/')\n",
    "        frame = pd.read_csv(file, encoding='latin1', skiprows=3, sep=';', skipfooter=7, engine='python')\n",
    "        frame['mes'] = mes\n",
    "        frame['ano'] = ano\n",
    "        frame['mes_ano'] = datetime.date(year=int(ano), month=strptime(mes,'%b').tm_mon, day=1)\n",
    "        frame['cod_ibge6'] = frame['Município'].apply(lambda x: x.split(' ')[0]) \n",
    "        frame['Município'] = frame['Município'].apply(lambda x: ' '.join(x.split(' ')[1:])) \n",
    "        partes.append(frame)\n",
    "        \n",
    "    # Concatena tudo num único DataFrame    \n",
    "    return pd.concat(partes, ignore_index=True)\n"
   ]
  },
  {
   "cell_type": "code",
   "execution_count": 3,
   "metadata": {},
   "outputs": [],
   "source": [
    "# Solução 2, usando pandas.DataFrame.append\n",
    "def concat_morbidade(files_path):\n",
    "    \"\"\"Retorne um dataframe com a concatenação vertical dos dados dos arquivos do diretorio dir_path\n",
    "    \"\"\"\n",
    "    import glob\n",
    "    from time import strptime\n",
    "    import datetime\n",
    "    import locale\n",
    "    locale.setlocale(locale.LC_ALL, 'pt_BR.utf8')\n",
    "    \n",
    "    ret = pd.DataFrame()\n",
    "    for file in glob.glob(files_path):\n",
    "        periodo = pd.read_csv(file, encoding='latin1', skiprows=2, nrows=1)\n",
    "        mes_ano = periodo.columns.values[0].split(':')[1]\n",
    "        mes, ano = mes_ano.split('/')\n",
    "        frame = pd.read_csv(file, encoding='latin1', skiprows=3, sep=';', skipfooter=7, engine='python')\n",
    "        frame['mes'] = mes\n",
    "        frame['ano'] = ano\n",
    "        frame['mes_ano'] = datetime.date(year=int(ano), month=strptime(mes,'%b').tm_mon, day=1)\n",
    "        frame['cod_ibge6'] = frame['Município'].apply(lambda x: x.split(' ')[0]) \n",
    "        frame['Município'] = frame['Município'].apply(lambda x: ' '.join(x.split(' ')[1:])) \n",
    "        ret = ret.append(frame, ignore_index=True)\n",
    "    \n",
    "    return ret\n"
   ]
  },
  {
   "cell_type": "code",
   "execution_count": 4,
   "metadata": {},
   "outputs": [],
   "source": [
    "## Faça seus testes aqui\n",
    "files_path = '../../curso_ciencia_dados2020/data/originais/morbidade/2020/*.csv'\n",
    "\n"
   ]
  },
  {
   "cell_type": "code",
   "execution_count": 5,
   "metadata": {
    "deletable": false,
    "editable": false,
    "nbgrader": {
     "cell_type": "code",
     "checksum": "deaeee265acf5af178691279d6104eaf",
     "grade": true,
     "grade_id": "cell-9ffdsa88d58e9282a",
     "locked": true,
     "points": 1,
     "schema_version": 3,
     "solution": false,
     "task": false
    }
   },
   "outputs": [],
   "source": [
    "# Validação para nota\n",
    "files_path = '../../curso_ciencia_dados2020/data/originais/morbidade/2020/*.csv'\n",
    "test_data = set(['10899,59', '16793,57', '6585,96', '7446,97', '19054,46', '11462,34'])\n",
    "morbidade = concat_morbidade(files_path)\n",
    "slice_dict = set(morbidade.loc[morbidade['cod_ibge6']=='522230', 'Valor_total'].to_dict().values())\n",
    "\n",
    "assert slice_dict == test_data"
   ]
  }
 ],
 "metadata": {
  "kernelspec": {
   "display_name": "Python 3",
   "language": "python",
   "name": "python3"
  },
  "language_info": {
   "codemirror_mode": {
    "name": "ipython",
    "version": 3
   },
   "file_extension": ".py",
   "mimetype": "text/x-python",
   "name": "python",
   "nbconvert_exporter": "python",
   "pygments_lexer": "ipython3",
   "version": "3.8.6"
  }
 },
 "nbformat": 4,
 "nbformat_minor": 4
}
