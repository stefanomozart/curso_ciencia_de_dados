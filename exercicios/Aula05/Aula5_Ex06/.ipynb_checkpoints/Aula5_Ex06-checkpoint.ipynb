{
 "cells": [
  {
   "cell_type": "markdown",
   "metadata": {},
   "source": [
    "# Aula 5 - Exercícios - Agregação com Pandas e Conceitos de Estatística\n",
    "### Consulta a internet (Google, Stackoverflow e etc) liberada!!"
   ]
  },
  {
   "cell_type": "code",
   "execution_count": 1,
   "metadata": {
    "ExecuteTime": {
     "end_time": "2020-11-16T17:57:49.685413Z",
     "start_time": "2020-11-16T17:57:49.471640Z"
    }
   },
   "outputs": [],
   "source": [
    "# Importe a biblioteca pandas\n",
    "import pandas as pd\n",
    "import numpy as np"
   ]
  },
  {
   "cell_type": "markdown",
   "metadata": {},
   "source": [
    "### 5.6 Escreva uma função para realizar o agrupamento do dataset de morbidade por UF e por município aplicando a soma sobre as colunas Valor_total, Internações e Dias_permanência. Em seguida calcule, para todos os municípios nesta agregação, o custo médio diário das internações com a seguite fórmula: \n",
    "#### custo_medio_diario_intern = Valor_total/Dias_permanência"
   ]
  },
  {
   "cell_type": "code",
   "execution_count": 2,
   "metadata": {
    "ExecuteTime": {
     "end_time": "2020-11-16T17:57:49.691142Z",
     "start_time": "2020-11-16T17:57:49.686918Z"
    },
    "nbgrader": {
     "grade": false,
     "grade_id": "cell-5b4dc5640fc839be",
     "locked": false,
     "schema_version": 3,
     "solution": true,
     "task": false
    }
   },
   "outputs": [],
   "source": [
    "# Dica: Faça a agregação usando um dicionário que mapeia a coluna e a respectiva métrica de\n",
    "#       agregação solicitada no enunciado.\n",
    "def custo_medio_internacao_agregado(df_morbidade_pop):\n",
    "    \"\"\"retorne o merge dos datasets de população e morbidade.\n",
    "    \"\"\"\n",
    "    df = df_morbidade_pop.groupby(['uf','municipio']).agg({'Valor_total': 'sum', 'Internações': 'sum', 'Dias_permanência': 'sum'})\n",
    "    df['custo_medio_diario_intern'] = df['Valor_total']/df['Dias_permanência']\n",
    "    return df"
   ]
  },
  {
   "cell_type": "code",
   "execution_count": 3,
   "metadata": {
    "ExecuteTime": {
     "end_time": "2020-11-16T17:57:49.699195Z",
     "start_time": "2020-11-16T17:57:49.692642Z"
    }
   },
   "outputs": [],
   "source": [
    "# Faça seus testes aqui\n"
   ]
  },
  {
   "cell_type": "code",
   "execution_count": 4,
   "metadata": {
    "ExecuteTime": {
     "end_time": "2020-11-16T17:57:50.521155Z",
     "start_time": "2020-11-16T17:57:49.700348Z"
    },
    "nbgrader": {
     "grade": true,
     "grade_id": "cell-eee2219340bc517c",
     "locked": true,
     "points": 1,
     "schema_version": 3,
     "solution": false,
     "task": false
    }
   },
   "outputs": [],
   "source": [
    "# Validação para nota\n",
    "%run ../Aula5_Ex05/Aula5_Ex05.ipynb\n",
    "test_data = {'Valor_total': 583634.7,\n",
    " 'Internações': 447.0,\n",
    " 'Dias_permanência': 2208.0,\n",
    " 'custo_medio_diario_intern': 264.3}\n",
    "\n",
    "df_morbidade_pop = merge_morbidade_pop(path_pop, path_morbidade)\n",
    "data_abadia_go = custo_medio_internacao_agregado(df_morbidade_pop).loc['GO','Abadia de Goiás']\n",
    "data_abadia_go = data_abadia_go.apply(lambda x: round(x, 1))\n",
    "\n",
    "assert data_abadia_go.to_dict() == test_data"
   ]
  }
 ],
 "metadata": {
  "celltoolbar": "Create Assignment",
  "kernelspec": {
   "display_name": "Python 3",
   "language": "python",
   "name": "python3"
  },
  "language_info": {
   "codemirror_mode": {
    "name": "ipython",
    "version": 3
   },
   "file_extension": ".py",
   "mimetype": "text/x-python",
   "name": "python",
   "nbconvert_exporter": "python",
   "pygments_lexer": "ipython3",
   "version": "3.8.6"
  }
 },
 "nbformat": 4,
 "nbformat_minor": 4
}
