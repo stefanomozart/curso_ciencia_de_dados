{
 "cells": [
  {
   "cell_type": "markdown",
   "metadata": {},
   "source": [
    "# Aula 5 - Exercícios - Agregação com Pandas e Conceitos de Estatística\n",
    "### Consulta a internet (Google, Stackoverflow e etc) liberada!!"
   ]
  },
  {
   "cell_type": "code",
   "execution_count": 9,
   "metadata": {
    "ExecuteTime": {
     "end_time": "2020-11-25T19:11:03.620136Z",
     "start_time": "2020-11-25T19:11:03.615916Z"
    }
   },
   "outputs": [],
   "source": [
    "# Importe a biblioteca pandas\n",
    "import pandas as pd\n",
    "import numpy as np"
   ]
  },
  {
   "cell_type": "markdown",
   "metadata": {},
   "source": [
    "### 5.1 Escreva uma função para ler os dados de PIB e população dos datasets disponibilizados e retornar um dataframe com a agregação por Estados e as métricas soma, média e mediana do PIB de 2017 e da população de todos os Estados brasileiros.\n",
    "#### Você pode se basear na sua resolução dos exercícios da Aula 3.\n"
   ]
  },
  {
   "cell_type": "code",
   "execution_count": 10,
   "metadata": {
    "ExecuteTime": {
     "end_time": "2020-11-25T19:11:04.911851Z",
     "start_time": "2020-11-25T19:11:04.896574Z"
    },
    "deletable": false,
    "nbgrader": {
     "cell_type": "code",
     "checksum": "09a1c3a73612084a3041c46b6120e674",
     "grade": false,
     "grade_id": "cell-c705ab9d11473b9f9",
     "locked": false,
     "schema_version": 3,
     "solution": true,
     "task": false
    }
   },
   "outputs": [],
   "source": [
    "# Dica: Baseie seu código na sua solução do exercício da aula 3 que faz o merge dos\n",
    "#       datasets do PIB e da população.\n",
    "def merge_pop_pib(path_pop, path_pib):\n",
    "    \"\"\"retorne um dataframe resultante do merge dos dados do pib e da população\n",
    "    \"\"\"\n",
    "    df_pop = pd.read_excel(path_pop, sheet_name=\"Municipios\", dtype={'cod_munic': str, 'cod_uf': str})\n",
    "    df_pop['cod_ibge7'] = df_pop.cod_uf + df_pop.cod_munic\n",
    "    \n",
    "    df_pib = pd.read_excel(path_pib, skiprows=3, skipfooter=1, dtype={'Unnamed: 1': str})\n",
    "    df_pib.rename(columns={'Unnamed: 0': 'nivel', 'Unnamed: 1': 'cod_ibge7', \n",
    "                           'Unnamed: 2': 'municipio'}, inplace=True)\n",
    "    \n",
    "    return pd.merge(df_pop, df_pib, on='cod_ibge7')\n",
    "\n",
    "def aggregate_pib_pop(path_pop, path_pib):\n",
    "    \"\"\"retorne um dataframe com a agregação por Estados e as métricas soma, média, mediana\n",
    "       e o desvio padrão do PIB de 2017 e da população de todos os Estados brasileiros.\n",
    "    \"\"\"\n",
    "    pib_pop = merge_pop_pib(path_pop, path_pib)\n",
    "    return pib_pop.groupby('uf').agg({'pop2017': ['sum', 'mean', 'median', 'std'], '2017': ['sum', 'mean', 'median', 'std']})\n"
   ]
  },
  {
   "cell_type": "code",
   "execution_count": 14,
   "metadata": {
    "ExecuteTime": {
     "end_time": "2020-11-25T19:15:35.315030Z",
     "start_time": "2020-11-25T19:15:34.432261Z"
    }
   },
   "outputs": [
    {
     "data": {
      "text/plain": [
       "{('pop2017', 'sum'): 829619.0,\n",
       " ('pop2017', 'mean'): 37710.0,\n",
       " ('pop2017', 'median'): 17903.5,\n",
       " ('pop2017', 'std'): 79036.0,\n",
       " ('2017', 'sum'): 14271061.0,\n",
       " ('2017', 'mean'): 648684.6,\n",
       " ('2017', 'median'): 229775.0,\n",
       " ('2017', 'std'): 1695166.9}"
      ]
     },
     "metadata": {},
     "output_type": "display_data"
    },
    {
     "name": "stdout",
     "output_type": "stream",
     "text": [
      "True\n"
     ]
    }
   ],
   "source": [
    "## Faça seus testes aqui\n",
    "# path_pib = 'https://github.com/alexlopespereira/curso_ciencia_dados2020/raw/master/data/originais/pib/pib_municipios.xlsx'\n",
    "# path_pop='https://github.com/alexlopespereira/curso_ciencia_dados2020/raw/master/data/originais/populacao/estimativa_dou_2017.xlsx'\n",
    "\n",
    "path_pib = '../../curso_ciencia_dados2020/data/originais/pib/pib_municipios.xlsx'\n",
    "path_pop='../../curso_ciencia_dados2020/data/originais/populacao/estimativa_dou_2017.xlsx'\n",
    "\n",
    "test_data = {('pop2017', 'sum'): 829619.0,\n",
    " ('pop2017', 'mean'): 37710.0,\n",
    " ('pop2017', 'median'): 17903.5,\n",
    " ('pop2017', 'std'): 79036.0,\n",
    " ('2017', 'sum'): 14271061.0,\n",
    " ('2017', 'mean'): 648684.6,\n",
    " ('2017', 'median'): 229775.0,\n",
    " ('2017', 'std'): 1695166.9}\n",
    "results_ac = aggregate_pib_pop(path_pop, path_pib).loc['AC'].apply(lambda x: round(x,1))\n",
    "\n",
    "display(results_ac.to_dict())\n",
    "print(results_ac.to_dict() == test_data)"
   ]
  },
  {
   "cell_type": "code",
   "execution_count": 12,
   "metadata": {
    "ExecuteTime": {
     "end_time": "2020-11-25T19:12:09.287349Z",
     "start_time": "2020-11-25T19:11:52.097472Z"
    },
    "deletable": false,
    "editable": false,
    "nbgrader": {
     "cell_type": "code",
     "checksum": "12f8823e481ad739789f5578d0a58b62",
     "grade": true,
     "grade_id": "cell-9ffdsa88d58e9282a",
     "locked": true,
     "points": 1,
     "schema_version": 3,
     "solution": false,
     "task": false
    }
   },
   "outputs": [],
   "source": [
    "# Validação para nota\n",
    "path_pib = 'https://github.com/alexlopespereira/curso_ciencia_dados2020/raw/master/data/originais/pib/pib_municipios.xlsx'\n",
    "path_pop='https://github.com/alexlopespereira/curso_ciencia_dados2020/raw/master/data/originais/populacao/estimativa_dou_2017.xlsx'\n",
    "\n",
    "test_data = {('pop2017', 'sum'): 829619.0,\n",
    " ('pop2017', 'mean'): 37710.0,\n",
    " ('pop2017', 'median'): 17903.5,\n",
    " ('pop2017', 'std'): 79036.0,\n",
    " ('2017', 'sum'): 14271061.0,\n",
    " ('2017', 'mean'): 648684.6,\n",
    " ('2017', 'median'): 229775.0,\n",
    " ('2017', 'std'): 1695166.9}\n",
    "results_ac = aggregate_pib_pop(path_pop, path_pib).loc['AC'].apply(lambda x: round(x,1))\n",
    "\n",
    "assert results_ac.to_dict() == test_data"
   ]
  }
 ],
 "metadata": {
  "kernelspec": {
   "display_name": "Python 3",
   "language": "python",
   "name": "python3"
  },
  "language_info": {
   "codemirror_mode": {
    "name": "ipython",
    "version": 3
   },
   "file_extension": ".py",
   "mimetype": "text/x-python",
   "name": "python",
   "nbconvert_exporter": "python",
   "pygments_lexer": "ipython3",
   "version": "3.8.6"
  }
 },
 "nbformat": 4,
 "nbformat_minor": 4
}
