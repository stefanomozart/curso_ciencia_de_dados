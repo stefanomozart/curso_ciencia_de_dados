{
 "cells": [
  {
   "cell_type": "markdown",
   "metadata": {},
   "source": [
    "# Aula 5 - Exercícios - Agregação com Pandas e Conceitos de Estatística\n",
    "### Consulta a internet (Google, Stackoverflow e etc) liberada!!"
   ]
  },
  {
   "cell_type": "code",
   "execution_count": 1,
   "metadata": {
    "ExecuteTime": {
     "end_time": "2020-11-16T18:13:15.157122Z",
     "start_time": "2020-11-16T18:13:14.943901Z"
    }
   },
   "outputs": [],
   "source": [
    "# Importe a biblioteca pandas\n",
    "import pandas as pd\n",
    "import numpy as np"
   ]
  },
  {
   "cell_type": "markdown",
   "metadata": {},
   "source": [
    "### 5.7 Escreva uma função para retornar um dataframe cujos valores de uma dada coluna sejam maiores do que um valor passado como argumento (threshold).\n",
    "#### Para a validação, o teste (assert) utiliza o threshold=800. \n",
    "#### Por curiosidade, se já souber plotar um gráfico boxplot,  plote-o com os dados de custo médio de internação agregados. Se não souber, espere até a próxima aula."
   ]
  },
  {
   "cell_type": "code",
   "execution_count": 2,
   "metadata": {
    "ExecuteTime": {
     "end_time": "2020-11-16T18:13:15.161315Z",
     "start_time": "2020-11-16T18:13:15.158440Z"
    },
    "nbgrader": {
     "grade": false,
     "grade_id": "cell-919c16309d90227d",
     "locked": false,
     "schema_version": 3,
     "solution": true,
     "task": false
    }
   },
   "outputs": [],
   "source": [
    "def get_outliers_morbidade(df_internacoes, col, threshold):\n",
    "    \"\"\"retorne um dataframe cujos valores da coluna col sejam maiores que threshold.\n",
    "    \"\"\"    \n",
    "    return df_internacoes[df_internacoes[col] > threshold]    "
   ]
  },
  {
   "cell_type": "code",
   "execution_count": 3,
   "metadata": {
    "ExecuteTime": {
     "end_time": "2020-11-16T18:13:33.722265Z",
     "start_time": "2020-11-16T18:13:15.163079Z"
    }
   },
   "outputs": [
    {
     "data": {
      "text/plain": [
       "<AxesSubplot:ylabel='custo_medio_diario_intern'>"
      ]
     },
     "execution_count": 3,
     "metadata": {},
     "output_type": "execute_result"
    },
    {
     "data": {
      "image/png": "[encoded data removed]",
      "text/plain": [
       "<Figure size 432x288 with 1 Axes>"
      ]
     },
     "metadata": {},
     "output_type": "display_data"
    }
   ],
   "source": [
    "# Faça seus testes aqui\n",
    "%run ../Aula5_Ex05/Aula5_Ex05.ipynb\n",
    "%run ../Aula5_Ex06/Aula5_Ex06.ipynb\n",
    "\n",
    "path_morbidade = 'https://github.com/alexlopespereira/curso_ciencia_dados2020/raw/master/data/originais/morbidade/consolidado/morbidade.csv'\n",
    "path_pop = 'https://github.com/alexlopespereira/curso_ciencia_dados2020/raw/master/data/originais/populacao/estimativa_dou_2017.xlsx'\n",
    "\n",
    "df_morbidade_pop = merge_morbidade_pop(path_pop, path_morbidade)\n",
    "df_internacoes = custo_medio_internacao_agregado(df_morbidade_pop)\n",
    "\n",
    "outlier = get_outliers_morbidade(df_internacoes, 'custo_medio_diario_intern', 800)\n",
    "\n",
    "import matplotlib.pyplot as plt # Biblioteca para plotar gráficos\n",
    "import seaborn as sns # Biblioteca para plotar gráficos baseada no matplotlib\n",
    "sns.set(font_scale=1.2)\n",
    "\n",
    "sns.boxplot(y=outlier.custo_medio_diario_intern)"
   ]
  },
  {
   "cell_type": "code",
   "execution_count": 4,
   "metadata": {
    "ExecuteTime": {
     "end_time": "2020-11-16T18:13:53.384998Z",
     "start_time": "2020-11-16T18:13:33.723970Z"
    },
    "nbgrader": {
     "grade": true,
     "grade_id": "cell-b656ffe7cf513a14",
     "locked": true,
     "points": 1,
     "schema_version": 3,
     "solution": false,
     "task": false
    }
   },
   "outputs": [],
   "source": [
    "# Validação para nota\n",
    "%run ../Aula5_Ex05/Aula5_Ex05.ipynb\n",
    "%run ../Aula5_Ex06/Aula5_Ex06.ipynb\n",
    "path_morbidade = 'https://github.com/alexlopespereira/curso_ciencia_dados2020/raw/master/data/originais/morbidade/consolidado/morbidade.csv'\n",
    "path_pop = 'https://github.com/alexlopespereira/curso_ciencia_dados2020/raw/master/data/originais/populacao/estimativa_dou_2017.xlsx'\n",
    "\n",
    "col='custo_medio_diario_intern'\n",
    "threshold=800\n",
    "test_data = {'Valor_total': 125334.1, 'Internações': 41.0, 'Dias_permanência': 113.0,\n",
    "             'custo_medio_diario_intern': 1109.2}\n",
    "\n",
    "df_morbidade_pop = merge_morbidade_pop(path_pop, path_morbidade)\n",
    "df_internacoes = custo_medio_internacao_agregado(df_morbidade_pop)\n",
    "data_nova_braslandia = get_outliers_morbidade(df_internacoes, col, threshold).loc['MT','Nova Brasilândia']\n",
    "data_nova_braslandia = data_nova_braslandia.apply(lambda x: round(x, 1))\n",
    "\n",
    "assert data_nova_braslandia.to_dict() == test_data"
   ]
  }
 ],
 "metadata": {
  "celltoolbar": "Create Assignment",
  "kernelspec": {
   "display_name": "Python 3",
   "language": "python",
   "name": "python3"
  },
  "language_info": {
   "codemirror_mode": {
    "name": "ipython",
    "version": 3
   },
   "file_extension": ".py",
   "mimetype": "text/x-python",
   "name": "python",
   "nbconvert_exporter": "python",
   "pygments_lexer": "ipython3",
   "version": "3.8.6"
  }
 },
 "nbformat": 4,
 "nbformat_minor": 4
}
