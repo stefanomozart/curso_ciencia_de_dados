{
 "cells": [
  {
   "cell_type": "markdown",
   "metadata": {},
   "source": [
    "# Aula 4 - Exercícios - Agregação com Pandas e Conceitos de Estatística\n",
    "### Consulta a internet (Google, Stackoverflow e etc) liberada!!"
   ]
  },
  {
   "cell_type": "code",
   "execution_count": 1,
   "metadata": {
    "ExecuteTime": {
     "end_time": "2020-11-25T20:20:57.259994Z",
     "start_time": "2020-11-25T20:20:57.038832Z"
    }
   },
   "outputs": [],
   "source": [
    "# Importe a biblioteca pandas\n",
    "import pandas as pd\n",
    "import numpy as np"
   ]
  },
  {
   "cell_type": "markdown",
   "metadata": {},
   "source": [
    "### 5.3 Escreva uma função para retornar um dataframe com os nomes das colunas, o total e a porcentagem de valores NA (de cada coluna) num dataframe passado como argumento para esta função.\n",
    "#### Arredonde (com o método round) o resultado para duas casas decimais (o assert vai testar com 2 casas decimais)."
   ]
  },
  {
   "cell_type": "code",
   "execution_count": 2,
   "metadata": {
    "ExecuteTime": {
     "end_time": "2020-11-25T20:20:57.264808Z",
     "start_time": "2020-11-25T20:20:57.261484Z"
    },
    "nbgrader": {
     "grade": false,
     "grade_id": "cell-553e5248ebs14bc30",
     "locked": false,
     "schema_version": 3,
     "solution": true,
     "task": false
    }
   },
   "outputs": [],
   "source": [
    "# Dica 1: Use a função concat para concatenar duas séries. Especifique axis=1 para concatenar\n",
    "#       por colunas. Se quiser dar nome as colunas depois de concatenar, utilize o argumento\n",
    "#       keys=['Total','Porcentagem']\n",
    "# Dica 2: Uma das séries deve conter o total de valores NA, e a outra série a \n",
    "# porcentagem de valores NA. Depois disso concatena-as usando a função concat.\n",
    "\n",
    "def missing_percentage(df):\n",
    "    \"\"\"Retorna um dataframe com os nomes das colunas, o total e a porcentagem de valores\n",
    "       NA em cada coluna do dataframe passado como argumento.\n",
    "    \"\"\"    \n",
    "    total = df.isnull().sum()\n",
    "    percent = round(df.isnull().sum()/len(df)*100,2)\n",
    "    return pd.concat([total, percent], axis=1, keys=['Total','Porcentagem'])\n"
   ]
  },
  {
   "cell_type": "code",
   "execution_count": 3,
   "metadata": {
    "ExecuteTime": {
     "end_time": "2020-11-25T20:20:57.273900Z",
     "start_time": "2020-11-25T20:20:57.266216Z"
    }
   },
   "outputs": [],
   "source": [
    "# Solução 2\n",
    "def missing_percentage(df):\n",
    "    tot = df.isna().sum()    \n",
    "    return pd.DataFrame({\n",
    "        'Total': tot,\n",
    "        'Porcentagem': tot.apply(lambda t: round((t/df.shape[0])*100, 2))\n",
    "    })"
   ]
  },
  {
   "cell_type": "code",
   "execution_count": 4,
   "metadata": {
    "ExecuteTime": {
     "end_time": "2020-11-25T20:20:57.331896Z",
     "start_time": "2020-11-25T20:20:57.275286Z"
    }
   },
   "outputs": [
    {
     "data": {
      "text/plain": [
       "{'Total': {'pclass': 0,\n",
       "  'survived': 0,\n",
       "  'name': 0,\n",
       "  'sex': 0,\n",
       "  'age': 263,\n",
       "  'sibsp': 0,\n",
       "  'parch': 0,\n",
       "  'ticket': 0,\n",
       "  'fare': 1,\n",
       "  'cabin': 1014,\n",
       "  'embarked': 2,\n",
       "  'boat': 823,\n",
       "  'body': 1188,\n",
       "  'home.dest': 564},\n",
       " 'Porcentagem': {'pclass': 0.0,\n",
       "  'survived': 0.0,\n",
       "  'name': 0.0,\n",
       "  'sex': 0.0,\n",
       "  'age': 20.09,\n",
       "  'sibsp': 0.0,\n",
       "  'parch': 0.0,\n",
       "  'ticket': 0.0,\n",
       "  'fare': 0.08,\n",
       "  'cabin': 77.46,\n",
       "  'embarked': 0.15,\n",
       "  'boat': 62.87,\n",
       "  'body': 90.76,\n",
       "  'home.dest': 43.09}}"
      ]
     },
     "execution_count": 4,
     "metadata": {},
     "output_type": "execute_result"
    }
   ],
   "source": [
    "## Faça seus testes aqui\n",
    "path_titanic = '../../curso_ciencia_dados2020/data/originais/titanic/titanic.xls'\n",
    "#path_titanic = 'https://github.com/alexlopespereira/curso_ciencia_dados2020/raw/master/data/originais/titanic/titanic.xls'\n",
    "df_titanic = pd.read_excel(path_titanic)\n",
    "\n",
    "missing_percentage(df_titanic).to_dict()"
   ]
  },
  {
   "cell_type": "code",
   "execution_count": 5,
   "metadata": {
    "ExecuteTime": {
     "end_time": "2020-11-25T20:21:05.210778Z",
     "start_time": "2020-11-25T20:20:57.333158Z"
    },
    "nbgrader": {
     "grade": true,
     "grade_id": "cell-0e2bt6cefe06bdc60",
     "locked": true,
     "points": 1,
     "schema_version": 3,
     "solution": false,
     "task": false
    }
   },
   "outputs": [],
   "source": [
    "# Validação para nota\n",
    "path_titanic = 'https://github.com/alexlopespereira/curso_ciencia_dados2020/raw/master/data/originais/titanic/titanic.xls'\n",
    "test_data = {'Total': {'body': 1188,  'cabin': 1014,  'boat': 823,  'home.dest': 564,\n",
    "                       'age': 263,  'embarked': 2,  'fare': 1,  'ticket': 0,  'parch': 0,  \n",
    "                       'sibsp': 0,  'sex': 0,  'name': 0,  'survived': 0,  'pclass': 0},\n",
    "             'Porcentagem': {'body': 90.76,  'cabin': 77.46,  'boat': 62.87,\n",
    "                            'home.dest': 43.09,  'age': 20.09,  'embarked': 0.15, \n",
    "                            'fare': 0.08,  'ticket': 0.0,  'parch': 0.0,  'sibsp': 0.0,\n",
    "                            'sex': 0.0,  'name': 0.0,  'survived': 0.0,  'pclass': 0.0}}\n",
    "\n",
    "df_titanic = pd.read_excel(path_titanic)\n",
    "assert missing_percentage(df_titanic).to_dict() == test_data"
   ]
  }
 ],
 "metadata": {
  "celltoolbar": "Create Assignment",
  "kernelspec": {
   "display_name": "Python 3",
   "language": "python",
   "name": "python3"
  },
  "language_info": {
   "codemirror_mode": {
    "name": "ipython",
    "version": 3
   },
   "file_extension": ".py",
   "mimetype": "text/x-python",
   "name": "python",
   "nbconvert_exporter": "python",
   "pygments_lexer": "ipython3",
   "version": "3.8.6"
  }
 },
 "nbformat": 4,
 "nbformat_minor": 4
}
