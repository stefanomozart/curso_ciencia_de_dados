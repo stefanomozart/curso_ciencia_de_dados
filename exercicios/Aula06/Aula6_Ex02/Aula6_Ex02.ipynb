{
 "cells": [
  {
   "cell_type": "markdown",
   "metadata": {},
   "source": [
    "# Aula 6 - Exercícios - Gráficos\n",
    "### Consulta a internet (Google, Stackoverflow e etc) liberada!!"
   ]
  },
  {
   "cell_type": "code",
   "execution_count": 1,
   "metadata": {
    "ExecuteTime": {
     "end_time": "2020-11-16T19:06:06.907170Z",
     "start_time": "2020-11-16T19:06:06.137343Z"
    }
   },
   "outputs": [],
   "source": [
    "# Importe a biblioteca pandas\n",
    "import pandas as pd\n",
    "import seaborn as sns\n",
    "sns.set() # Ajusta valor padrão de tema, escala e paleta de cor\n"
   ]
  },
  {
   "cell_type": "markdown",
   "metadata": {},
   "source": [
    "### 6.2 Plote um gráfico que mostre a evolução ao longo do tempo dos dados de curetagem do Estado de São Paulo.\n",
    "#### Pense em possíveis causas que possam explicar a aparência cíclica do gráfico. Se encontrar alguma explicação plausível, descreva ela logo após o seu gráfico."
   ]
  },
  {
   "cell_type": "markdown",
   "metadata": {},
   "source": [
    "#### Dica: Inspire-se no exercício quase igual a esse resolvido durante a aula 5. O que você precisa fazer a mais é filtrar os dados do Estado de São Paulo."
   ]
  },
  {
   "cell_type": "code",
   "execution_count": 14,
   "metadata": {
    "ExecuteTime": {
     "end_time": "2020-11-16T19:21:34.328273Z",
     "start_time": "2020-11-16T19:21:34.199036Z"
    },
    "nbgrader": {
     "grade": true,
     "grade_id": "cell-553qe5248eb14bc30",
     "locked": false,
     "points": 1,
     "schema_version": 3,
     "solution": true,
     "task": false
    }
   },
   "outputs": [
    {
     "data": {
      "text/html": [
       "<div>\n",
       "<style scoped>\n",
       "    .dataframe tbody tr th:only-of-type {\n",
       "        vertical-align: middle;\n",
       "    }\n",
       "\n",
       "    .dataframe tbody tr th {\n",
       "        vertical-align: top;\n",
       "    }\n",
       "\n",
       "    .dataframe thead th {\n",
       "        text-align: right;\n",
       "    }\n",
       "</style>\n",
       "<table border=\"1\" class=\"dataframe\">\n",
       "  <thead>\n",
       "    <tr style=\"text-align: right;\">\n",
       "      <th></th>\n",
       "      <th>Unidade da Federação</th>\n",
       "      <th>2008/Jan</th>\n",
       "      <th>2008/Fev</th>\n",
       "      <th>2008/Mar</th>\n",
       "      <th>2008/Abr</th>\n",
       "      <th>2008/Mai</th>\n",
       "      <th>2008/Jun</th>\n",
       "      <th>2008/Jul</th>\n",
       "      <th>2008/Ago</th>\n",
       "      <th>2008/Set</th>\n",
       "      <th>...</th>\n",
       "      <th>2017/Out</th>\n",
       "      <th>2017/Nov</th>\n",
       "      <th>2017/Dez</th>\n",
       "      <th>2018/Jan</th>\n",
       "      <th>2018/Fev</th>\n",
       "      <th>2018/Mar</th>\n",
       "      <th>2018/Abr</th>\n",
       "      <th>2018/Mai</th>\n",
       "      <th>2018/Jun</th>\n",
       "      <th>Total</th>\n",
       "    </tr>\n",
       "  </thead>\n",
       "  <tbody>\n",
       "    <tr>\n",
       "      <th>0</th>\n",
       "      <td>35 São Paulo</td>\n",
       "      <td>2153</td>\n",
       "      <td>2800</td>\n",
       "      <td>2892</td>\n",
       "      <td>3000</td>\n",
       "      <td>3201</td>\n",
       "      <td>3008</td>\n",
       "      <td>3412</td>\n",
       "      <td>3395</td>\n",
       "      <td>3623</td>\n",
       "      <td>...</td>\n",
       "      <td>2968</td>\n",
       "      <td>2946</td>\n",
       "      <td>2756</td>\n",
       "      <td>2771</td>\n",
       "      <td>2520</td>\n",
       "      <td>2595</td>\n",
       "      <td>2476</td>\n",
       "      <td>2559</td>\n",
       "      <td>2365</td>\n",
       "      <td>359255</td>\n",
       "    </tr>\n",
       "    <tr>\n",
       "      <th>1</th>\n",
       "      <td>29 Bahia</td>\n",
       "      <td>1156</td>\n",
       "      <td>1640</td>\n",
       "      <td>1560</td>\n",
       "      <td>1722</td>\n",
       "      <td>1530</td>\n",
       "      <td>2089</td>\n",
       "      <td>1831</td>\n",
       "      <td>2267</td>\n",
       "      <td>2403</td>\n",
       "      <td>...</td>\n",
       "      <td>1505</td>\n",
       "      <td>1545</td>\n",
       "      <td>1418</td>\n",
       "      <td>1462</td>\n",
       "      <td>1192</td>\n",
       "      <td>1375</td>\n",
       "      <td>1363</td>\n",
       "      <td>1260</td>\n",
       "      <td>1245</td>\n",
       "      <td>204101</td>\n",
       "    </tr>\n",
       "    <tr>\n",
       "      <th>2</th>\n",
       "      <td>31 Minas Gerais</td>\n",
       "      <td>1193</td>\n",
       "      <td>1499</td>\n",
       "      <td>1601</td>\n",
       "      <td>1398</td>\n",
       "      <td>1534</td>\n",
       "      <td>1787</td>\n",
       "      <td>1639</td>\n",
       "      <td>1730</td>\n",
       "      <td>1751</td>\n",
       "      <td>...</td>\n",
       "      <td>1459</td>\n",
       "      <td>1333</td>\n",
       "      <td>1359</td>\n",
       "      <td>1260</td>\n",
       "      <td>1235</td>\n",
       "      <td>1413</td>\n",
       "      <td>1196</td>\n",
       "      <td>1158</td>\n",
       "      <td>1086</td>\n",
       "      <td>182772</td>\n",
       "    </tr>\n",
       "    <tr>\n",
       "      <th>3</th>\n",
       "      <td>33 Rio de Janeiro</td>\n",
       "      <td>679</td>\n",
       "      <td>816</td>\n",
       "      <td>1134</td>\n",
       "      <td>1072</td>\n",
       "      <td>1254</td>\n",
       "      <td>1243</td>\n",
       "      <td>1326</td>\n",
       "      <td>1475</td>\n",
       "      <td>1270</td>\n",
       "      <td>...</td>\n",
       "      <td>1350</td>\n",
       "      <td>1217</td>\n",
       "      <td>1085</td>\n",
       "      <td>1049</td>\n",
       "      <td>930</td>\n",
       "      <td>919</td>\n",
       "      <td>946</td>\n",
       "      <td>920</td>\n",
       "      <td>910</td>\n",
       "      <td>153270</td>\n",
       "    </tr>\n",
       "    <tr>\n",
       "      <th>4</th>\n",
       "      <td>26 Pernambuco</td>\n",
       "      <td>489</td>\n",
       "      <td>904</td>\n",
       "      <td>796</td>\n",
       "      <td>1142</td>\n",
       "      <td>903</td>\n",
       "      <td>877</td>\n",
       "      <td>886</td>\n",
       "      <td>1003</td>\n",
       "      <td>1008</td>\n",
       "      <td>...</td>\n",
       "      <td>795</td>\n",
       "      <td>778</td>\n",
       "      <td>831</td>\n",
       "      <td>738</td>\n",
       "      <td>647</td>\n",
       "      <td>749</td>\n",
       "      <td>693</td>\n",
       "      <td>716</td>\n",
       "      <td>666</td>\n",
       "      <td>106303</td>\n",
       "    </tr>\n",
       "  </tbody>\n",
       "</table>\n",
       "<p>5 rows × 128 columns</p>\n",
       "</div>"
      ],
      "text/plain": [
       "  Unidade da Federação  2008/Jan 2008/Fev  2008/Mar  2008/Abr  2008/Mai  \\\n",
       "0         35 São Paulo      2153     2800      2892      3000      3201   \n",
       "1             29 Bahia      1156     1640      1560      1722      1530   \n",
       "2      31 Minas Gerais      1193     1499      1601      1398      1534   \n",
       "3    33 Rio de Janeiro       679      816      1134      1072      1254   \n",
       "4        26 Pernambuco       489      904       796      1142       903   \n",
       "\n",
       "   2008/Jun  2008/Jul  2008/Ago  2008/Set  ...  2017/Out  2017/Nov  2017/Dez  \\\n",
       "0      3008      3412      3395      3623  ...      2968      2946      2756   \n",
       "1      2089      1831      2267      2403  ...      1505      1545      1418   \n",
       "2      1787      1639      1730      1751  ...      1459      1333      1359   \n",
       "3      1243      1326      1475      1270  ...      1350      1217      1085   \n",
       "4       877       886      1003      1008  ...       795       778       831   \n",
       "\n",
       "   2018/Jan  2018/Fev  2018/Mar  2018/Abr  2018/Mai  2018/Jun   Total  \n",
       "0      2771      2520      2595      2476      2559      2365  359255  \n",
       "1      1462      1192      1375      1363      1260      1245  204101  \n",
       "2      1260      1235      1413      1196      1158      1086  182772  \n",
       "3      1049       930       919       946       920       910  153270  \n",
       "4       738       647       749       693       716       666  106303  \n",
       "\n",
       "[5 rows x 128 columns]"
      ]
     },
     "execution_count": 14,
     "metadata": {},
     "output_type": "execute_result"
    }
   ],
   "source": [
    "# Plote seu gráfico aqui\n",
    "# path_curetagem='https://github.com/alexlopespereira/curso_ciencia_dados2020/raw/master/data/originais/curetagem/consolidado/curetagem2018.xlsx'\n",
    "path_curetagem='../../curso_ciencia_dados2020/data/originais/curetagem/consolidado/curetagem2018.xlsx'\n",
    "\n",
    "df = pd.read_excel(path_curetagem)\n",
    "df.head()"
   ]
  },
  {
   "cell_type": "code",
   "execution_count": null,
   "metadata": {
    "ExecuteTime": {
     "end_time": "2020-11-16T19:14:10.992275Z",
     "start_time": "2020-11-16T19:14:10.910189Z"
    },
    "nbgrader": {
     "grade": true,
     "grade_id": "cell-553qe5248eb14bc30",
     "locked": false,
     "points": 1,
     "schema_version": 3,
     "solution": true,
     "task": false
    }
   },
   "outputs": [],
   "source": [
    "df['Unidade da Federação'].value_counts()\n",
    "df_sp = df.loc[df['Unidade da Federação'] == '35 São Paulo']\n",
    "\n",
    "del df_sp['Unidade da Federação']\n",
    "del df_sp['Total']\n",
    "\n",
    "df_sp_melt = df_sp.melt(var_name='data', value_name='qtd_curetagem')"
   ]
  },
  {
   "cell_type": "code",
   "execution_count": 11,
   "metadata": {
    "ExecuteTime": {
     "end_time": "2020-11-16T19:17:07.052871Z",
     "start_time": "2020-11-16T19:17:06.551476Z"
    },
    "nbgrader": {
     "grade": true,
     "grade_id": "cell-553qe5248eb14bc30",
     "locked": false,
     "points": 1,
     "schema_version": 3,
     "solution": true,
     "task": false
    },
    "scrolled": true
   },
   "outputs": [
    {
     "data": {
      "text/plain": [
       "<AxesSubplot:xlabel='ano', ylabel='qtd_curetagem'>"
      ]
     },
     "execution_count": 11,
     "metadata": {},
     "output_type": "execute_result"
    },
    {
     "data": {
      "image/png": "[encoded data removed]",
      "text/plain": [
       "<Figure size 432x288 with 1 Axes>"
      ]
     },
     "metadata": {},
     "output_type": "display_data"
    }
   ],
   "source": [
    "df_sp_melt['data'] = df_sp_melt.data.apply(lambda d: d[:4])\n",
    "df_sp_melt\n",
    "sns.barplot(x='ano', y='qtd_curetagem', data=df_sp_melt)"
   ]
  },
  {
   "cell_type": "code",
   "execution_count": 18,
   "metadata": {
    "ExecuteTime": {
     "end_time": "2020-11-16T19:25:06.918872Z",
     "start_time": "2020-11-16T19:25:06.671457Z"
    }
   },
   "outputs": [
    {
     "data": {
      "text/plain": [
       "<AxesSubplot:xlabel='ano', ylabel='qtd_curetagem'>"
      ]
     },
     "execution_count": 18,
     "metadata": {},
     "output_type": "execute_result"
    },
    {
     "data": {
      "image/png": "[encoded data removed]",
      "text/plain": [
       "<Figure size 432x288 with 1 Axes>"
      ]
     },
     "metadata": {},
     "output_type": "display_data"
    }
   ],
   "source": [
    "df_agg = df_sp_melt.groupby('ano').agg({'qtd_curetagem': 'sum'})\n",
    "df_agg\n",
    "sns.barplot(x=df_agg.index, y='qtd_curetagem', data=df_agg)"
   ]
  }
 ],
 "metadata": {
  "celltoolbar": "Create Assignment",
  "kernelspec": {
   "display_name": "Python 3",
   "language": "python",
   "name": "python3"
  },
  "language_info": {
   "codemirror_mode": {
    "name": "ipython",
    "version": 3
   },
   "file_extension": ".py",
   "mimetype": "text/x-python",
   "name": "python",
   "nbconvert_exporter": "python",
   "pygments_lexer": "ipython3",
   "version": "3.8.6"
  }
 },
 "nbformat": 4,
 "nbformat_minor": 4
}
