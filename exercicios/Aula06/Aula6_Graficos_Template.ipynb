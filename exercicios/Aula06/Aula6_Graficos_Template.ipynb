{
 "cells": [
  {
   "cell_type": "markdown",
   "metadata": {},
   "source": [
    "## Aula 6 - Elaboração de Gráficos"
   ]
  },
  {
   "cell_type": "markdown",
   "metadata": {},
   "source": [
    "### Gráficos com Seaborn"
   ]
  },
  {
   "cell_type": "code",
   "execution_count": null,
   "metadata": {},
   "outputs": [],
   "source": [
    "import pandas as pd\n",
    "import numpy as np\n",
    "import matplotlib.pyplot as plt # Biblioteca para plotar gráficos\n",
    "import seaborn as sns # Biblioteca para plotar gráficos baseada no matplotlib"
   ]
  },
  {
   "cell_type": "markdown",
   "metadata": {},
   "source": [
    "#### Dataset tips"
   ]
  },
  {
   "cell_type": "code",
   "execution_count": null,
   "metadata": {
    "scrolled": false
   },
   "outputs": [],
   "source": [
    "sns.set() # Ajusta valor padrão de tema, escala e paleta de cor\n",
    "# Considere dataset de gorgetas a seguir\n",
    "tips = sns.load_dataset(\"tips\") \n",
    "# Criar um scatter plot com o dado da gorgeta (tip) no eixo y, o total da conta (total_bill) no eixo x\n",
    "#    e o dia da semana (day) representado em cores diferentes no gráfico. Para definir as cores use o parâmetro\n",
    "#    hue.\n",
    "\n"
   ]
  },
  {
   "cell_type": "code",
   "execution_count": null,
   "metadata": {},
   "outputs": [],
   "source": [
    "# Mostre as primeiras linhas do dataframe tips\n",
    "tips.head()"
   ]
  },
  {
   "cell_type": "markdown",
   "metadata": {},
   "source": [
    "#### Dataset frmi"
   ]
  },
  {
   "cell_type": "code",
   "execution_count": null,
   "metadata": {},
   "outputs": [],
   "source": [
    "# Considere o seguinte dataframe\n",
    "fmri = sns.load_dataset(\"fmri\")\n",
    "fmri.head()"
   ]
  },
  {
   "cell_type": "code",
   "execution_count": null,
   "metadata": {},
   "outputs": [],
   "source": [
    "# Crie um gráfico de linhas especificando no eixo x a variável timepoint, no eixo y a variável signal,\n",
    "#   na separação em gráficos distintos (argumento col) utilize a variável region, nas cores e estilo utilize a \n",
    "#   variável event.\n"
   ]
  },
  {
   "cell_type": "markdown",
   "metadata": {},
   "source": [
    "#### Biblioteca Datetime do Python"
   ]
  },
  {
   "cell_type": "code",
   "execution_count": null,
   "metadata": {},
   "outputs": [],
   "source": [
    "from datetime import datetime # Esta biblioteca python realiza diversas operações com datas\n",
    "# Crie um objeto datetime a partir da data '18/09/19 01:55:19' usando o método strptime\n"
   ]
  },
  {
   "cell_type": "code",
   "execution_count": null,
   "metadata": {},
   "outputs": [],
   "source": [
    "# Crie novamente o mesmo objeto datetime criado acima, desta vez guardando-o numa variavel d\n",
    "\n",
    "# Converta o datetime guardado em d para um string ANO-MÊS-DIA\n"
   ]
  },
  {
   "cell_type": "code",
   "execution_count": null,
   "metadata": {},
   "outputs": [],
   "source": [
    "# Imprima o ano armazenado na variável datetime d\n",
    "\n",
    "# Imprima o mês armazenado na variável datetime d\n"
   ]
  },
  {
   "cell_type": "markdown",
   "metadata": {},
   "source": [
    "#### Dataset Curetagem (pós aborto)"
   ]
  },
  {
   "cell_type": "code",
   "execution_count": null,
   "metadata": {},
   "outputs": [],
   "source": [
    "# Considere o seguinte dataframe\n",
    "path_curetagem='../../curso_ciencia_dados2020/data/originais/curetagem/consolidado/curetagem2018.xlsx'\n",
    "df_curetagem = pd.read_excel(path_curetagem, na_values='-')\n",
    "df_curetagem.rename(columns={'Unidade da Federação': 'uf'}, inplace=True)\n",
    "del df_curetagem['Total']\n",
    "df_curetagem.head()"
   ]
  },
  {
   "cell_type": "code",
   "execution_count": null,
   "metadata": {},
   "outputs": [],
   "source": [
    "# Crie um dataframe despivotado usando o método melt. Use os seguintes parâmetros id_vars=['uf'], \n",
    "#     var_name='data', value_name='qtd'\n",
    "\n"
   ]
  },
  {
   "cell_type": "code",
   "execution_count": null,
   "metadata": {},
   "outputs": [],
   "source": [
    "from datetime import datetime\n",
    "import locale\n",
    "# Configure o locale para 'pt_BR.UTF-8'\n",
    "locale.setlocale(locale.LC_ALL, 'pt_BR.UTF-8')\n",
    "# Crie uma coluna no dataframe df_unpivoted para guardar o valor do mês (de 1 a 12)\n",
    "\n",
    "# Crie uma coluna no dataframe df_unpivoted para guardar o valor do ano\n",
    "\n",
    "# Crie uma coluna no dataframe df_unpivoted para guardar a data (em formato datetime)\n",
    "\n",
    "# Converta a coluna qtd para float\n"
   ]
  },
  {
   "cell_type": "code",
   "execution_count": null,
   "metadata": {
    "scrolled": false
   },
   "outputs": [],
   "source": [
    "df_unpivoted.head()"
   ]
  },
  {
   "cell_type": "code",
   "execution_count": null,
   "metadata": {},
   "outputs": [],
   "source": [
    "# Plote um gráfico de linha com a data no eixo x, a variavel qtd no eixo y e desagregando o dado pelas as UFs \n",
    "# e representando-as por cores distintas. Use um aspect=2 para deixar o gráfico mais alongado horizontalmente.\n",
    "\n",
    "\n",
    "# Pergunta: esse gráfico é periódico?"
   ]
  },
  {
   "cell_type": "code",
   "execution_count": null,
   "metadata": {},
   "outputs": [],
   "source": [
    "# Plote o mesmo gráfico de linha da célula acima, mas agora sem a desagregação por UF.\n",
    "\n"
   ]
  },
  {
   "cell_type": "markdown",
   "metadata": {},
   "source": [
    "#### Gráfico de Violino (Violin plot)"
   ]
  },
  {
   "cell_type": "code",
   "execution_count": null,
   "metadata": {},
   "outputs": [],
   "source": [
    "# Considere o seguinte método que traça 3 gráfciso: um histograma, um boxplot e um gráfico de violino\n",
    "# Fonte: https://towardsdatascience.com/violin-plots-explained-fb1d115e023d\n",
    "def plot_comparison(x, title):\n",
    "    fig, ax = plt.subplots(3, 1, sharex=True)\n",
    "    sns.distplot(x, ax=ax[0])\n",
    "    ax[0].set_title('Histogram + KDE')\n",
    "    sns.boxplot(x, ax=ax[1])\n",
    "    ax[1].set_title('Boxplot')\n",
    "    sns.violinplot(x, ax=ax[2])\n",
    "    ax[2].set_title('Violin plot')\n",
    "    fig.suptitle(title, fontsize=16)\n",
    "    plt.show()\n",
    "\n",
    "sample_gaussian = np.random.normal(size=1000)\n",
    "plot_comparison(sample_gaussian, 'Standard Normal Distribution')"
   ]
  },
  {
   "cell_type": "code",
   "execution_count": null,
   "metadata": {},
   "outputs": [],
   "source": [
    "# Crie um gráfico de violino do dataset de gorjetas (tips) colocando na viariável x o dia da semana (day),\n",
    "#     no eixo y o total da conta (total_bill), desagregue por fumante (smoker) representando a desagregação por\n",
    "#     cores distintas. Use o argumento split=True para colocar num mesmo violino os dados referentes às duas\n",
    "#     categorias de smoker (Yes e No).\n",
    "\n"
   ]
  },
  {
   "cell_type": "markdown",
   "metadata": {},
   "source": [
    "#### Gráfico de Barras"
   ]
  },
  {
   "cell_type": "code",
   "execution_count": null,
   "metadata": {},
   "outputs": [],
   "source": [
    "# Crie um gráfico categórico colocando no eixo x o dia da semana (day), no eixo y a média de total_bill,\n",
    "#      e a desagregação por cor da variável smoker.\n",
    "\n"
   ]
  },
  {
   "cell_type": "markdown",
   "metadata": {},
   "source": [
    "#### pairplot (pares de gráficos)"
   ]
  },
  {
   "cell_type": "code",
   "execution_count": null,
   "metadata": {},
   "outputs": [],
   "source": [
    "# Considere o dataframe a seguir carregado a partir do dataset iris\n",
    "iris = sns.load_dataset(\"iris\")\n",
    "# Plote um conjunto de gráficos de scatter plot de todas as combinações de todas as variáveis do dataframe,\n",
    "#     desagregando em cores as diferentes espécies. Esse tipo de gráfico no Seaborn é conhecido por pairplot.\n"
   ]
  },
  {
   "cell_type": "code",
   "execution_count": null,
   "metadata": {},
   "outputs": [],
   "source": [
    "# Altere a escala da fonte para 1.2 usando o método sns.set()\n",
    "\n",
    "# Crie um gráfico de caixas (boxplot) retornando para uma variável g. Use no eixo x o total_bill, em y o dia da\n",
    "#      semana, desagregue pelo tipo de refeição (time) com cores diferentes. Ajuste a autura para 4, \n",
    "#      o aspect para 2.\n",
    "\n",
    "\n",
    "# Altere a legenda do gráfico para Meal\n",
    "\n",
    "# Altere o label do eixo x para \"Total bill ($)\"\n",
    "\n",
    "# Altere os valores dos ticks no eixo y para [\"Thu\", \"Fri\", \"Sat\", \"Sun\"]. E ajuste os limites inferior e \n",
    "#      superior do eixo x para o seguinte intervalo xlim=(0, 60)\n",
    "\n",
    "# Ajuste os ticks no eixo x para [5, 15, 25, 35, 45, 55]\n",
    "\n",
    "# Rotacione em 30 graus a orientação das legendas do eixo y.\n"
   ]
  }
 ],
 "metadata": {
  "kernelspec": {
   "display_name": "Python 3",
   "language": "python",
   "name": "python3"
  },
  "language_info": {
   "codemirror_mode": {
    "name": "ipython",
    "version": 3
   },
   "file_extension": ".py",
   "mimetype": "text/x-python",
   "name": "python",
   "nbconvert_exporter": "python",
   "pygments_lexer": "ipython3",
   "version": "3.6.10"
  }
 },
 "nbformat": 4,
 "nbformat_minor": 4
}
