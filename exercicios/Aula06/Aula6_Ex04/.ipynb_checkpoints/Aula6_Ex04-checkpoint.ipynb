{
 "cells": [
  {
   "cell_type": "markdown",
   "metadata": {},
   "source": [
    "# Aula 6 - Exercícios - Gráficos\n",
    "### Consulta a internet (Google, Stackoverflow e etc) liberada!!"
   ]
  },
  {
   "cell_type": "code",
   "execution_count": 3,
   "metadata": {
    "ExecuteTime": {
     "end_time": "2020-11-20T17:59:02.798666Z",
     "start_time": "2020-11-20T17:59:02.794316Z"
    }
   },
   "outputs": [],
   "source": [
    "# Importe a biblioteca pandas\n",
    "import pandas as pd\n",
    "import seaborn as sns\n",
    "sns.set() # Ajusta valor padrão de tema, escala e paleta de cor\n"
   ]
  },
  {
   "cell_type": "markdown",
   "metadata": {},
   "source": [
    "### 6.4 Plote um gráfico boxplot da coluna Valor_total de 5 municípios do dataset de Morbidade do Datasus. Os municípios a serem plotados são aqueles que obtiveram o maior custo médio diário de internação em todo o brasil. \n",
    "#### Esta métrica de custo médio diário de internação foi calculada no exercício 5.5 e 5.6. Use um argumento aspect=2 para o gráfico não sobrepor os nomes das cidades.\n"
   ]
  },
  {
   "cell_type": "markdown",
   "metadata": {},
   "source": [
    "#### Dica 1: Antes de tentar plotar o gráfico, escreva algumas sentenças de código usando operações do pandas para encontrar quais são esses 5 municípios.\n",
    "#### Dica 2: Depois de encontrar o codigo IBGE desses 5 municípios, faça um filtro no dataframe dos dados de morbidade e plote o boxplot desses 5 municípios."
   ]
  },
  {
   "cell_type": "code",
   "execution_count": 6,
   "metadata": {
    "ExecuteTime": {
     "end_time": "2020-11-20T17:59:16.823302Z",
     "start_time": "2020-11-20T17:59:16.418641Z"
    },
    "nbgrader": {
     "grade": true,
     "grade_id": "cell-553em5248eb14bc30",
     "locked": false,
     "points": 1,
     "schema_version": 3,
     "solution": true,
     "task": false
    }
   },
   "outputs": [
    {
     "data": {
      "text/html": [
       "<div>\n",
       "<style scoped>\n",
       "    .dataframe tbody tr th:only-of-type {\n",
       "        vertical-align: middle;\n",
       "    }\n",
       "\n",
       "    .dataframe tbody tr th {\n",
       "        vertical-align: top;\n",
       "    }\n",
       "\n",
       "    .dataframe thead th {\n",
       "        text-align: right;\n",
       "    }\n",
       "</style>\n",
       "<table border=\"1\" class=\"dataframe\">\n",
       "  <thead>\n",
       "    <tr style=\"text-align: right;\">\n",
       "      <th></th>\n",
       "      <th>Valor_total</th>\n",
       "      <th>Internações</th>\n",
       "      <th>Dias_permanência</th>\n",
       "      <th>custo_medio_diario_intern</th>\n",
       "    </tr>\n",
       "    <tr>\n",
       "      <th>cod_ibge6</th>\n",
       "      <th></th>\n",
       "      <th></th>\n",
       "      <th></th>\n",
       "      <th></th>\n",
       "    </tr>\n",
       "  </thead>\n",
       "  <tbody>\n",
       "    <tr>\n",
       "      <th>410400</th>\n",
       "      <td>14980883.47</td>\n",
       "      <td>2862.0</td>\n",
       "      <td>12045.0</td>\n",
       "      <td>1243.742920</td>\n",
       "    </tr>\n",
       "    <tr>\n",
       "      <th>510620</th>\n",
       "      <td>125334.12</td>\n",
       "      <td>41.0</td>\n",
       "      <td>113.0</td>\n",
       "      <td>1109.151504</td>\n",
       "    </tr>\n",
       "    <tr>\n",
       "      <th>353690</th>\n",
       "      <td>481705.94</td>\n",
       "      <td>95.0</td>\n",
       "      <td>488.0</td>\n",
       "      <td>987.102336</td>\n",
       "    </tr>\n",
       "    <tr>\n",
       "      <th>313500</th>\n",
       "      <td>190060.09</td>\n",
       "      <td>62.0</td>\n",
       "      <td>250.0</td>\n",
       "      <td>760.240360</td>\n",
       "    </tr>\n",
       "    <tr>\n",
       "      <th>355365</th>\n",
       "      <td>101356.81</td>\n",
       "      <td>56.0</td>\n",
       "      <td>134.0</td>\n",
       "      <td>756.394104</td>\n",
       "    </tr>\n",
       "  </tbody>\n",
       "</table>\n",
       "</div>"
      ],
      "text/plain": [
       "           Valor_total  Internações  Dias_permanência  \\\n",
       "cod_ibge6                                               \n",
       "410400     14980883.47       2862.0           12045.0   \n",
       "510620       125334.12         41.0             113.0   \n",
       "353690       481705.94         95.0             488.0   \n",
       "313500       190060.09         62.0             250.0   \n",
       "355365       101356.81         56.0             134.0   \n",
       "\n",
       "           custo_medio_diario_intern  \n",
       "cod_ibge6                             \n",
       "410400                   1243.742920  \n",
       "510620                   1109.151504  \n",
       "353690                    987.102336  \n",
       "313500                    760.240360  \n",
       "355365                    756.394104  "
      ]
     },
     "execution_count": 6,
     "metadata": {},
     "output_type": "execute_result"
    }
   ],
   "source": [
    "# Plote aqui seu gráfico\n",
    "import pandas as pd\n",
    "import numpy as np\n",
    "import seaborn as sns\n",
    "sns.set() # Ajusta valor padrão de tema, escala e paleta de cor\n",
    "\n",
    "# 5.5\n",
    "path_morbidade = '../../curso_ciencia_dados2020/data/originais/morbidade/consolidado/morbidade.csv'\n",
    "path_pop = '../../curso_ciencia_dados2020/data/originais/populacao/estimativa_dou_2017.xlsx'\n",
    "\n",
    "df_pop = pd.read_excel(path_pop, sheet_name=\"Municipios\", dtype={'cod_munic': str, 'cod_uf': str})\n",
    "df_pop['cod_ibge6'] = df_pop['cod_uf'] + df_pop['cod_munic'].apply(lambda x: x[:-1])\n",
    "\n",
    "df_morb = pd.read_csv(path_morbidade, sep=';', decimal=',', dtype={'cod_ibge6': str}, na_values=['-', '...'])\n",
    "df_morb_pop = pd.merge(df_pop, df_morb, on='cod_ibge6') \n",
    "\n",
    "# 5.6\n",
    "custo_medio = df_morb_pop.groupby(['cod_ibge6']).agg({'Valor_total': 'sum', 'Internações': 'sum', 'Dias_permanência': 'sum'})\n",
    "custo_medio['custo_medio_diario_intern'] = custo_medio['Valor_total']/custo_medio['Dias_permanência']\n",
    "top5 = custo_medio.sort_values(by='custo_medio_diario_intern', ascending=False).iloc[:5,:]\n",
    "top5"
   ]
  },
  {
   "cell_type": "code",
   "execution_count": 11,
   "metadata": {
    "ExecuteTime": {
     "end_time": "2020-11-20T18:02:35.679177Z",
     "start_time": "2020-11-20T18:02:35.664600Z"
    },
    "nbgrader": {
     "grade": true,
     "grade_id": "cell-553em5248eb14bc30",
     "locked": false,
     "points": 1,
     "schema_version": 3,
     "solution": true,
     "task": false
    }
   },
   "outputs": [
    {
     "data": {
      "text/plain": [
       "(30, 20)"
      ]
     },
     "execution_count": 11,
     "metadata": {},
     "output_type": "execute_result"
    }
   ],
   "source": [
    "top5_det = df_morb.loc[df_morb.cod_ibge6.isin(top5.index)]\n",
    "top5_det.shape"
   ]
  },
  {
   "cell_type": "code",
   "execution_count": 16,
   "metadata": {
    "ExecuteTime": {
     "end_time": "2020-11-20T18:03:26.693918Z",
     "start_time": "2020-11-20T18:03:26.422446Z"
    },
    "nbgrader": {
     "grade": true,
     "grade_id": "cell-553em5248eb14bc30",
     "locked": false,
     "points": 1,
     "schema_version": 3,
     "solution": true,
     "task": false
    }
   },
   "outputs": [
    {
     "data": {
      "text/plain": [
       "<seaborn.axisgrid.FacetGrid at 0x7f8df2e87d30>"
      ]
     },
     "execution_count": 16,
     "metadata": {},
     "output_type": "execute_result"
    },
    {
     "data": {
      "image/png": "[encoded data removed]",
      "text/plain": [
       "<Figure size 720x360 with 1 Axes>"
      ]
     },
     "metadata": {},
     "output_type": "display_data"
    }
   ],
   "source": [
    "sns.catplot(x='Município', y='Valor_total', data=top5_det, kind='box', aspect=2)"
   ]
  }
 ],
 "metadata": {
  "celltoolbar": "Create Assignment",
  "kernelspec": {
   "display_name": "Python 3",
   "language": "python",
   "name": "python3"
  },
  "language_info": {
   "codemirror_mode": {
    "name": "ipython",
    "version": 3
   },
   "file_extension": ".py",
   "mimetype": "text/x-python",
   "name": "python",
   "nbconvert_exporter": "python",
   "pygments_lexer": "ipython3",
   "version": "3.8.6"
  }
 },
 "nbformat": 4,
 "nbformat_minor": 4
}
