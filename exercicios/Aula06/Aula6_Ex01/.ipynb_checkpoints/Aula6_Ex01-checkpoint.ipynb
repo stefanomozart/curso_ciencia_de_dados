{
 "cells": [
  {
   "cell_type": "markdown",
   "metadata": {},
   "source": [
    "# Aula 6 - Exercícios - Gráficos\n",
    "### Consulta a internet (Google, Stackoverflow e etc) liberada!!"
   ]
  },
  {
   "cell_type": "code",
   "execution_count": 1,
   "metadata": {
    "ExecuteTime": {
     "end_time": "2020-11-20T18:21:26.260151Z",
     "start_time": "2020-11-20T18:21:25.592177Z"
    }
   },
   "outputs": [],
   "source": [
    "# Importe a biblioteca pandas\n",
    "import pandas as pd\n",
    "import seaborn as sns\n",
    "sns.set() # Ajusta valor padrão de tema, escala e paleta de cor"
   ]
  },
  {
   "cell_type": "markdown",
   "metadata": {},
   "source": [
    "### 6.1 Plote um boxplot do índice de gini dos municípios brasileiros.\n",
    "#### Por ser de correção manual, será corrigido apenas uma vez.\n",
    "#### Veja o resultado esperado a seguir.\n"
   ]
  },
  {
   "cell_type": "markdown",
   "metadata": {},
   "source": [
    "#### Dica: é necessário alguma manipulação dos dados antes de plotar o gráfico.\n",
    "#### path_gini='../../curso_ciencia_dados2020/data/originais/gini/ginibr.csv'"
   ]
  },
  {
   "attachments": {
    "5.1_boxplot_gini.png": {
     "image/png": "[encoded data removed]"
    }
   },
   "cell_type": "markdown",
   "metadata": {},
   "source": [
    "![5.1_boxplot_gini.png](attachment:5.1_boxplot_gini.png)"
   ]
  },
  {
   "cell_type": "code",
   "execution_count": 2,
   "metadata": {
    "ExecuteTime": {
     "end_time": "2020-11-20T18:21:26.425622Z",
     "start_time": "2020-11-20T18:21:26.261719Z"
    },
    "nbgrader": {
     "grade": true,
     "grade_id": "cell-d2e0568a09d9eb4a",
     "locked": false,
     "points": 1,
     "schema_version": 3,
     "solution": true,
     "task": false
    }
   },
   "outputs": [
    {
     "data": {
      "image/png": "[encoded data removed]",
      "text/plain": [
       "<Figure size 432x288 with 1 Axes>"
      ]
     },
     "metadata": {},
     "output_type": "display_data"
    }
   ],
   "source": [
    "# Plote seu gráfico aqui\n",
    "# path_gini='https://raw.githubusercontent.com/alexlopespereira/curso_ciencia_dados2020/master/data/originais/gini/ginibr.csv'\n",
    "path_gini='../../curso_ciencia_dados2020/data/originais/gini/ginibr.csv'\n",
    "\n",
    "gini = pd.read_csv(path_gini, sep=';', skiprows=2, engine='python', skipfooter=2, na_values='...', decimal=',')\n",
    "\n",
    "sns.set_style(\"white\")\n",
    "sns.boxplot(data=gini)\n",
    "sns.despine()"
   ]
  },
  {
   "cell_type": "code",
   "execution_count": 3,
   "metadata": {
    "ExecuteTime": {
     "end_time": "2020-11-20T18:21:26.442246Z",
     "start_time": "2020-11-20T18:21:26.427791Z"
    },
    "nbgrader": {
     "grade": true,
     "grade_id": "cell-d2e0568a09d9eb4a",
     "locked": false,
     "points": 1,
     "schema_version": 3,
     "solution": true,
     "task": false
    }
   },
   "outputs": [
    {
     "data": {
      "text/html": [
       "<div>\n",
       "<style scoped>\n",
       "    .dataframe tbody tr th:only-of-type {\n",
       "        vertical-align: middle;\n",
       "    }\n",
       "\n",
       "    .dataframe tbody tr th {\n",
       "        vertical-align: top;\n",
       "    }\n",
       "\n",
       "    .dataframe thead th {\n",
       "        text-align: right;\n",
       "    }\n",
       "</style>\n",
       "<table border=\"1\" class=\"dataframe\">\n",
       "  <thead>\n",
       "    <tr style=\"text-align: right;\">\n",
       "      <th></th>\n",
       "      <th>data</th>\n",
       "      <th>gini</th>\n",
       "    </tr>\n",
       "  </thead>\n",
       "  <tbody>\n",
       "    <tr>\n",
       "      <th>0</th>\n",
       "      <td>1991</td>\n",
       "      <td>0.5983</td>\n",
       "    </tr>\n",
       "    <tr>\n",
       "      <th>1</th>\n",
       "      <td>1991</td>\n",
       "      <td>NaN</td>\n",
       "    </tr>\n",
       "    <tr>\n",
       "      <th>2</th>\n",
       "      <td>1991</td>\n",
       "      <td>NaN</td>\n",
       "    </tr>\n",
       "    <tr>\n",
       "      <th>3</th>\n",
       "      <td>1991</td>\n",
       "      <td>0.5690</td>\n",
       "    </tr>\n",
       "    <tr>\n",
       "      <th>4</th>\n",
       "      <td>1991</td>\n",
       "      <td>0.5827</td>\n",
       "    </tr>\n",
       "    <tr>\n",
       "      <th>...</th>\n",
       "      <td>...</td>\n",
       "      <td>...</td>\n",
       "    </tr>\n",
       "    <tr>\n",
       "      <th>16690</th>\n",
       "      <td>2010</td>\n",
       "      <td>0.4672</td>\n",
       "    </tr>\n",
       "    <tr>\n",
       "      <th>16691</th>\n",
       "      <td>2010</td>\n",
       "      <td>0.4824</td>\n",
       "    </tr>\n",
       "    <tr>\n",
       "      <th>16692</th>\n",
       "      <td>2010</td>\n",
       "      <td>0.4935</td>\n",
       "    </tr>\n",
       "    <tr>\n",
       "      <th>16693</th>\n",
       "      <td>2010</td>\n",
       "      <td>0.5240</td>\n",
       "    </tr>\n",
       "    <tr>\n",
       "      <th>16694</th>\n",
       "      <td>2010</td>\n",
       "      <td>0.6370</td>\n",
       "    </tr>\n",
       "  </tbody>\n",
       "</table>\n",
       "<p>16695 rows × 2 columns</p>\n",
       "</div>"
      ],
      "text/plain": [
       "       data    gini\n",
       "0      1991  0.5983\n",
       "1      1991     NaN\n",
       "2      1991     NaN\n",
       "3      1991  0.5690\n",
       "4      1991  0.5827\n",
       "...     ...     ...\n",
       "16690  2010  0.4672\n",
       "16691  2010  0.4824\n",
       "16692  2010  0.4935\n",
       "16693  2010  0.5240\n",
       "16694  2010  0.6370\n",
       "\n",
       "[16695 rows x 2 columns]"
      ]
     },
     "execution_count": 3,
     "metadata": {},
     "output_type": "execute_result"
    }
   ],
   "source": [
    "gm = pd.melt(gini[['1991', '2000', '2010']])\n",
    "gm.rename(columns={'variable': 'data', 'value': 'gini'}, inplace=True)\n",
    "gm"
   ]
  },
  {
   "cell_type": "code",
   "execution_count": 4,
   "metadata": {
    "ExecuteTime": {
     "end_time": "2020-11-20T18:21:26.602060Z",
     "start_time": "2020-11-20T18:21:26.444403Z"
    },
    "nbgrader": {
     "grade": true,
     "grade_id": "cell-d2e0568a09d9eb4a",
     "locked": false,
     "points": 1,
     "schema_version": 3,
     "solution": true,
     "task": false
    }
   },
   "outputs": [
    {
     "data": {
      "image/png": "[encoded data removed]",
      "text/plain": [
       "<Figure size 432x288 with 1 Axes>"
      ]
     },
     "metadata": {},
     "output_type": "display_data"
    }
   ],
   "source": [
    "sns.boxplot(x='data', y='gini', data=gm)\n",
    "sns.despine()"
   ]
  }
 ],
 "metadata": {
  "celltoolbar": "Create Assignment",
  "kernelspec": {
   "display_name": "Python 3",
   "language": "python",
   "name": "python3"
  },
  "language_info": {
   "codemirror_mode": {
    "name": "ipython",
    "version": 3
   },
   "file_extension": ".py",
   "mimetype": "text/x-python",
   "name": "python",
   "nbconvert_exporter": "python",
   "pygments_lexer": "ipython3",
   "version": "3.8.6"
  }
 },
 "nbformat": 4,
 "nbformat_minor": 4
}
