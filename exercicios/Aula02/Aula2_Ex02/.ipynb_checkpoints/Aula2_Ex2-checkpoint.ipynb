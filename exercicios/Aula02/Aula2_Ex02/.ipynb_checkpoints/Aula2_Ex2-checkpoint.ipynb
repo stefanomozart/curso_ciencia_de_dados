{
 "cells": [
  {
   "cell_type": "markdown",
   "metadata": {},
   "source": [
    "# Aula 2 - Exercícios - Python e NumPy Array\n",
    "### Consulta a internet (Google, Stackoverflow e etc) liberada!!"
   ]
  },
  {
   "cell_type": "markdown",
   "metadata": {},
   "source": [
    "### 2.2 Escreva uma função Python para somar os valores de cada linha de um array numpy 2D e depois retornar a maior destas somas\n",
    "#### Exemplo:  para um array([[1  4 ], [10  8], [4  20]]) \n",
    "#### Resultado esperado: 24"
   ]
  },
  {
   "cell_type": "code",
   "execution_count": 1,
   "metadata": {
    "ExecuteTime": {
     "end_time": "2020-11-16T17:18:48.038603Z",
     "start_time": "2020-11-16T17:18:47.940708Z"
    }
   },
   "outputs": [],
   "source": [
    "# import numpy\n",
    "import numpy as np"
   ]
  },
  {
   "cell_type": "code",
   "execution_count": 2,
   "metadata": {
    "ExecuteTime": {
     "end_time": "2020-11-16T17:18:48.754640Z",
     "start_time": "2020-11-16T17:18:48.747684Z"
    },
    "nbgrader": {
     "grade": false,
     "grade_id": "cell-f7b05dc12adbf2e2",
     "locked": false,
     "schema_version": 3,
     "solution": true,
     "task": false
    }
   },
   "outputs": [],
   "source": [
    "# Dica: A função sum do numpy pode fazer o calculo da soma por linha ou por coluna, \n",
    "#       desde que o parâmetro axis seja especificado corretamente.\n",
    "def max_sum(x):\n",
    "    \"\"\"retorne o valor maximo dentre os resultados da soma por linha de um array 2D \n",
    "    \"\"\"\n",
    "    return np.max(np.sum(x, axis=1))\n",
    "    "
   ]
  },
  {
   "cell_type": "code",
   "execution_count": 3,
   "metadata": {
    "ExecuteTime": {
     "end_time": "2020-11-16T17:18:49.585945Z",
     "start_time": "2020-11-16T17:18:49.583938Z"
    }
   },
   "outputs": [],
   "source": [
    "## Faça seus testes aqui\n",
    "\n"
   ]
  },
  {
   "cell_type": "code",
   "execution_count": 4,
   "metadata": {
    "ExecuteTime": {
     "end_time": "2020-11-16T17:18:50.289208Z",
     "start_time": "2020-11-16T17:18:50.276999Z"
    },
    "nbgrader": {
     "grade": true,
     "grade_id": "cell-af1b0435b6aacc9b",
     "locked": true,
     "points": 1,
     "schema_version": 3,
     "solution": false,
     "task": false
    }
   },
   "outputs": [],
   "source": [
    "# Validação para nota\n",
    "a1 = np.array([[1, 4 ], [10, 8], [4, 20]])\n",
    "a2 = np.array([[1,0,1,9,5],[3,1,2,4,5],[6,1,2,3,4],[8,9,2,1,7]])\n",
    "assert max_sum(a1) == 24\n",
    "assert max_sum(a2) == 27"
   ]
  }
 ],
 "metadata": {
  "celltoolbar": "Create Assignment",
  "kernelspec": {
   "display_name": "Python 3",
   "language": "python",
   "name": "python3"
  },
  "language_info": {
   "codemirror_mode": {
    "name": "ipython",
    "version": 3
   },
   "file_extension": ".py",
   "mimetype": "text/x-python",
   "name": "python",
   "nbconvert_exporter": "python",
   "pygments_lexer": "ipython3",
   "version": "3.8.6"
  }
 },
 "nbformat": 4,
 "nbformat_minor": 4
}
