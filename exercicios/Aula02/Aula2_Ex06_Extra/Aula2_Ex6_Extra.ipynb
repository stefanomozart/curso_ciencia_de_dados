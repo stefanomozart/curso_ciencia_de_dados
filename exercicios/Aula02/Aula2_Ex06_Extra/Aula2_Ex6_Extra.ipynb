{
 "cells": [
  {
   "cell_type": "markdown",
   "metadata": {},
   "source": [
    "# Aula 2 - Exercícios - Sintaxe de Python e NumPy Array\n",
    "### Consulta a internet (Google, Stackoverflow e etc) liberada!!"
   ]
  },
  {
   "cell_type": "markdown",
   "metadata": {},
   "source": [
    "### 2.6 Escreva uma função Python para selecionar dentre os elementos de um array aquele que mais se aproxima de um determinado valor N passado como argumento da função.\n",
    "#### Se houver dois elementos equidistantes de N e forem os mais próximos de N, retorne o menor. Ou seja, para [1, 3, 4] e N=2, retorne 1.\n",
    "#### Não use laços (loops), use funções Numpy.\n",
    "#### Exemplo:  para um array([0, 12, 45, 34, 99]) e N=20\n",
    "#### Resultado esperado: 12"
   ]
  },
  {
   "cell_type": "code",
   "execution_count": 1,
   "metadata": {},
   "outputs": [],
   "source": [
    "import numpy as np"
   ]
  },
  {
   "cell_type": "code",
   "execution_count": 2,
   "metadata": {
    "deletable": false,
    "nbgrader": {
     "cell_type": "code",
     "checksum": "542e20fb7f56c5465877c89b34aacca1",
     "grade": false,
     "grade_id": "cell-e0a4e5deea9187c4",
     "locked": false,
     "schema_version": 3,
     "solution": true,
     "task": false
    }
   },
   "outputs": [],
   "source": [
    "# Dica: Use as funções np.abs, ndarray.argmin e ndarray.sort \n",
    "def get_closest(arr, N):\n",
    "    \"\"\"retorne o elemento do array que mais se aproxima de N.\n",
    "       No caso de dois elementos equidistantes, retorne o menor.\n",
    "    \"\"\"\n",
    "    return sorted([(x, abs(x-N)) for x in arr], key=lambda x:(x[1], x[0]))[0][0]"
   ]
  },
  {
   "cell_type": "code",
   "execution_count": 3,
   "metadata": {},
   "outputs": [
    {
     "data": {
      "text/plain": [
       "3"
      ]
     },
     "execution_count": 3,
     "metadata": {},
     "output_type": "execute_result"
    }
   ],
   "source": [
    "## Faça seus testes aqui\n",
    "N=3\n",
    "arr=np.array([3, 6, 1, 4])\n",
    "get_closest(arr, N)"
   ]
  },
  {
   "cell_type": "code",
   "execution_count": 4,
   "metadata": {
    "deletable": false,
    "editable": false,
    "nbgrader": {
     "cell_type": "code",
     "checksum": "a1441d43bf8c22c71b785018420ad626",
     "grade": true,
     "grade_id": "cell-30d325468b6f6a67",
     "locked": true,
     "points": 1,
     "schema_version": 3,
     "solution": false,
     "task": false
    }
   },
   "outputs": [],
   "source": [
    "# Validação para nota\n",
    "inarr = np.array([3, 6, 1, 4])\n",
    "assert get_closest(inarr, 2) == 1"
   ]
  }
 ],
 "metadata": {
  "kernelspec": {
   "display_name": "Python 3",
   "language": "python",
   "name": "python3"
  },
  "language_info": {
   "codemirror_mode": {
    "name": "ipython",
    "version": 3
   },
   "file_extension": ".py",
   "mimetype": "text/x-python",
   "name": "python",
   "nbconvert_exporter": "python",
   "pygments_lexer": "ipython3",
   "version": "3.8.6"
  }
 },
 "nbformat": 4,
 "nbformat_minor": 4
}
