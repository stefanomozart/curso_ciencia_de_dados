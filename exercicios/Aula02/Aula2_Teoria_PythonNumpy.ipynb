{
 "cells": [
  {
   "cell_type": "markdown",
   "metadata": {},
   "source": [
    "# Aula 2 - Python e Numpy"
   ]
  },
  {
   "cell_type": "markdown",
   "metadata": {},
   "source": [
    "### Erros de Sintaxe"
   ]
  },
  {
   "cell_type": "markdown",
   "metadata": {},
   "source": [
    "#### Sintaxe é um conjunto de regras que definem o que são ou não sentenças válidas.\n",
    "#### Erro de sintaxe ocorre quando executamos uma sentença inválida. Veja o exemplo abaixo."
   ]
  },
  {
   "cell_type": "code",
   "execution_count": 1,
   "metadata": {},
   "outputs": [
    {
     "ename": "SyntaxError",
     "evalue": "invalid syntax (<ipython-input-1-03ff5076eab3>, line 1)",
     "output_type": "error",
     "traceback": [
      "\u001b[0;36m  File \u001b[0;32m\"<ipython-input-1-03ff5076eab3>\"\u001b[0;36m, line \u001b[0;32m1\u001b[0m\n\u001b[0;31m    if 3 > 1\u001b[0m\n\u001b[0m            ^\u001b[0m\n\u001b[0;31mSyntaxError\u001b[0m\u001b[0;31m:\u001b[0m invalid syntax\n"
     ]
    }
   ],
   "source": [
    "if 3 > 1\n",
    "    print(\"True\")\n",
    "else\n",
    "    print(\"False\")"
   ]
  },
  {
   "cell_type": "markdown",
   "metadata": {},
   "source": [
    "### Erros Runtime"
   ]
  },
  {
   "cell_type": "code",
   "execution_count": 2,
   "metadata": {},
   "outputs": [
    {
     "ename": "ZeroDivisionError",
     "evalue": "division by zero",
     "output_type": "error",
     "traceback": [
      "\u001b[0;31m---------------------------------------------------------------------------\u001b[0m",
      "\u001b[0;31mZeroDivisionError\u001b[0m                         Traceback (most recent call last)",
      "\u001b[0;32m<ipython-input-2-7245b383205e>\u001b[0m in \u001b[0;36m<module>\u001b[0;34m\u001b[0m\n\u001b[1;32m      2\u001b[0m \u001b[0ma\u001b[0m \u001b[0;34m=\u001b[0m \u001b[0;36m2\u001b[0m\u001b[0;34m\u001b[0m\u001b[0;34m\u001b[0m\u001b[0m\n\u001b[1;32m      3\u001b[0m \u001b[0mb\u001b[0m \u001b[0;34m=\u001b[0m \u001b[0;36m0\u001b[0m\u001b[0;34m\u001b[0m\u001b[0;34m\u001b[0m\u001b[0m\n\u001b[0;32m----> 4\u001b[0;31m \u001b[0ma\u001b[0m\u001b[0;34m/\u001b[0m\u001b[0mb\u001b[0m \u001b[0;31m# Gera um erro em tempo de execução\u001b[0m\u001b[0;34m\u001b[0m\u001b[0;34m\u001b[0m\u001b[0m\n\u001b[0m",
      "\u001b[0;31mZeroDivisionError\u001b[0m: division by zero"
     ]
    }
   ],
   "source": [
    "# Divisão por zero\n",
    "a = 2\n",
    "b = 0\n",
    "a/b # Gera um erro em tempo de execução"
   ]
  },
  {
   "cell_type": "code",
   "execution_count": 3,
   "metadata": {},
   "outputs": [
    {
     "ename": "TypeError",
     "evalue": "unsupported operand type(s) for /: 'int' and 'str'",
     "output_type": "error",
     "traceback": [
      "\u001b[0;31m---------------------------------------------------------------------------\u001b[0m",
      "\u001b[0;31mTypeError\u001b[0m                                 Traceback (most recent call last)",
      "\u001b[0;32m<ipython-input-3-a1e40aec7b73>\u001b[0m in \u001b[0;36m<module>\u001b[0;34m\u001b[0m\n\u001b[1;32m      1\u001b[0m \u001b[0;31m# Executar uma operação com tipos incompatíveis\u001b[0m\u001b[0;34m\u001b[0m\u001b[0;34m\u001b[0m\u001b[0;34m\u001b[0m\u001b[0m\n\u001b[0;32m----> 2\u001b[0;31m \u001b[0;36m10\u001b[0m\u001b[0;34m/\u001b[0m\u001b[0;34m\"5\"\u001b[0m \u001b[0;31m# Gera um erro em tempo de execução\u001b[0m\u001b[0;34m\u001b[0m\u001b[0;34m\u001b[0m\u001b[0m\n\u001b[0m",
      "\u001b[0;31mTypeError\u001b[0m: unsupported operand type(s) for /: 'int' and 'str'"
     ]
    }
   ],
   "source": [
    "# Executar uma operação com tipos incompatíveis\n",
    "10/\"5\" # Gera um erro em tempo de execução"
   ]
  },
  {
   "cell_type": "code",
   "execution_count": 4,
   "metadata": {},
   "outputs": [
    {
     "ename": "IndexError",
     "evalue": "list index out of range",
     "output_type": "error",
     "traceback": [
      "\u001b[0;31m---------------------------------------------------------------------------\u001b[0m",
      "\u001b[0;31mIndexError\u001b[0m                                Traceback (most recent call last)",
      "\u001b[0;32m<ipython-input-4-ca7dcd10f2d5>\u001b[0m in \u001b[0;36m<module>\u001b[0;34m\u001b[0m\n\u001b[1;32m      1\u001b[0m \u001b[0;31m# Acessar elementos de uma lista que não existem\u001b[0m\u001b[0;34m\u001b[0m\u001b[0;34m\u001b[0m\u001b[0;34m\u001b[0m\u001b[0m\n\u001b[1;32m      2\u001b[0m \u001b[0mc\u001b[0m \u001b[0;34m=\u001b[0m \u001b[0;34m[\u001b[0m\u001b[0;36m1\u001b[0m\u001b[0;34m,\u001b[0m \u001b[0;36m2\u001b[0m\u001b[0;34m,\u001b[0m \u001b[0;36m3\u001b[0m\u001b[0;34m]\u001b[0m\u001b[0;34m\u001b[0m\u001b[0;34m\u001b[0m\u001b[0m\n\u001b[0;32m----> 3\u001b[0;31m \u001b[0mprint\u001b[0m\u001b[0;34m(\u001b[0m\u001b[0mc\u001b[0m\u001b[0;34m[\u001b[0m\u001b[0;36m3\u001b[0m\u001b[0;34m]\u001b[0m\u001b[0;34m)\u001b[0m \u001b[0;31m# Gera um erro em tempo de execução\u001b[0m\u001b[0;34m\u001b[0m\u001b[0;34m\u001b[0m\u001b[0m\n\u001b[0m",
      "\u001b[0;31mIndexError\u001b[0m: list index out of range"
     ]
    }
   ],
   "source": [
    "# Acessar elementos de uma lista que não existem\n",
    "c = [1, 2, 3]\n",
    "print(c[3]) # Gera um erro em tempo de execução"
   ]
  },
  {
   "cell_type": "markdown",
   "metadata": {},
   "source": [
    "### Erros de Lógica"
   ]
  },
  {
   "cell_type": "code",
   "execution_count": 5,
   "metadata": {},
   "outputs": [
    {
     "name": "stdout",
     "output_type": "stream",
     "text": [
      "False\n"
     ]
    }
   ],
   "source": [
    "a = \"10\"\n",
    "if a == 10:\n",
    "    print(\"True\")\n",
    "else:\n",
    "    print(\"False\")\n",
    "        "
   ]
  },
  {
   "cell_type": "markdown",
   "metadata": {},
   "source": [
    "### Tupla\n",
    "#### Uma sequência de elementos ordenada e imutável"
   ]
  },
  {
   "cell_type": "code",
   "execution_count": 6,
   "metadata": {},
   "outputs": [
    {
     "name": "stdout",
     "output_type": "stream",
     "text": [
      "True\n",
      "banana\n",
      "2\n",
      "None\n"
     ]
    }
   ],
   "source": [
    "# Uma tupla é iterável\n",
    "tup = (True, \"banana\", 2, None)\n",
    "for x in tup:\n",
    "    print(x)"
   ]
  },
  {
   "cell_type": "code",
   "execution_count": 7,
   "metadata": {},
   "outputs": [
    {
     "ename": "TypeError",
     "evalue": "'tuple' object does not support item assignment",
     "output_type": "error",
     "traceback": [
      "\u001b[0;31m---------------------------------------------------------------------------\u001b[0m",
      "\u001b[0;31mTypeError\u001b[0m                                 Traceback (most recent call last)",
      "\u001b[0;32m<ipython-input-7-72623039e104>\u001b[0m in \u001b[0;36m<module>\u001b[0;34m\u001b[0m\n\u001b[1;32m      1\u001b[0m \u001b[0;31m# Uma tupla é imutável\u001b[0m\u001b[0;34m\u001b[0m\u001b[0;34m\u001b[0m\u001b[0;34m\u001b[0m\u001b[0m\n\u001b[0;32m----> 2\u001b[0;31m \u001b[0mtup\u001b[0m\u001b[0;34m[\u001b[0m\u001b[0;36m0\u001b[0m\u001b[0;34m]\u001b[0m \u001b[0;34m=\u001b[0m \u001b[0;34m\"a\"\u001b[0m\u001b[0;34m\u001b[0m\u001b[0;34m\u001b[0m\u001b[0m\n\u001b[0m",
      "\u001b[0;31mTypeError\u001b[0m: 'tuple' object does not support item assignment"
     ]
    }
   ],
   "source": [
    "# Uma tupla é imutável\n",
    "tup[0] = \"a\""
   ]
  },
  {
   "cell_type": "markdown",
   "metadata": {},
   "source": [
    "### Set\n",
    "#### É uma coleção não ordenada de objetos distintos útil para testar pertinência a grupos, e fazer operações como intersecção e união"
   ]
  },
  {
   "cell_type": "code",
   "execution_count": 8,
   "metadata": {},
   "outputs": [],
   "source": [
    "c1 = {1, 2, 3, 4}\n",
    "c2 = {3, 4, 5, 6}"
   ]
  },
  {
   "cell_type": "markdown",
   "metadata": {},
   "source": [
    "#### Verificação de pertinência de elemento a grupo"
   ]
  },
  {
   "cell_type": "code",
   "execution_count": 9,
   "metadata": {},
   "outputs": [
    {
     "name": "stdout",
     "output_type": "stream",
     "text": [
      "True\n",
      "False\n"
     ]
    }
   ],
   "source": [
    "print(1 in c1)\n",
    "print(9 in c2)"
   ]
  },
  {
   "cell_type": "markdown",
   "metadata": {},
   "source": [
    "#### União de conjuntos"
   ]
  },
  {
   "cell_type": "code",
   "execution_count": 10,
   "metadata": {},
   "outputs": [
    {
     "name": "stdout",
     "output_type": "stream",
     "text": [
      "{1, 2, 3, 4, 5, 6}\n"
     ]
    }
   ],
   "source": [
    "print(c1 | c2)"
   ]
  },
  {
   "cell_type": "markdown",
   "metadata": {},
   "source": [
    "#### Intersecção entre conjuntos"
   ]
  },
  {
   "cell_type": "code",
   "execution_count": 11,
   "metadata": {},
   "outputs": [
    {
     "name": "stdout",
     "output_type": "stream",
     "text": [
      "{3, 4}\n"
     ]
    }
   ],
   "source": [
    "print(c1 & c2)"
   ]
  },
  {
   "cell_type": "markdown",
   "metadata": {},
   "source": [
    "### Função zip"
   ]
  },
  {
   "cell_type": "code",
   "execution_count": 12,
   "metadata": {},
   "outputs": [
    {
     "name": "stdout",
     "output_type": "stream",
     "text": [
      "a, 1\n",
      "b, 2\n",
      "c, 3\n"
     ]
    }
   ],
   "source": [
    "letras = [\"a\", \"b\", \"c\"]\n",
    "numeros = [1, 2, 3]\n",
    "\n",
    "for l, n in zip(letras, numeros):\n",
    "    print(f'{l}, {n}')"
   ]
  },
  {
   "cell_type": "markdown",
   "metadata": {},
   "source": [
    "### Instruções inline e List Comprehension"
   ]
  },
  {
   "cell_type": "code",
   "execution_count": 13,
   "metadata": {},
   "outputs": [
    {
     "name": "stdout",
     "output_type": "stream",
     "text": [
      "1\n",
      "[0, 1, 2, 3, 4, 5, 6, 7, 8, 9]\n",
      "[0, 1, 4, 9, 16, 25, 36, 49, 64, 81]\n"
     ]
    }
   ],
   "source": [
    "# 1) Escreva uma instrução if else na forma inline\n",
    "# Dica - Sintaxe: valor_se_verdadeiro if condicao else valor_se_falso\n",
    "# 2) Escreva uma instrução de loop (for) na forma inline calculando [1, 4, 9 ... 100]\n",
    "# Dica - Sintaxe: [ OPERACAO_VAL for VAL in SEQUENCIA ]\n",
    "\n",
    "a = 2\n",
    "# Sintaxe: valor_se_verdadeiro if condicao else valor_se_falso\n",
    "b = 0 if a > 10 else 1  #Sintaxe: vv if cond else vf\n",
    "print(b)\n",
    "# [ OPERACAO_VAL for VAL in SEQUENCIA ]\n",
    "resultado1 = [x for x in range(10)] # list comprehension\n",
    "resultado2 = [x * x for x in range(10)]\n",
    "print(resultado1)\n",
    "print(resultado2)"
   ]
  },
  {
   "cell_type": "markdown",
   "metadata": {},
   "source": [
    "## NumPy Arrays\n"
   ]
  },
  {
   "cell_type": "code",
   "execution_count": 14,
   "metadata": {},
   "outputs": [],
   "source": [
    "import numpy as np"
   ]
  },
  {
   "cell_type": "markdown",
   "metadata": {},
   "source": [
    "### Criando ndarrays"
   ]
  },
  {
   "cell_type": "code",
   "execution_count": 15,
   "metadata": {},
   "outputs": [
    {
     "name": "stdout",
     "output_type": "stream",
     "text": [
      "[6.  7.5 8.  0.  1. ]\n",
      "[[1 2 3 4]\n",
      " [5 6 7 8]]\n",
      "[0. 0. 0. 0. 0.]\n"
     ]
    }
   ],
   "source": [
    "# 1) Crie um array unidimensional a partir da lista [6, 7.5, 8, 0, 1]\n",
    "# 2) Crie um array bidimensional a partir da lista [[1, 2, 3, 4], [5, 6, 7, 8]]\n",
    "# 3) Crie um array unidimensional de zeros\n",
    "\n",
    "data1 = [6, 7.5, 8, 0, 1]\n",
    "arr1 = np.array(data1)\n",
    "print(arr1)\n",
    "data2 = [[1, 2, 3, 4], [5, 6, 7, 8]]\n",
    "arr2 = np.array(data2)\n",
    "print(arr2)\n",
    "print(np.zeros(5)) # Função que cria um array de zeros"
   ]
  },
  {
   "cell_type": "code",
   "execution_count": 16,
   "metadata": {},
   "outputs": [
    {
     "name": "stdout",
     "output_type": "stream",
     "text": [
      "float64\n",
      "(2, 4)\n",
      "2\n"
     ]
    }
   ],
   "source": [
    "# 1) Crie o seguinte array arr1 = np.array([6, 7.5, 8, 0, 1])\n",
    "# 2) Imprima o tipo do dado do array arr1\n",
    "# 3) Crie o seguinte array arr2 = np.array([[1, 2, 3, 4], [5, 6, 7, 8]], dtype=np.int32)\n",
    "# 4) Imprima o shape e o número de dimensões do array arr2\n",
    "\n",
    "# O tipo do dado é inferido. Mas também pode ser especificado\n",
    "arr1 = np.array([6, 7.5, 8, 0, 1])\n",
    "print(arr1.dtype) # tipo do dado\n",
    "arr2 = np.array([[1, 2, 3, 4], [5, 6, 7, 8]], dtype=np.int32)\n",
    "print(arr2.shape) # Forma/dimensões do array\n",
    "print(arr2.ndim) # Quantidade de dimensões"
   ]
  },
  {
   "cell_type": "markdown",
   "metadata": {},
   "source": [
    "### Conversão de tipos (cast)"
   ]
  },
  {
   "cell_type": "code",
   "execution_count": 17,
   "metadata": {},
   "outputs": [
    {
     "name": "stdout",
     "output_type": "stream",
     "text": [
      "[ 1.25 -9.6  42.  ]\n",
      "[ 3 -1 -2  0 12 10]\n"
     ]
    }
   ],
   "source": [
    "# 1) Crie o seguinte array num_str = np.array(['1.25', '-9.6', '42'], dtype=np.string_)\n",
    "# 2) Converta-o para o tipo float\n",
    "# 3) Crie o seguinte array arr1 = np.array([3.7, -1.2, -2.6, 0.5, 12.9, 10.1])\n",
    "# 4) Converta-o para o tipo int32\n",
    "\n",
    "num_str = np.array(['1.25', '-9.6', '42'], dtype=np.string_)\n",
    "arr_float = num_str.astype(float) # Converte para float\n",
    "print(arr_float)\n",
    "arr1 = np.array([3.7, -1.2, -2.6, 0.5, 12.9, 10.1])\n",
    "arr1_int = arr1.astype(np.int32) # Converte para int32\n",
    "print(arr1_int)"
   ]
  },
  {
   "cell_type": "markdown",
   "metadata": {},
   "source": [
    "### Operações vetorizadas em ndarrays\n",
    "#### Mais eficientes (preferíveis)"
   ]
  },
  {
   "cell_type": "code",
   "execution_count": 18,
   "metadata": {},
   "outputs": [
    {
     "name": "stdout",
     "output_type": "stream",
     "text": [
      "[[ 0.2134361   0.64271684  2.13394185]\n",
      " [-0.3614577  -1.1876562  -0.84676889]]\n",
      "[[  2.13436096   6.42716844  21.33941847]\n",
      " [ -3.61457701 -11.87656203  -8.46768891]]\n",
      "[[ 0.42687219  1.28543369  4.26788369]\n",
      " [-0.7229154  -2.37531241 -1.69353778]]\n"
     ]
    }
   ],
   "source": [
    "# 1) Importe a biblioteca numpy e lhe dê o apelido np \n",
    "# 2) Crie um array (data) bidimensional de 2 linhas e 3 colunas de números aleatórios\n",
    "# 3) Multiplique todos os elementos do vetor por 10\n",
    "# 4) Some os elementos do array data a ele mesmo\n",
    "\n",
    "import numpy as np # Importa a biblioteca numpy e lhe dá o apelido de np \n",
    "data = np.random.randn(2, 3) # Gerar dados aleatórios. 2L x 3C\n",
    "print(data)\n",
    "print(data * 10)\n",
    "print(data + data)"
   ]
  },
  {
   "cell_type": "markdown",
   "metadata": {},
   "source": [
    "### Aritmética com NumPy Arrays"
   ]
  },
  {
   "cell_type": "code",
   "execution_count": 19,
   "metadata": {},
   "outputs": [
    {
     "name": "stdout",
     "output_type": "stream",
     "text": [
      "[1. 4. 9.]\n",
      "[0. 0. 0.]\n",
      "[1.         0.5        0.33333333]\n",
      "[1.         1.41421356 1.73205081]\n",
      "[ True  True  True]\n"
     ]
    }
   ],
   "source": [
    "# 1) Crie os seguintes arrays arr = np.array([1., 2., 3.]) e arr2 = np.array([4., 5., 6.])\n",
    "# 2) Calcule arr * arr\n",
    "# 3) Calcule arr - arr\n",
    "# 4) Calcule 1 / arr\n",
    "# 5) Calcule a raiz quadrada dos elementos de arr\n",
    "# 6) Calcule arr - arr\n",
    "# 7) Compare os elementos do array arr com os elementos do arr2\n",
    "\n",
    "arr = np.array([1., 2., 3.])\n",
    "arr2 = np.array([4., 5., 6.])\n",
    "print(arr * arr)\n",
    "print(arr - arr)\n",
    "print(1 / arr)\n",
    "print(arr ** 0.5)\n",
    "print(arr2 > arr)"
   ]
  },
  {
   "cell_type": "markdown",
   "metadata": {},
   "source": [
    "### Comparação de Desempenho: Numpy array vs list"
   ]
  },
  {
   "cell_type": "code",
   "execution_count": 20,
   "metadata": {},
   "outputs": [
    {
     "name": "stdout",
     "output_type": "stream",
     "text": [
      "CPU times: user 9.49 ms, sys: 13.7 ms, total: 23.2 ms\n",
      "Wall time: 23.2 ms\n",
      "CPU times: user 375 ms, sys: 147 ms, total: 522 ms\n",
      "Wall time: 521 ms\n",
      "[2 4 6 8]\n",
      "[2, 4, 6, 8]\n"
     ]
    }
   ],
   "source": [
    "# 1) Crie um numpy array com 10 milhoes de numeros sequenciais\n",
    "# 2) Crie uma lista 10 milhoes de numeros sequenciais\n",
    "# 3) Meça o tempo de multiplicar todos os elementos do array por 2\n",
    "# 4) Meça o tempo de multiplicar todos os elementos da lista por 2\n",
    "# Dica: %time mede o tempo tomado pela execução da linha\n",
    "# Dica: Não precisa importar a biblioteca numpy novamente. \n",
    "#       Ela foi importada na célula 19, acima.\n",
    "\n",
    "my_arr = np.arange(10000000) # Função que cria um array de números sequenciais\n",
    "my_list = list(range(10000000))\n",
    "# %time mede o tempo tomado pela execução da linha\n",
    "%time my_arr2 = my_arr * 2\n",
    "%time my_list2 = [x * 2 for x in my_list]\n",
    "print(my_arr2[1:5])\n",
    "print(my_list2[1:5])"
   ]
  },
  {
   "cell_type": "markdown",
   "metadata": {},
   "source": [
    "### Slicing (fatiar) NumPy Arrays\n",
    "#### Nas listas os slices são cópias\n",
    "#### Nos arrays numpy os slices são views (visualizações)"
   ]
  },
  {
   "cell_type": "code",
   "execution_count": 21,
   "metadata": {},
   "outputs": [
    {
     "name": "stdout",
     "output_type": "stream",
     "text": [
      "[0 1 2 3 4 5 6 7 8 9]\n",
      "[    0     1     2     3     4     5 12345     7     8     9]\n",
      "[0, 1, 2, 3, 4, 5, 6, 7, 8, 9]\n"
     ]
    }
   ],
   "source": [
    "# 1) Crie o seguinte array: arr = np.arange(10)\n",
    "# 2) Guarde na variavel arr_slice os elementos de índice 5 até 8 deste array\n",
    "# 3) Atribua o valor 12345 ao elemento de índice 1 do array arr_slice\n",
    "# 4) Visualize o arr e perceba que o elemento de índice 6 alterou de valor\n",
    "# 5) Crie a seguinte lista: li2 = list(range(10))\n",
    "# 6) Guarde na variavel list_slice os elementos de índice 5 até 8 da lista li2\n",
    "# 7) Atribua o valor 12345 ao elemento de índice 1 da lista list_slice\n",
    "# 8) Visualize a lista li2 e perceba que o elemento de índice 6 alterou de valor\n",
    "\n",
    "arr = np.arange(10)\n",
    "print(arr)\n",
    "arr_slice = arr[5:8]\n",
    "arr_slice[1] = 12345\n",
    "print(arr)\n",
    "li2 = list(range(10)) # Repetindo a operação equivalente com uma lista\n",
    "list_slice = li2[5:8]\n",
    "list_slice[1] = 12345\n",
    "print(li2)"
   ]
  },
  {
   "cell_type": "markdown",
   "metadata": {},
   "source": [
    "### Slicing (fatiar) de arrays bidimensionais"
   ]
  },
  {
   "cell_type": "code",
   "execution_count": 22,
   "metadata": {},
   "outputs": [
    {
     "name": "stdout",
     "output_type": "stream",
     "text": [
      "(3, 3)\n",
      "[7 8 9]\n",
      "3\n",
      "3\n"
     ]
    }
   ],
   "source": [
    "# 1) Crie o seguinte array bidimensional: arr2d = np.array([[1, 2, 3], [4, 5, 6], [7, 8, 9]])\n",
    "# 2) Imprima o shape desse array\n",
    "# 3) Imprima a linha de índice 2 desse array\n",
    "# 4) Imprima o elemento de posição 0,2 desse array, usando as sintaxes com e sem vírgula\n",
    "\n",
    "arr2d = np.array([[1, 2, 3], [4, 5, 6], [7, 8, 9]])\n",
    "print(arr2d.shape)\n",
    "print(arr2d[2])\n",
    "print(arr2d[0][2]) # Tanto faz\n",
    "print(arr2d[0, 2]) # Tanto faz"
   ]
  },
  {
   "cell_type": "markdown",
   "metadata": {},
   "source": [
    "### Outras funções numpy"
   ]
  },
  {
   "cell_type": "markdown",
   "metadata": {},
   "source": [
    "### Função Soma (np.sum)"
   ]
  },
  {
   "cell_type": "code",
   "execution_count": 23,
   "metadata": {},
   "outputs": [
    {
     "name": "stdout",
     "output_type": "stream",
     "text": [
      "[[0 1]\n",
      " [0 5]]\n",
      "6\n",
      "[0 6]\n",
      "[1 5]\n"
     ]
    }
   ],
   "source": [
    "ar = np.array([[0, 1], [0, 5]])\n",
    "print(ar)\n",
    "print(np.sum(ar))\n",
    "print(np.sum(ar, axis=0))\n",
    "print(np.sum(ar, axis=1))"
   ]
  },
  {
   "cell_type": "markdown",
   "metadata": {},
   "source": [
    "### Função média (np.mean)"
   ]
  },
  {
   "cell_type": "code",
   "execution_count": 24,
   "metadata": {},
   "outputs": [
    {
     "name": "stdout",
     "output_type": "stream",
     "text": [
      "[[2 1]\n",
      " [0 5]]\n",
      "2.0\n",
      "[1. 3.]\n",
      "[1.5 2.5]\n"
     ]
    }
   ],
   "source": [
    "ar = np.array([[2, 1], [0, 5]])\n",
    "print(ar)\n",
    "print(np.mean(ar))\n",
    "print(np.mean(ar, axis=0))\n",
    "print(np.mean(ar, axis=1))"
   ]
  },
  {
   "cell_type": "markdown",
   "metadata": {},
   "source": [
    "### Função desvio padrão (np.std)"
   ]
  },
  {
   "cell_type": "code",
   "execution_count": 25,
   "metadata": {},
   "outputs": [
    {
     "name": "stdout",
     "output_type": "stream",
     "text": [
      "[[2 1]\n",
      " [0 5]]\n",
      "1.8708286933869707\n",
      "[1. 2.]\n",
      "[0.5 2.5]\n"
     ]
    }
   ],
   "source": [
    "ar = np.array([[2, 1], [0, 5]])\n",
    "print(ar)\n",
    "print(np.std(ar))\n",
    "print(np.std(ar, axis=0))\n",
    "print(np.std(ar, axis=1))"
   ]
  },
  {
   "cell_type": "markdown",
   "metadata": {},
   "source": [
    "### Função algum (np.any)"
   ]
  },
  {
   "cell_type": "code",
   "execution_count": 26,
   "metadata": {},
   "outputs": [
    {
     "name": "stdout",
     "output_type": "stream",
     "text": [
      "[[ True False]\n",
      " [ True  True]]\n",
      "True\n",
      "[ True  True]\n"
     ]
    }
   ],
   "source": [
    "arr2 = np.array([[True, False], [True, True]])\n",
    "print(arr2)\n",
    "print(np.any(arr2))\n",
    "print(np.any(arr2, axis=0))"
   ]
  },
  {
   "cell_type": "markdown",
   "metadata": {},
   "source": [
    "### Função np.argmax"
   ]
  },
  {
   "cell_type": "code",
   "execution_count": 27,
   "metadata": {},
   "outputs": [
    {
     "name": "stdout",
     "output_type": "stream",
     "text": [
      "[[10 11 12]\n",
      " [13 14 15]]\n",
      "5\n",
      "[1 1 1]\n",
      "[2 2]\n"
     ]
    }
   ],
   "source": [
    "a = np.array([[10, 11, 12],\n",
    "          [13, 14, 15]])\n",
    "print(a)\n",
    "print(np.argmax(a))\n",
    "print(np.argmax(a, axis=0))\n",
    "print(np.argmax(a, axis=1))"
   ]
  },
  {
   "cell_type": "markdown",
   "metadata": {},
   "source": [
    "### Filtrar um Array baseado numa condição"
   ]
  },
  {
   "cell_type": "code",
   "execution_count": 28,
   "metadata": {},
   "outputs": [
    {
     "name": "stdout",
     "output_type": "stream",
     "text": [
      "[0 1 2 3 4 5 6 7 8]\n",
      "[ True  True  True  True False False False False False]\n",
      "[0 1 2 3]\n"
     ]
    }
   ],
   "source": [
    "arr = np.array([0, 1, 2, 3, 4, 5, 6, 7, 8])\n",
    "print(arr)\n",
    "print(arr < 4)\n",
    "print(arr[arr < 4])"
   ]
  },
  {
   "cell_type": "markdown",
   "metadata": {},
   "source": [
    "### Operações lógicas com Array Numpy"
   ]
  },
  {
   "cell_type": "code",
   "execution_count": 29,
   "metadata": {},
   "outputs": [
    {
     "name": "stdout",
     "output_type": "stream",
     "text": [
      "[False False False  True  True False False False False]\n",
      "[3 4]\n"
     ]
    }
   ],
   "source": [
    "arr1 = np.array([0, 1, 2, 3, 4, 5, 6, 7, 8])\n",
    "selecao = (arr1 > 2) & (arr1 <5)\n",
    "print(selecao)\n",
    "print(arr1[selecao])"
   ]
  },
  {
   "cell_type": "code",
   "execution_count": 30,
   "metadata": {},
   "outputs": [
    {
     "name": "stdout",
     "output_type": "stream",
     "text": [
      "[ True  True False False False False  True  True  True]\n",
      "[0 1 6 7 8]\n"
     ]
    }
   ],
   "source": [
    "selecao2 = (arr1 < 2) | (arr1 > 5)\n",
    "print(selecao2)\n",
    "print(arr1[selecao2])"
   ]
  }
 ],
 "metadata": {
  "kernelspec": {
   "display_name": "Python 3",
   "language": "python",
   "name": "python3"
  },
  "language_info": {
   "codemirror_mode": {
    "name": "ipython",
    "version": 3
   },
   "file_extension": ".py",
   "mimetype": "text/x-python",
   "name": "python",
   "nbconvert_exporter": "python",
   "pygments_lexer": "ipython3",
   "version": "3.8.6"
  }
 },
 "nbformat": 4,
 "nbformat_minor": 4
}
