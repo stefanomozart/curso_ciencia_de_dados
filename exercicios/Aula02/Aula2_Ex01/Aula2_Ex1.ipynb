{
 "cells": [
  {
   "cell_type": "markdown",
   "metadata": {},
   "source": [
    "# Aula 2 - Exercícios - Sintaxe de Python e NumPy Array\n",
    "### Consulta a internet (Google, Stackoverflow e etc) liberada!!"
   ]
  },
  {
   "cell_type": "markdown",
   "metadata": {},
   "source": [
    "### 2.1 Escreva uma função Python para contar a quantidade de itens de um dado valor num array NumPy\n",
    "#### Exemplo:  para um array([1  4  10  8  4  20  23]) e n=4\n",
    "#### Resultado esperado: 2\n",
    "#### Obs.: Lembre-se de usar funções numpy que realizam as operações sem a necessidade de escrever laços (loops)"
   ]
  },
  {
   "cell_type": "code",
   "execution_count": 1,
   "metadata": {},
   "outputs": [],
   "source": [
    "# import numpy\n",
    "import numpy as np"
   ]
  },
  {
   "cell_type": "code",
   "execution_count": 2,
   "metadata": {
    "deletable": false,
    "nbgrader": {
     "cell_type": "code",
     "checksum": "0128e2fcc42039197e8480d54515cab6",
     "grade": false,
     "grade_id": "cell-f6c50b3e165db993",
     "locked": false,
     "schema_version": 3,
     "solution": true,
     "task": false
    }
   },
   "outputs": [],
   "source": [
    "# Dica: A função count_nonzero do pacote numpy conta a quantidade \n",
    "#       de elementos diferentes de zero ou a quantidade de elementos True.\n",
    "\n",
    "def count_value(array, n):\n",
    "    \"\"\"retorne a quantidade de vezes que n ocorre \n",
    "    \"\"\"\n",
    "    return np.count_nonzero(array == n)"
   ]
  },
  {
   "cell_type": "code",
   "execution_count": 3,
   "metadata": {},
   "outputs": [],
   "source": [
    "## Faça seus testes aqui\n"
   ]
  },
  {
   "cell_type": "code",
   "execution_count": 4,
   "metadata": {
    "deletable": false,
    "editable": false,
    "nbgrader": {
     "cell_type": "code",
     "checksum": "ad02e144e093534cd8d28969e3619d98",
     "grade": true,
     "grade_id": "cell-401910203dadc4db",
     "locked": true,
     "points": 1,
     "schema_version": 3,
     "solution": false,
     "task": false
    }
   },
   "outputs": [],
   "source": [
    "# Validação para nota\n",
    "a1 = np.array([1,0,1,9,5,3,1,2,4,5,6,1,2,3,4,8,9,2,1])\n",
    "assert count_value(a1, 1) == 5\n"
   ]
  }
 ],
 "metadata": {
  "kernelspec": {
   "display_name": "Python 3",
   "language": "python",
   "name": "python3"
  },
  "language_info": {
   "codemirror_mode": {
    "name": "ipython",
    "version": 3
   },
   "file_extension": ".py",
   "mimetype": "text/x-python",
   "name": "python",
   "nbconvert_exporter": "python",
   "pygments_lexer": "ipython3",
   "version": "3.8.6"
  }
 },
 "nbformat": 4,
 "nbformat_minor": 4
}
