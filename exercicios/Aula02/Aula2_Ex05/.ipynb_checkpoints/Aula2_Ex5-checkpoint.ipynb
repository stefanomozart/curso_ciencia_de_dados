{
 "cells": [
  {
   "cell_type": "markdown",
   "metadata": {},
   "source": [
    "# Aula 2 - Exercícios - Sintaxe de Python e NumPy Array\n",
    "### Consulta a internet (Google, Stackoverflow e etc) liberada!!"
   ]
  },
  {
   "cell_type": "markdown",
   "metadata": {},
   "source": [
    "### 2.5 Escreva uma função Python para selecionar os elementos de um array que são ao mesmo tempo: maiores que 10, menores que 50 e multiplos de 3.\n",
    "#### Exemplo:  para um array([0, 12, 45, 34, 99])\n",
    "#### Resultado esperado: array([12, 45])"
   ]
  },
  {
   "cell_type": "code",
   "execution_count": 1,
   "metadata": {
    "ExecuteTime": {
     "end_time": "2020-11-23T17:54:00.788889Z",
     "start_time": "2020-11-23T17:54:00.691542Z"
    }
   },
   "outputs": [],
   "source": [
    "import numpy as np"
   ]
  },
  {
   "cell_type": "code",
   "execution_count": 2,
   "metadata": {
    "deletable": false,
    "nbgrader": {
     "cell_type": "code",
     "checksum": "14dae3493aad6d23b3e38f1e002e1e5f",
     "grade": false,
     "grade_id": "cell-e0a4e5deea9187c4",
     "locked": false,
     "schema_version": 3,
     "solution": true,
     "task": false
    }
   },
   "outputs": [],
   "source": [
    "# Dica: Combine a explicação do slide 29 da aula2 com a sua solução\n",
    "#       do exercício W2.22 \n",
    "def filter_array(arr):\n",
    "    \"\"\"retorne um array numpy contendo números maiores que 10, \n",
    "       menores que 50 e multiplos de 3\n",
    "    \"\"\"\n",
    "    #return  [x for x in arr if x > 10 and x < 50 and x % 3 == 0]\n",
    "    return arr[(arr > 10) & (arr < 50) & (arr % 3 == 0)]"
   ]
  },
  {
   "cell_type": "code",
   "execution_count": 3,
   "metadata": {},
   "outputs": [
    {
     "data": {
      "text/plain": [
       "array([12, 45])"
      ]
     },
     "execution_count": 3,
     "metadata": {},
     "output_type": "execute_result"
    }
   ],
   "source": [
    "## Faça seus testes aqui\n",
    "filter_array(np.array([0, 12, 45, 34, 99]))"
   ]
  },
  {
   "cell_type": "code",
   "execution_count": 4,
   "metadata": {
    "deletable": false,
    "editable": false,
    "nbgrader": {
     "cell_type": "code",
     "checksum": "f5d6e21101d49628cd25bdbd5db802a0",
     "grade": true,
     "grade_id": "cell-30d325468b6f6a67",
     "locked": true,
     "points": 1,
     "schema_version": 3,
     "solution": false,
     "task": false
    }
   },
   "outputs": [],
   "source": [
    "# Validação para nota\n",
    "inarr = np.array([0, 12, 45, 34, 99])\n",
    "outarr = np.array([12, 45])\n",
    "assert (filter_array(inarr) == outarr).all()"
   ]
  }
 ],
 "metadata": {
  "kernelspec": {
   "display_name": "Python 3",
   "language": "python",
   "name": "python3"
  },
  "language_info": {
   "codemirror_mode": {
    "name": "ipython",
    "version": 3
   },
   "file_extension": ".py",
   "mimetype": "text/x-python",
   "name": "python",
   "nbconvert_exporter": "python",
   "pygments_lexer": "ipython3",
   "version": "3.8.6"
  }
 },
 "nbformat": 4,
 "nbformat_minor": 4
}
