{
 "cells": [
  {
   "cell_type": "markdown",
   "metadata": {},
   "source": [
    "# Aula 2 - Exercícios - Sintaxe de Python e NumPy Array\n",
    "### Consulta a internet (Google, Stackoverflow e etc) liberada!!"
   ]
  },
  {
   "cell_type": "markdown",
   "metadata": {},
   "source": [
    "### 2.4 Escreva uma função Python para converter para celcius um array de temperaturas em Fahrenheit. Arredonde o resultado até 2a casa decimal usando a função .round(decimals=2) do numpy\n",
    "#### Exemplo:  para um array([0, 12, 45.21, 34, 99.91])\n",
    "#### Resultado esperado: array([-17.77, -11.11, 7.33, 1.11, 37.72])"
   ]
  },
  {
   "cell_type": "code",
   "execution_count": 1,
   "metadata": {
    "deletable": false,
    "nbgrader": {
     "cell_type": "code",
     "checksum": "518a75ddc26b82a98097f12692436e54",
     "grade": false,
     "grade_id": "cell-e0a4e5deea9187c4",
     "locked": false,
     "schema_version": 3,
     "solution": true,
     "task": false
    }
   },
   "outputs": [],
   "source": [
    "import numpy as np\n",
    "\n",
    "# Dica: T(°C) = (T(°F) - 32) × 5/9\n",
    "def get_ceusius(F):\n",
    "    \"\"\"retorne um array contendo as temperaturas em graus Ceusius\n",
    "    \"\"\"\n",
    "    return ((F - 32) * (5/9)).round(decimals=2)"
   ]
  },
  {
   "cell_type": "code",
   "execution_count": 2,
   "metadata": {},
   "outputs": [],
   "source": [
    "## Faça seus testes aqui\n",
    "\n"
   ]
  },
  {
   "cell_type": "code",
   "execution_count": 3,
   "metadata": {
    "deletable": false,
    "editable": false,
    "nbgrader": {
     "cell_type": "code",
     "checksum": "b5c4193ce3dfcebc7c13b7f47817415b",
     "grade": true,
     "grade_id": "cell-30d325468b6f6a67",
     "locked": true,
     "points": 1,
     "schema_version": 3,
     "solution": false,
     "task": false
    }
   },
   "outputs": [],
   "source": [
    "# Validação para nota\n",
    "tf = np.array([0, 12, 45.21, 34, 99.91])\n",
    "tc = np.array([-17.78, -11.11, 7.34, 1.11, 37.73])\n",
    "assert (get_ceusius(tf) == tc).all()"
   ]
  }
 ],
 "metadata": {
  "kernelspec": {
   "display_name": "Python 3",
   "language": "python",
   "name": "python3"
  },
  "language_info": {
   "codemirror_mode": {
    "name": "ipython",
    "version": 3
   },
   "file_extension": ".py",
   "mimetype": "text/x-python",
   "name": "python",
   "nbconvert_exporter": "python",
   "pygments_lexer": "ipython3",
   "version": "3.8.6"
  }
 },
 "nbformat": 4,
 "nbformat_minor": 4
}
