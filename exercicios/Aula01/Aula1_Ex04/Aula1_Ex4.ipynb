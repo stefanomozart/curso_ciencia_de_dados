{
 "cells": [
  {
   "cell_type": "markdown",
   "metadata": {},
   "source": [
    "# Aula 1 - Exercícios - Sintaxe de Python e NumPy Array\n",
    "### Consulta a internet (Google, Stackoverflow e etc) liberada!!"
   ]
  },
  {
   "cell_type": "markdown",
   "metadata": {},
   "source": [
    "### 1.4 Escreva uma função Python para gerar um dicionário que contenha pares (chave e valor) de números. A chave deve variar de 1 a n, e os valores sejam o valor da chave elevado ao quadrado. \n",
    "#### Exemplo:  Para n = 5\n",
    "#### Resultado Esperado: {1: 1, 2: 4, 3: 9, 4: 16, 5: 25}"
   ]
  },
  {
   "cell_type": "code",
   "execution_count": 1,
   "metadata": {
    "deletable": false,
    "nbgrader": {
     "cell_type": "code",
     "checksum": "100372645fc19eadaaab6be94e919479",
     "grade": false,
     "grade_id": "cell-bb9537795a06bd7e",
     "locked": false,
     "schema_version": 3,
     "solution": true,
     "task": false
    }
   },
   "outputs": [],
   "source": [
    "# Dica: use a função range para criar a sequencia de numeros desejados\n",
    "def create_dict(n):\n",
    "    \"\"\"retorne um dicionário com pares (x, x*x)\n",
    "    \"\"\"\n",
    "    return {x: x**2 for x in range(1, n+1)}\n",
    "    "
   ]
  },
  {
   "cell_type": "code",
   "execution_count": 2,
   "metadata": {},
   "outputs": [
    {
     "data": {
      "text/plain": [
       "{1: 1, 2: 4, 3: 9}"
      ]
     },
     "execution_count": 2,
     "metadata": {},
     "output_type": "execute_result"
    }
   ],
   "source": [
    "## Faça seus testes aqui\n",
    "\n",
    "create_dict(3)"
   ]
  },
  {
   "cell_type": "code",
   "execution_count": 3,
   "metadata": {
    "deletable": false,
    "editable": false,
    "nbgrader": {
     "cell_type": "code",
     "checksum": "e293e8992b607068910f7e15ab92e647",
     "grade": true,
     "grade_id": "cell-61d03fd9d1b0eb4e",
     "locked": true,
     "points": 1,
     "schema_version": 3,
     "solution": false,
     "task": false
    }
   },
   "outputs": [],
   "source": [
    "# Validação para nota\n",
    "assert create_dict(5) == {1: 1, 2: 4, 3: 9, 4: 16, 5: 25}\n"
   ]
  }
 ],
 "metadata": {
  "kernelspec": {
   "display_name": "Python 3",
   "language": "python",
   "name": "python3"
  },
  "language_info": {
   "codemirror_mode": {
    "name": "ipython",
    "version": 3
   },
   "file_extension": ".py",
   "mimetype": "text/x-python",
   "name": "python",
   "nbconvert_exporter": "python",
   "pygments_lexer": "ipython3",
   "version": "3.8.6"
  }
 },
 "nbformat": 4,
 "nbformat_minor": 4
}
