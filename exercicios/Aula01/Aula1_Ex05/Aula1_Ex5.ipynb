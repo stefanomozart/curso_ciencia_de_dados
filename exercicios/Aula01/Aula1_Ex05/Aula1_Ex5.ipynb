{
 "cells": [
  {
   "cell_type": "markdown",
   "metadata": {},
   "source": [
    "# Aula 1 - Exercícios - Sintaxe de Python e NumPy Array\n",
    "### Consulta a internet (Google, Stackoverflow e etc) liberada!!"
   ]
  },
  {
   "cell_type": "markdown",
   "metadata": {},
   "source": [
    "### 1.5 Escreva uma função Python para remover itens duplicados de um dicionário, ou seja, cujos valores estejam duplicados.\n",
    "#### Exemplo:  d =  {1: 1, 2: 1, 3: 9, 4: 1, 5: 25}\n",
    "#### Resultado Esperado: {1: 1, 3: 9, 5: 25}"
   ]
  },
  {
   "cell_type": "code",
   "execution_count": 1,
   "metadata": {
    "deletable": false,
    "nbgrader": {
     "cell_type": "code",
     "checksum": "cd9b0b1b17e22bc2a7f6ea56914c15d5",
     "grade": false,
     "grade_id": "cell-1ff4485b8100a753",
     "locked": false,
     "schema_version": 3,
     "solution": true,
     "task": false
    }
   },
   "outputs": [],
   "source": [
    "def remove_duplicates(data):\n",
    "    \"\"\"retorne um dicionário sem duplicatas\n",
    "    \"\"\"\n",
    "    ret = {}\n",
    "    for key, val in data.items():\n",
    "        if val not in ret.values():\n",
    "            ret[key] = val\n",
    "    return ret"
   ]
  },
  {
   "cell_type": "code",
   "execution_count": null,
   "metadata": {},
   "outputs": [],
   "source": [
    "## Faça seus testes aqui\n",
    "\n"
   ]
  },
  {
   "cell_type": "code",
   "execution_count": 2,
   "metadata": {
    "deletable": false,
    "editable": false,
    "nbgrader": {
     "cell_type": "code",
     "checksum": "0b4288fc0c5360709556c2b018ffa342",
     "grade": true,
     "grade_id": "cell-b6c3a5db7e709b2a",
     "locked": true,
     "points": 1,
     "schema_version": 3,
     "solution": false,
     "task": false
    }
   },
   "outputs": [],
   "source": [
    "# Validação para nota\n",
    "assert remove_duplicates({1: 1, 2: 1, 3: 9, 4: 1, 5: 25}) ==  {1: 1, 3: 9, 5: 25}\n",
    "data = {'id1': {'nome': ['Sara'], 'classe': ['A'], 'disciplina': ['portugues, historia, ciencia']},\n",
    "        'id2': {'nome': ['Joao'], 'classe': ['A'], 'disciplina': ['portugues, historia, ciencia']},\n",
    "        'id3': {'nome': ['Sara'], 'classe': ['A'], 'disciplina': ['portugues, historia, ciencia']},\n",
    "        'id4': {'nome': ['Maria'], 'classe': ['A'], 'disciplina': ['portugues, historia, ciencia']}\n",
    "}\n",
    "no_duplicates = {'id1': {'nome': ['Sara'], 'classe': ['A'], 'disciplina': ['portugues, historia, ciencia']}, \n",
    "                 'id2': {'nome': ['Joao'], 'classe': ['A'], 'disciplina': ['portugues, historia, ciencia']}, \n",
    "                 'id4': {'nome': ['Maria'], 'classe': ['A'], 'disciplina': ['portugues, historia, ciencia']}}\n",
    "assert remove_duplicates(data) == no_duplicates\n"
   ]
  }
 ],
 "metadata": {
  "kernelspec": {
   "display_name": "Python 3",
   "language": "python",
   "name": "python3"
  },
  "language_info": {
   "codemirror_mode": {
    "name": "ipython",
    "version": 3
   },
   "file_extension": ".py",
   "mimetype": "text/x-python",
   "name": "python",
   "nbconvert_exporter": "python",
   "pygments_lexer": "ipython3",
   "version": "3.8.6"
  }
 },
 "nbformat": 4,
 "nbformat_minor": 4
}
