{
 "cells": [
  {
   "cell_type": "markdown",
   "metadata": {},
   "source": [
    "# Aula 1 - Exercícios - Sintaxe de Python e NumPy Array\n",
    "### Consulta a internet (Google, Stackoverflow e etc) liberada!!"
   ]
  },
  {
   "cell_type": "markdown",
   "metadata": {},
   "source": [
    "### 1.9 Escreva uma função Python para computar o valor total de uma compra de supermercado e dar baixa no estoque (deduzir a quantidade comprada da quantidade em estoque). Retorne o valor total da compra e altere o dicionário de estoque sem retorná-lo.\n",
    "#### Se a quantidade do item em estoque for menor do que a quantidade da lista de compra, o estoque restante deve ser vendido.\n",
    "\n",
    "#### Exemplo:  lista_compras = {\"arroz\":1, \"feijao\":2, \"macarrao\":3}\n",
    "####                   estoque = {\"arroz\": 60, \"feijao\": 30, \"macarrao\": 0, \"farinha\": 15}\n",
    "####                   precos = {\"arroz\": 4, \"feijao\": 2, \"macarrao\": 1.5, \"farinha\": 3}\n",
    "#### Resultado esperado: total = 6"
   ]
  },
  {
   "cell_type": "code",
   "execution_count": 1,
   "metadata": {
    "deletable": false,
    "nbgrader": {
     "cell_type": "code",
     "checksum": "7515d2823d7315c9d4df6764ed6e0215",
     "grade": false,
     "grade_id": "cell-513f2b547866e072",
     "locked": false,
     "schema_version": 3,
     "solution": true,
     "task": false
    }
   },
   "outputs": [],
   "source": [
    "def compra(estoque, precos, lista):\n",
    "    \"\"\"retorne um array 2d preenchido com 1s nas bordas e 0s no interior \n",
    "    \"\"\"\n",
    "    total = 0\n",
    "    for item in lista:\n",
    "        if estoque[item] > lista[item]:\n",
    "           total = total + precos[item]*lista[item]\n",
    "           estoque[item] = estoque[item] - lista[item]\n",
    "        else:\n",
    "           total = total + precos[item]*estoque[item]\n",
    "           estoque[item] = 0\n",
    "    return total"
   ]
  },
  {
   "cell_type": "code",
   "execution_count": 4,
   "metadata": {},
   "outputs": [
    {
     "data": {
      "text/plain": [
       "21.5"
      ]
     },
     "execution_count": 4,
     "metadata": {},
     "output_type": "execute_result"
    }
   ],
   "source": [
    "## Faça seus testes aqui\n",
    "lista_compras = {\"arroz\":4, \"feijao\":2, \"macarrao\":3}\n",
    "estoque = {\"arroz\": 60, \"feijao\": 30, \"macarrao\": 1, \"farinha\": 15}\n",
    "precos = {\"arroz\": 4, \"feijao\": 2, \"macarrao\": 1.5, \"farinha\": 3}\n",
    "compra(estoque, precos, lista_compras)"
   ]
  },
  {
   "cell_type": "code",
   "execution_count": 3,
   "metadata": {
    "deletable": false,
    "editable": false,
    "nbgrader": {
     "cell_type": "code",
     "checksum": "94aa058496243cd442349999692a8890",
     "grade": true,
     "grade_id": "cell-73baa7b9cc0314dc",
     "locked": true,
     "points": 1,
     "schema_version": 3,
     "solution": false,
     "task": false
    }
   },
   "outputs": [
    {
     "data": {
      "text/plain": [
       "True"
      ]
     },
     "execution_count": 3,
     "metadata": {},
     "output_type": "execute_result"
    }
   ],
   "source": [
    "# Validação para nota\n",
    "lista_compras = {\"arroz\":1, \"feijao\":2, \"macarrao\":3}\n",
    "estoque = {\"arroz\": 60, \"feijao\": 30, \"macarrao\": 1, \"farinha\": 15}\n",
    "precos = {\"arroz\": 4, \"feijao\": 2, \"macarrao\": 1.5, \"farinha\": 3}\n",
    "compra(estoque, precos, lista_compras) == 9.5"
   ]
  }
 ],
 "metadata": {
  "kernelspec": {
   "display_name": "Python 3",
   "language": "python",
   "name": "python3"
  },
  "language_info": {
   "codemirror_mode": {
    "name": "ipython",
    "version": 3
   },
   "file_extension": ".py",
   "mimetype": "text/x-python",
   "name": "python",
   "nbconvert_exporter": "python",
   "pygments_lexer": "ipython3",
   "version": "3.8.6"
  }
 },
 "nbformat": 4,
 "nbformat_minor": 4
}
