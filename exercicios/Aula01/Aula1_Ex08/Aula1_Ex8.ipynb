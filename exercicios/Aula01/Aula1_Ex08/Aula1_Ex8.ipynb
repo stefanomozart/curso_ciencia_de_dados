{
 "cells": [
  {
   "cell_type": "markdown",
   "metadata": {},
   "source": [
    "# Aula 1 - Exercícios - Sintaxe de Python e NumPy Array\n",
    "### Consulta a internet (Google, Stackoverflow e etc) liberada!!"
   ]
  },
  {
   "cell_type": "markdown",
   "metadata": {},
   "source": [
    "### 1.8 Usando um defaultdict, escreva uma função Python para transformar uma lista de listas num dicionário. Os valores repetidos de uma lista devem ser associados a mesma chave do dicionário, como no exemplo abaixo.\n",
    "#### Exemplo:  [ [\"carro\", 10], [\"moto\", 20], [\"trem\", 5], [\"carro\", 30], [\"caminhao\", 20] ]\n",
    "#### Resultado esperado: {\"carro\": [10, 20], \"moto\": [20], \"trem\": [5], \"caminhao\": [20] }"
   ]
  },
  {
   "cell_type": "code",
   "execution_count": 10,
   "metadata": {
    "deletable": false,
    "nbgrader": {
     "cell_type": "code",
     "checksum": "84ce7c3eaec1b0b69b522c7668c11aa3",
     "grade": false,
     "grade_id": "cell-f7b05dc12adbf2e2",
     "locked": false,
     "schema_version": 3,
     "solution": true,
     "task": false
    }
   },
   "outputs": [],
   "source": [
    "\n",
    "def dict_from_list(lista):\n",
    "    \"\"\"retorne o valor maximo dentre os resultados da soma por linha de um array 2D \n",
    "    \"\"\"\n",
    "    from collections import defaultdict\n",
    "    d = defaultdict(list)\n",
    "    \n",
    "    for k, v in lista:        \n",
    "        d[item[0]].append(item[1])\n",
    "\n",
    "    return d"
   ]
  },
  {
   "cell_type": "code",
   "execution_count": 9,
   "metadata": {},
   "outputs": [
    {
     "name": "stdout",
     "output_type": "stream",
     "text": [
      "carro 10\n",
      "moto 20\n",
      "trem 5\n",
      "carro 30\n",
      "caminhao 20\n"
     ]
    }
   ],
   "source": [
    "## Faça seus testes aqui\n",
    "lista1 = [ [\"carro\", 10], [\"moto\", 20], [\"trem\", 5], [\"carro\", 30], [\"caminhao\", 20] ]\n",
    "\n",
    "for item in lista1:\n",
    "    print(item[0], item[1])"
   ]
  },
  {
   "cell_type": "code",
   "execution_count": 11,
   "metadata": {
    "deletable": false,
    "editable": false,
    "nbgrader": {
     "cell_type": "code",
     "checksum": "c96a44d33e751e6acd58d99b22bd5b1e",
     "grade": true,
     "grade_id": "cell-af1b0435b6aacc9b",
     "locked": true,
     "points": 1,
     "schema_version": 3,
     "solution": false,
     "task": false
    }
   },
   "outputs": [],
   "source": [
    "# Validação para nota\n",
    "lista2 = [ [\"carro\", 10], [\"moto\", 20], [\"trem\", 5], [\"carro\", 30], [\"caminhao\", 20] ]\n",
    "assert dict_from_list(lista2) == {'carro': [10, 30], 'moto': [20], 'trem': [5], 'caminhao': [20]}"
   ]
  }
 ],
 "metadata": {
  "kernelspec": {
   "display_name": "Python 3",
   "language": "python",
   "name": "python3"
  },
  "language_info": {
   "codemirror_mode": {
    "name": "ipython",
    "version": 3
   },
   "file_extension": ".py",
   "mimetype": "text/x-python",
   "name": "python",
   "nbconvert_exporter": "python",
   "pygments_lexer": "ipython3",
   "version": "3.8.6"
  }
 },
 "nbformat": 4,
 "nbformat_minor": 4
}
