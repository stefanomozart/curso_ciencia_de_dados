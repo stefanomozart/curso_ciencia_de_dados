{
 "cells": [
  {
   "cell_type": "markdown",
   "metadata": {},
   "source": [
    "# Aula 1 - Warm-up de sintaxe da linguagem Python"
   ]
  },
  {
   "cell_type": "markdown",
   "metadata": {},
   "source": [
    "### Treinando sentenças com if e else"
   ]
  },
  {
   "cell_type": "markdown",
   "metadata": {},
   "source": [
    "#### W1.0 Traduza o seguinte pseudo-código para a linguagem python"
   ]
  },
  {
   "cell_type": "code",
   "execution_count": 1,
   "metadata": {},
   "outputs": [],
   "source": [
    "# se 17*17 > 400 entao\n",
    "#    imprima o texto \"Condição verdadeira\"\n",
    "# se não\n",
    "#    imprima o texto \"Condição falsa\""
   ]
  },
  {
   "cell_type": "code",
   "execution_count": 2,
   "metadata": {},
   "outputs": [
    {
     "name": "stdout",
     "output_type": "stream",
     "text": [
      "Condição falsa\n"
     ]
    }
   ],
   "source": [
    "# Faça aqui\n",
    "if 17*17 > 400:\n",
    "    print(\"Condição verdadeira\")\n",
    "else:\n",
    "    print(\"Condição falsa\")"
   ]
  },
  {
   "cell_type": "markdown",
   "metadata": {},
   "source": [
    "### Importando modulos python"
   ]
  },
  {
   "cell_type": "markdown",
   "metadata": {},
   "source": [
    "#### O arquivo matematica.py está no diretório ./modulos/operacoes.\n",
    "#### O caracter . (precedendo a barra no caminho ./modulos) refere-se ao diretorio atual\n",
    "#### Visualize o conteúdo deste arquivo executando a proxima célula. O caractere ! faz o jupyter executar um comando no console. O comando cat mostra o conteúdo de um arquivo.\n",
    "\n"
   ]
  },
  {
   "cell_type": "code",
   "execution_count": 3,
   "metadata": {},
   "outputs": [
    {
     "name": "stdout",
     "output_type": "stream",
     "text": [
      "def soma(a, b):\r\n",
      "    return a + b\r\n",
      "\r\n",
      "def subtracao(a, b):\r\n",
      "    return a - b\r\n",
      "\r\n",
      "def multiplicacao(a, b):\r\n",
      "    return a * b\r\n",
      "\r\n",
      "def divisao(a, b):\r\n",
      "    if b != 0:\r\n",
      "        return a / b\r\n",
      "    else:\r\n",
      "        return None\r\n",
      "\r\n",
      "\r\n",
      "\r\n"
     ]
    }
   ],
   "source": [
    "!cat ./modulos/operacoes/matematica.py"
   ]
  },
  {
   "cell_type": "markdown",
   "metadata": {},
   "source": [
    "#### W1.1 Importe a função soma que está no modulo matematica.py e imprima o resultado da soma de 10 e 20. O calculo deve ser realizado utilizando a funcao soma que está no arquivo matematica.py\n",
    "\n"
   ]
  },
  {
   "cell_type": "code",
   "execution_count": 4,
   "metadata": {},
   "outputs": [],
   "source": [
    "# Faça aqui\n",
    "import os\n",
    "import sys\n",
    "\n",
    "module_path = os.path.abspath('.')\n",
    "sys.path.append(module_path)\n",
    "\n",
    "from modulos.operacoes.matematica import soma"
   ]
  },
  {
   "cell_type": "markdown",
   "metadata": {},
   "source": [
    "### Treinando conversão de Tipos\n",
    "#### W1.2 Converta as seguintes variáveis para inteiro e realize as operações solicitadas a seguir."
   ]
  },
  {
   "cell_type": "code",
   "execution_count": 5,
   "metadata": {},
   "outputs": [],
   "source": [
    "a = \"5\"\n",
    "b = \"6\"\n",
    "a = int(a)\n",
    "b = int(b)"
   ]
  },
  {
   "cell_type": "code",
   "execution_count": 6,
   "metadata": {},
   "outputs": [
    {
     "data": {
      "text/plain": [
       "30"
      ]
     },
     "execution_count": 6,
     "metadata": {},
     "output_type": "execute_result"
    }
   ],
   "source": [
    "# Multiplique os dois numeros que você converteu para inteiros na célula acima\n",
    "a*b"
   ]
  },
  {
   "cell_type": "code",
   "execution_count": 7,
   "metadata": {},
   "outputs": [
    {
     "data": {
      "text/plain": [
       "30.0"
      ]
     },
     "execution_count": 7,
     "metadata": {},
     "output_type": "execute_result"
    }
   ],
   "source": [
    "# Converta a multiplicacao da célula acima para float\n",
    "float(a*b)"
   ]
  },
  {
   "cell_type": "markdown",
   "metadata": {},
   "source": [
    "### Treinando Laços (loops) do tipo while"
   ]
  },
  {
   "cell_type": "code",
   "execution_count": 8,
   "metadata": {},
   "outputs": [],
   "source": [
    "# Considere a lista a a seguir:\n",
    "lista_str = [\"234sewerawe\", \"abasdreera\", \"rtydeaera\", \"agwdeaer\", \"nsedert\", \n",
    "         \"ab23ea\", \"qycde\", \"ajyd\", \"akm\", \"wb\", \"r\"]"
   ]
  },
  {
   "cell_type": "markdown",
   "metadata": {},
   "source": [
    "#### W1.3 Usando um laço do tipo while, percorra a lista_str acima deixando as strings em maiúsculo desde o primeiro até o 4o elemento desta lista (ou seja, elemento de índice 3).\n"
   ]
  },
  {
   "cell_type": "code",
   "execution_count": 9,
   "metadata": {},
   "outputs": [
    {
     "data": {
      "text/plain": [
       "['234Sewerawe',\n",
       " 'ABASdreera',\n",
       " 'RTYDeaera',\n",
       " 'AGWDeaer',\n",
       " 'NSEDert',\n",
       " 'AB23ea',\n",
       " 'QYCDe',\n",
       " 'AJYD',\n",
       " 'AKM',\n",
       " 'WB',\n",
       " 'R']"
      ]
     },
     "execution_count": 9,
     "metadata": {},
     "output_type": "execute_result"
    }
   ],
   "source": [
    "# Faça aqui\n",
    "i = 0\n",
    "while i < len(lista_str):\n",
    "    lista_str[i] = lista_str[i][:4].upper() + lista_str[i][4:]\n",
    "    i += 1\n",
    "    \n",
    "lista_str"
   ]
  },
  {
   "cell_type": "markdown",
   "metadata": {},
   "source": [
    "#### W1.4 Usando um laço do tipo while, percorra a lista_str acima excluindo os elementos da lista que terminam com vogal\n",
    "#### Dica: teste se um caracter é uma vogal assim: charac in [\"a\", \"b\", \"c\", \"d\", \"e\"]\n",
    "\n"
   ]
  },
  {
   "cell_type": "code",
   "execution_count": 10,
   "metadata": {},
   "outputs": [
    {
     "data": {
      "text/plain": [
       "['AGWDeaer', 'NSEDert', 'AJYD', 'AKM', 'WB', 'R']"
      ]
     },
     "execution_count": 10,
     "metadata": {},
     "output_type": "execute_result"
    }
   ],
   "source": [
    "# Faça aqui\n",
    "i = 0\n",
    "lista = []\n",
    "while i < len(lista_str):\n",
    "    if lista_str[i][-1] not in [\"a\", \"b\", \"c\", \"d\", \"e\"]:\n",
    "        lista.append(lista_str[i])\n",
    "    i += 1\n",
    "        \n",
    "lista"
   ]
  },
  {
   "cell_type": "markdown",
   "metadata": {},
   "source": [
    "#### W1.5 Usando um laço do tipo while, percorra a lista_str acima excluindo os elementos da lista que não terminam com vogal\n",
    "#### Dica: teste se um caracter é uma vogal assim: charac in [\"a\", \"b\", \"c\", \"d\", \"e\"]\n",
    "\n"
   ]
  },
  {
   "cell_type": "code",
   "execution_count": 11,
   "metadata": {},
   "outputs": [
    {
     "data": {
      "text/plain": [
       "['234Sewerawe', 'ABASdreera', 'RTYDeaera', 'AB23ea', 'QYCDe']"
      ]
     },
     "execution_count": 11,
     "metadata": {},
     "output_type": "execute_result"
    }
   ],
   "source": [
    "# Faça aqui\n",
    "i = 0\n",
    "lista = []\n",
    "while i < len(lista_str):\n",
    "    if lista_str[i][-1] in [\"a\", \"b\", \"c\", \"d\", \"e\"]:\n",
    "        lista.append(lista_str[i])\n",
    "    i += 1\n",
    "        \n",
    "lista"
   ]
  },
  {
   "cell_type": "markdown",
   "metadata": {},
   "source": [
    "### Treinando Laços (loops) do tipo for"
   ]
  },
  {
   "cell_type": "code",
   "execution_count": 12,
   "metadata": {},
   "outputs": [],
   "source": [
    "# Considere a lista a a seguir:\n",
    "lista_str = [\"234sewerawe\", \"abasdreera\", \"rtydeaera\", \"agwdeaer\", \"nsedert\", \n",
    "         \"ab23ea\", \"qycde\", \"ajyd\", \"akm\", \"wb\", \"r\"]"
   ]
  },
  {
   "cell_type": "markdown",
   "metadata": {},
   "source": [
    "#### W1.6 Repita o exercício W1.3 mas dessa vez usando um laço do tipo for\n",
    "\n"
   ]
  },
  {
   "cell_type": "code",
   "execution_count": 13,
   "metadata": {},
   "outputs": [
    {
     "data": {
      "text/plain": [
       "['234Sewerawe',\n",
       " 'ABASdreera',\n",
       " 'RTYDeaera',\n",
       " 'AGWDeaer',\n",
       " 'NSEDert',\n",
       " 'AB23ea',\n",
       " 'QYCDe',\n",
       " 'AJYD',\n",
       " 'AKM',\n",
       " 'WB',\n",
       " 'R']"
      ]
     },
     "execution_count": 13,
     "metadata": {},
     "output_type": "execute_result"
    }
   ],
   "source": [
    "# Faça aqui\n",
    "\n",
    "for i in range(len(lista_str)):\n",
    "    lista_str[i] = lista_str[i][:4].upper() + lista_str[i][4:]\n",
    "    \n",
    "lista_str"
   ]
  },
  {
   "cell_type": "markdown",
   "metadata": {},
   "source": [
    "#### W1.7 Repita o exercício W1.4 mas dessa vez usando um laço do tipo for\n",
    "\n"
   ]
  },
  {
   "cell_type": "code",
   "execution_count": 14,
   "metadata": {},
   "outputs": [
    {
     "data": {
      "text/plain": [
       "['AGWDeaer', 'NSEDert', 'AJYD', 'AKM', 'WB', 'R']"
      ]
     },
     "execution_count": 14,
     "metadata": {},
     "output_type": "execute_result"
    }
   ],
   "source": [
    "# Faça aqui\n",
    "lista = []\n",
    "for i in lista_str:\n",
    "    if i[-1] not in [\"a\", \"b\", \"c\", \"d\", \"e\"]:\n",
    "        lista.append(i)\n",
    "        \n",
    "lista"
   ]
  },
  {
   "cell_type": "markdown",
   "metadata": {},
   "source": [
    "#### W1.8 Repita o exercício W1.5 mas dessa vez usando um laço do tipo for\n",
    "\n"
   ]
  },
  {
   "cell_type": "code",
   "execution_count": 15,
   "metadata": {},
   "outputs": [
    {
     "data": {
      "text/plain": [
       "['234Sewerawe', 'ABASdreera', 'RTYDeaera', 'AB23ea', 'QYCDe']"
      ]
     },
     "execution_count": 15,
     "metadata": {},
     "output_type": "execute_result"
    }
   ],
   "source": [
    "# Faça aqui\n",
    "lista = []\n",
    "for i in lista_str:\n",
    "    if i[-1] in [\"a\", \"b\", \"c\", \"d\", \"e\"]:\n",
    "        lista.append(i)\n",
    "        \n",
    "lista"
   ]
  },
  {
   "cell_type": "markdown",
   "metadata": {},
   "source": [
    "### Formando uma string"
   ]
  },
  {
   "cell_type": "markdown",
   "metadata": {},
   "source": [
    "#### W1.9 Crie uma string genérica (parametrizável) que seja capaz de gerar a string apresentada abaixo"
   ]
  },
  {
   "cell_type": "code",
   "execution_count": 16,
   "metadata": {},
   "outputs": [
    {
     "name": "stdout",
     "output_type": "stream",
     "text": [
      "a=5, b=6, a+b=11, a*b=30\n",
      "a=5, b=6, a+b=11, a*b=30\n"
     ]
    }
   ],
   "source": [
    "# Crie uma string parametrizável que atenda este exemplo: # \"a=6, b=9, a+b=15, a*b=54\"\n",
    "fstr = f\"a={a}, b={b}, a+b={a+b}, a*b={a*b}\"\n",
    "\n",
    "# Aplique a parametrização para os valores:\n",
    "a=100\n",
    "b=80\n",
    "print(fstr)\n",
    "\n",
    "a=700\n",
    "b=860\n",
    "print(fstr)"
   ]
  },
  {
   "cell_type": "markdown",
   "metadata": {},
   "source": [
    "# Estrutura de Dados em Python"
   ]
  },
  {
   "cell_type": "markdown",
   "metadata": {},
   "source": [
    "### Treinando conceitos sobre listas em python"
   ]
  },
  {
   "cell_type": "markdown",
   "metadata": {},
   "source": [
    "#### W1.10 Crie as listas solicitadas a seguir"
   ]
  },
  {
   "cell_type": "code",
   "execution_count": 17,
   "metadata": {},
   "outputs": [],
   "source": [
    "# 1) Crie uma lista de números inteiros\n",
    "li = [1, 2, 3]\n",
    "\n",
    "# 2) Crie uma lista de booleanos\n",
    "lb = [True, False, False]\n",
    "\n",
    "# 3) Crie uma lista de strings\n",
    "ls = [\"uma\", \"lista\", \"de\", \"strings\"]"
   ]
  },
  {
   "cell_type": "markdown",
   "metadata": {},
   "source": [
    "### Slicing (fatiar)\n",
    "#### W1.11 Selecione os elementos da lista5 especificados a seguir"
   ]
  },
  {
   "cell_type": "code",
   "execution_count": 18,
   "metadata": {},
   "outputs": [],
   "source": [
    "# Considere a seguinte lista\n",
    "lista5 = [\"awerr\", \"aa\", \"sssaere\", False, True, None, 9., 0., 9., 104, 20, 1]\n",
    "\n",
    "# 1) Retorne o primeiro elemento da lista\n",
    "primeiro = lista5[0]\n",
    "\n",
    "# 2) Retorne o último elemento da lista\n",
    "ultimo = lista5[-1]\n",
    "\n",
    "# 3) Retorne os 3 ultimos elementos da lista\n",
    "tres_ultimos = lista5[-3:]\n",
    "\n",
    "# 4) Retorne elementos espaçados a cada 3 elementos, a partir do índice 0\n",
    "tres_em_tres = lista5[::3]\n",
    "\n",
    "# 5) Retorne a lista na ordem inversa\n",
    "invertido = lista5[::-1]"
   ]
  },
  {
   "cell_type": "markdown",
   "metadata": {},
   "source": [
    "#### W1.12 Faça um código python para encontrar os elementos de uma lista de strings cujo tamanho seja maior que 3 caracteres e os dois últimos sejam iguais."
   ]
  },
  {
   "cell_type": "code",
   "execution_count": 19,
   "metadata": {},
   "outputs": [
    {
     "data": {
      "text/plain": [
       "['awerr', 'sssaeee']"
      ]
     },
     "execution_count": 19,
     "metadata": {},
     "output_type": "execute_result"
    }
   ],
   "source": [
    "lista = [\"awerr\", \"aa\", \"awyt\", \"g\", \"sssaeee\"]\n",
    "# Faça aqui\n",
    "\n",
    "[x for x in lista if len(x) > 3 and x[-1]==x[-2]]"
   ]
  },
  {
   "cell_type": "markdown",
   "metadata": {},
   "source": [
    "#### W1.13 Usando um loop do tipo for encontre a interseção entre duas listas"
   ]
  },
  {
   "cell_type": "code",
   "execution_count": 20,
   "metadata": {},
   "outputs": [
    {
     "data": {
      "text/plain": [
       "['awerr', 'aa', 'sssaere']"
      ]
     },
     "execution_count": 20,
     "metadata": {},
     "output_type": "execute_result"
    }
   ],
   "source": [
    "lista1 = [\"awerr\", \"aa\", \"awyt\", \"g\", \"sssaere\"]\n",
    "lista2 = [\"awerr\", \"aa\", \"sssaere\", \"aabb\", \"qwerttt\", \"12345\"]\n",
    "\n",
    "# Faça aqui\n",
    "[x for x in lista1 if x in lista2]"
   ]
  },
  {
   "cell_type": "markdown",
   "metadata": {},
   "source": [
    "#### W1.14 Usando um loop do tipo for encontre os elementos que estão na lista1 mas não estão na lista 2."
   ]
  },
  {
   "cell_type": "code",
   "execution_count": 21,
   "metadata": {},
   "outputs": [
    {
     "data": {
      "text/plain": [
       "['awyt', 'g']"
      ]
     },
     "execution_count": 21,
     "metadata": {},
     "output_type": "execute_result"
    }
   ],
   "source": [
    "lista1 = [\"awerr\", \"aa\", \"awyt\", \"g\", \"sssaere\"]\n",
    "lista2 = [\"awerr\", \"aa\", \"sssaere\", \"aabb\", \"qwerttt\", \"12345\"]\n",
    "# Faça aqui\n",
    "\n",
    "[x for x in lista1 if x not in lista2]"
   ]
  },
  {
   "cell_type": "markdown",
   "metadata": {},
   "source": [
    "#### W1.15 Usando um loop do tipo for encontre os elementos que não estão na intersecção das duas listas."
   ]
  },
  {
   "cell_type": "code",
   "execution_count": 22,
   "metadata": {},
   "outputs": [
    {
     "data": {
      "text/plain": [
       "['awyt', 'g', 'aabb', 'qwerttt', '12345']"
      ]
     },
     "execution_count": 22,
     "metadata": {},
     "output_type": "execute_result"
    }
   ],
   "source": [
    "lista1 = [\"awerr\", \"aa\", \"awyt\", \"g\", \"sssaere\"]\n",
    "lista2 = [\"awerr\", \"aa\", \"sssaere\", \"aabb\", \"qwerttt\", \"12345\"]\n",
    "# Faça aqui\n",
    "[x for x in lista1 + lista2 if x not in lista1 or x not in lista2]\n",
    "\n",
    "# alternativa: [x for x in lista1 if x not in lista2] + [x for x in lista2 if x not in lista1]"
   ]
  },
  {
   "cell_type": "markdown",
   "metadata": {},
   "source": [
    "#### W1.16 Crie código python para inverter a ordem de duas palavras que aparecem em frases do tipo: \"pera e banana\""
   ]
  },
  {
   "cell_type": "code",
   "execution_count": 23,
   "metadata": {},
   "outputs": [
    {
     "data": {
      "text/plain": [
       "'banana e pera'"
      ]
     },
     "execution_count": 23,
     "metadata": {},
     "output_type": "execute_result"
    }
   ],
   "source": [
    "# Exemplo: para a entrada \"pera e banana\", o resultado esperado é \"banana e pera\"\n",
    "frase = \"pera e banana\"\n",
    "\n",
    "\" \".join(frase.split()[::-1])"
   ]
  },
  {
   "cell_type": "markdown",
   "metadata": {},
   "source": [
    "#### W1.17 Encontre a mediana de uma lista de numeros inteiros.\n",
    "#### Para calcular a mediana, ordene a lista e retorne o elemento do centro. Se a quantidade de elementos for par, retorne a média dos dois elementos do centro."
   ]
  },
  {
   "cell_type": "code",
   "execution_count": 24,
   "metadata": {},
   "outputs": [
    {
     "name": "stdout",
     "output_type": "stream",
     "text": [
      "8\n"
     ]
    },
    {
     "data": {
      "text/plain": [
       "8.5"
      ]
     },
     "execution_count": 24,
     "metadata": {},
     "output_type": "execute_result"
    }
   ],
   "source": [
    "lista3 = [9, 0, 9, 8, 20, 4, 7, 6, 8, 22, 0, 50, 104, 20, 1]\n",
    "lista4 = [9, 0, 9, 8, 20, 4, 7, 6, 8, 22, 0, 50, 104, 20]\n",
    "\n",
    "# Calcule a mediana das listas lista3 e lista4\n",
    "def mediana(lista):\n",
    "    l = sorted(lista)\n",
    "    if len(l) % 2:\n",
    "        return l[int(len(l)/2)]\n",
    "    return (l[int(len(l)/2)-1] + l[int(len(l)/2)])/2\n",
    "\n",
    "print(mediana(lista3))\n",
    "mediana(lista4)"
   ]
  },
  {
   "cell_type": "markdown",
   "metadata": {},
   "source": [
    "### Treinando conceitos de dicionário (dict) em python"
   ]
  },
  {
   "cell_type": "markdown",
   "metadata": {},
   "source": [
    "#### W1.18 Criar um dicionário que represente o conteúdo da tabela abaixo"
   ]
  },
  {
   "cell_type": "markdown",
   "metadata": {},
   "source": [
    "| Nome       | Endereço     | Telefone     |\n",
    "| :------------- | :----------: | -----------: |\n",
    "|  Jose da Silva | Rua 2, n. 39   | 119865563    |"
   ]
  },
  {
   "cell_type": "code",
   "execution_count": 25,
   "metadata": {},
   "outputs": [
    {
     "data": {
      "text/plain": [
       "{'Nome': 'Jose da Silva', 'Endereço': 'Rua 2, n. 39', 'Telefone': 119865563}"
      ]
     },
     "execution_count": 25,
     "metadata": {},
     "output_type": "execute_result"
    }
   ],
   "source": [
    "# Faça aqui\n",
    "dic = {'Nome': \"Jose da Silva\", 'Endereço': \"Rua 2, n. 39\", 'Telefone': 119865563}\n",
    "dic"
   ]
  },
  {
   "cell_type": "markdown",
   "metadata": {},
   "source": [
    "#### W1.19 Jose da Silva mudou seu número de telefone para 1187662330. Altere este valor no dicionário que você acabou de criar"
   ]
  },
  {
   "cell_type": "code",
   "execution_count": 26,
   "metadata": {},
   "outputs": [
    {
     "data": {
      "text/plain": [
       "{'Nome': 'Jose da Silva', 'Endereço': 'Rua 2, n. 39', 'Telefone': 1187662330}"
      ]
     },
     "execution_count": 26,
     "metadata": {},
     "output_type": "execute_result"
    }
   ],
   "source": [
    "# Faça aqui\n",
    "dic['Telefone'] = 1187662330\n",
    "dic"
   ]
  },
  {
   "cell_type": "markdown",
   "metadata": {},
   "source": [
    "#### W1.20 Crie um atributo CPF no dicionário da célula acima e adicione o CPF do Jose da Silva: 495.152.344-90"
   ]
  },
  {
   "cell_type": "code",
   "execution_count": 27,
   "metadata": {},
   "outputs": [
    {
     "data": {
      "text/plain": [
       "{'Nome': 'Jose da Silva',\n",
       " 'Endereço': 'Rua 2, n. 39',\n",
       " 'Telefone': 1187662330,\n",
       " 'CPF': '495.152.344-90'}"
      ]
     },
     "execution_count": 27,
     "metadata": {},
     "output_type": "execute_result"
    }
   ],
   "source": [
    "# Faça aqui\n",
    "dic['CPF'] = \"495.152.344-90\"\n",
    "#Alternativa: dic.update({'CPF': \"495.152.344-90\"})\n",
    "dic"
   ]
  },
  {
   "cell_type": "markdown",
   "metadata": {},
   "source": [
    "#### W1.21 Remova o atributo Endereço desse dicionário"
   ]
  },
  {
   "cell_type": "code",
   "execution_count": 28,
   "metadata": {},
   "outputs": [
    {
     "data": {
      "text/plain": [
       "{'Nome': 'Jose da Silva', 'Telefone': 1187662330, 'CPF': '495.152.344-90'}"
      ]
     },
     "execution_count": 28,
     "metadata": {},
     "output_type": "execute_result"
    }
   ],
   "source": [
    "# Faça aqui\n",
    "del dic['Endereço']\n",
    "dic"
   ]
  },
  {
   "cell_type": "markdown",
   "metadata": {},
   "source": [
    "#### W1.22 Criar uma lista de dicionários que represente o conteúdo da tabela abaixo"
   ]
  },
  {
   "cell_type": "markdown",
   "metadata": {},
   "source": [
    "| Nome               | Endereço                     | Telefone     | CPF            |\n",
    "| :----------------- | :--------------------------: | -----------: | -------------: |\n",
    "|  Jose da Silva     | Rua 2, n. 39                 | 119865563    | 495.152.344-90 |\n",
    "|  Roberto da Araujo | Av 2, n. 2010                | 389912353    | 755.223.432-10 |\n",
    "|  Maria Almeida     | Rua Jau, n. 309              | 139845162    | 131.223.415-12 |\n",
    "|  Joaquim Pereira   | Av Sete de Setembro, n. 5240 | 329912633    | 456.214.616-67 |"
   ]
  },
  {
   "cell_type": "code",
   "execution_count": 29,
   "metadata": {},
   "outputs": [
    {
     "data": {
      "text/plain": [
       "[{'Nome': 'Jose da Silva',\n",
       "  'Endereço': 'Rua 2, n. 39',\n",
       "  'Telefone': 119865563,\n",
       "  'CPF': '495.152.344-90 '},\n",
       " {'Nome': 'Roberto da Araujo',\n",
       "  'Endereço': 'Av 2, n. 2010',\n",
       "  'Telefone': 389912353,\n",
       "  'CPF': '755.223.432-10 '},\n",
       " {'Nome': 'Maria Almeida',\n",
       "  'Endereço': 'Rua Jau, n. 309',\n",
       "  'Telefone': 139845162,\n",
       "  'CPF': '131.223.415-12 '},\n",
       " {'Nome': 'Joaquim Pereira',\n",
       "  'Endereço': 'Av Sete de Setembro, n. 5240',\n",
       "  'Telefone': 329912633,\n",
       "  'CPF': '456.214.616-67'}]"
      ]
     },
     "execution_count": 29,
     "metadata": {},
     "output_type": "execute_result"
    }
   ],
   "source": [
    "# Faça aqui\n",
    "lista = [\n",
    "    {'Nome': 'Jose da Silva' , 'Endereço': 'Rua 2, n. 39', 'Telefone': 119865563, 'CPF': '495.152.344-90 '},\n",
    "    {'Nome': 'Roberto da Araujo' , 'Endereço': 'Av 2, n. 2010', 'Telefone': 389912353, 'CPF': '755.223.432-10 '},\n",
    "    {'Nome': 'Maria Almeida' , 'Endereço': 'Rua Jau, n. 309', 'Telefone': 139845162, 'CPF': '131.223.415-12 '},\n",
    "    {'Nome': 'Joaquim Pereira' , 'Endereço': 'Av Sete de Setembro, n. 5240', 'Telefone': 329912633, 'CPF': '456.214.616-67'}\n",
    "]\n",
    "lista"
   ]
  },
  {
   "cell_type": "markdown",
   "metadata": {},
   "source": [
    "#### W1.23 Considerando a lista de dicionarios do exercicio anterior, remova o dicionário do Jose da Silva desta lista."
   ]
  },
  {
   "cell_type": "code",
   "execution_count": 30,
   "metadata": {},
   "outputs": [
    {
     "data": {
      "text/plain": [
       "[{'Nome': 'Roberto da Araujo',\n",
       "  'Endereço': 'Av 2, n. 2010',\n",
       "  'Telefone': 389912353,\n",
       "  'CPF': '755.223.432-10 '},\n",
       " {'Nome': 'Maria Almeida',\n",
       "  'Endereço': 'Rua Jau, n. 309',\n",
       "  'Telefone': 139845162,\n",
       "  'CPF': '131.223.415-12 '},\n",
       " {'Nome': 'Joaquim Pereira',\n",
       "  'Endereço': 'Av Sete de Setembro, n. 5240',\n",
       "  'Telefone': 329912633,\n",
       "  'CPF': '456.214.616-67'}]"
      ]
     },
     "execution_count": 30,
     "metadata": {},
     "output_type": "execute_result"
    }
   ],
   "source": [
    "# Faça aqui\n",
    "lista = lista[1:]\n",
    "lista"
   ]
  },
  {
   "cell_type": "markdown",
   "metadata": {},
   "source": [
    "#### W1.24 Considerando a lista de dicionarios do exercicio anterior, usando um loop, remova todos os telefones desta lista de dicionários\n"
   ]
  },
  {
   "cell_type": "code",
   "execution_count": 31,
   "metadata": {},
   "outputs": [
    {
     "data": {
      "text/plain": [
       "[{'Nome': 'Roberto da Araujo',\n",
       "  'Endereço': 'Av 2, n. 2010',\n",
       "  'CPF': '755.223.432-10 '},\n",
       " {'Nome': 'Maria Almeida',\n",
       "  'Endereço': 'Rua Jau, n. 309',\n",
       "  'CPF': '131.223.415-12 '},\n",
       " {'Nome': 'Joaquim Pereira',\n",
       "  'Endereço': 'Av Sete de Setembro, n. 5240',\n",
       "  'CPF': '456.214.616-67'}]"
      ]
     },
     "execution_count": 31,
     "metadata": {},
     "output_type": "execute_result"
    }
   ],
   "source": [
    "# Faça aqui\n",
    "for d in lista:\n",
    "    del d['Telefone']\n",
    "\n",
    "lista"
   ]
  },
  {
   "cell_type": "markdown",
   "metadata": {},
   "source": [
    "## Treinando funções"
   ]
  },
  {
   "cell_type": "markdown",
   "metadata": {},
   "source": [
    "#### W1.25 Escreva uma função para calcular o máximo de dois numeros"
   ]
  },
  {
   "cell_type": "code",
   "execution_count": 32,
   "metadata": {},
   "outputs": [
    {
     "name": "stdout",
     "output_type": "stream",
     "text": [
      "5\n",
      "-3\n"
     ]
    }
   ],
   "source": [
    "def maximo(a, b):\n",
    "    return a if a > b else b\n",
    "\n",
    "print(maximo(5, -3))\n",
    "print(maximo(-5, -3))"
   ]
  },
  {
   "cell_type": "markdown",
   "metadata": {},
   "source": [
    "#### W1.26 Escreva uma função para calcular a velocidade de um objeto dado a distancia percorrida e o tempo. Considere as unidades de distância e tempo sendo respectivamente Km e hora."
   ]
  },
  {
   "cell_type": "code",
   "execution_count": 33,
   "metadata": {},
   "outputs": [
    {
     "name": "stdout",
     "output_type": "stream",
     "text": [
      "110.0\n"
     ]
    }
   ],
   "source": [
    "def velocidade(distancia, tempo):\n",
    "    return distancia / tempo\n",
    "\n",
    "print(velocidade(55, 0.5))"
   ]
  },
  {
   "cell_type": "markdown",
   "metadata": {},
   "source": [
    "#### W1.27 Escreva uma função para determinar se um objeto extrapolou um determinado limite de velocidade. O limite de velocidade deve ser parametrizável (um argumento da função). A função deve retornar True se o limite for excedido, e retornar False caso contrário."
   ]
  },
  {
   "cell_type": "code",
   "execution_count": 34,
   "metadata": {},
   "outputs": [
    {
     "name": "stdout",
     "output_type": "stream",
     "text": [
      "True\n"
     ]
    },
    {
     "data": {
      "text/plain": [
       "False"
      ]
     },
     "execution_count": 34,
     "metadata": {},
     "output_type": "execute_result"
    }
   ],
   "source": [
    "#faca aqui\n",
    "def multa(distancia, tempo, limite):\n",
    "    return (distancia / tempo) > limite\n",
    "\n",
    "print(multa(55, 0.5, 80))\n",
    "multa(120, 1.5, 80)"
   ]
  }
 ],
 "metadata": {
  "kernelspec": {
   "display_name": "Python 3",
   "language": "python",
   "name": "python3"
  },
  "language_info": {
   "codemirror_mode": {
    "name": "ipython",
    "version": 3
   },
   "file_extension": ".py",
   "mimetype": "text/x-python",
   "name": "python",
   "nbconvert_exporter": "python",
   "pygments_lexer": "ipython3",
   "version": "3.8.6"
  }
 },
 "nbformat": 4,
 "nbformat_minor": 4
}
