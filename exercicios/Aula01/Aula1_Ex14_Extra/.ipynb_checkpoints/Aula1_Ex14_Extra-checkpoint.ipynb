{
 "cells": [
  {
   "cell_type": "markdown",
   "metadata": {},
   "source": [
    "# Aula 1 - Exercícios Extra - Sintaxe de Python e NumPy Array\n",
    "### Consulta a internet (Google, Stackoverflow e etc) liberada!!"
   ]
  },
  {
   "cell_type": "markdown",
   "metadata": {},
   "source": [
    "### 1.14 Escreva uma função Python que aceite como entrada uma string de palavras separadas por vírgula e retorne uma string com as palavras em ordem alfabética e separadas por vírgula. \n",
    "#### Exemplo:  Para t=\"hoje,nota,teste,bolsa\"\n",
    "#### Resultado Esperado: \"bolsa,hoje,nota,teste\""
   ]
  },
  {
   "cell_type": "code",
   "execution_count": 9,
   "metadata": {
    "nbgrader": {
     "grade": false,
     "grade_id": "cell-bb9537795a06bd7e",
     "locked": false,
     "schema_version": 3,
     "solution": true,
     "task": false
    }
   },
   "outputs": [],
   "source": [
    "# Dica: use as funções .split e .join presente nas strings\n",
    "def sort_words(words):\n",
    "    \"\"\"retorne uma string ordenada de palavras separadas por vírgula\n",
    "    \"\"\"\n",
    "    ### BEGIN SOLUTION\n",
    "    lw = words.split(',')\n",
    "    lw.sort()\n",
    "    return \",\".join(lw)\n",
    "    ### END SOLUTION"
   ]
  },
  {
   "cell_type": "code",
   "execution_count": 10,
   "metadata": {},
   "outputs": [],
   "source": [
    "## Faça seus testes aqui\n",
    "\n"
   ]
  },
  {
   "cell_type": "code",
   "execution_count": 11,
   "metadata": {
    "nbgrader": {
     "grade": true,
     "grade_id": "cell-61d03fd9d1b0eb4e",
     "locked": true,
     "points": 1,
     "schema_version": 3,
     "solution": false,
     "task": false
    }
   },
   "outputs": [],
   "source": [
    "# Validação para nota\n",
    "assert sort_words(\"hoje,nota,teste,bolsa\") == \"bolsa,hoje,nota,teste\"\n"
   ]
  }
 ],
 "metadata": {
  "kernelspec": {
   "display_name": "Python 3",
   "language": "python",
   "name": "python3"
  },
  "language_info": {
   "codemirror_mode": {
    "name": "ipython",
    "version": 3
   },
   "file_extension": ".py",
   "mimetype": "text/x-python",
   "name": "python",
   "nbconvert_exporter": "python",
   "pygments_lexer": "ipython3",
   "version": "3.8.5"
  }
 },
 "nbformat": 4,
 "nbformat_minor": 4
}
