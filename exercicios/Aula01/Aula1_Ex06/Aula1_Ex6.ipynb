{
 "cells": [
  {
   "cell_type": "markdown",
   "metadata": {},
   "source": [
    "# Aula 1 - Exercícios - Sintaxe de Python e NumPy Array\n",
    "### Consulta a internet (Google, Stackoverflow e etc) liberada!!"
   ]
  },
  {
   "cell_type": "markdown",
   "metadata": {},
   "source": [
    "### 1.6 Escreva uma função Python para combinar os itens de mesma chave de uma lista de  dicionários, somando os valores correspondentes.\n",
    "##### Exemplo:  para [{'item': 'carro', 'quantidade': 400}, {'item': 'moto', 'quantidade': 300}, {'item': 'carro', 'quantidade': 750}]\n",
    "##### Resultado esperado: {'carro': 1150, 'moto': 300}"
   ]
  },
  {
   "cell_type": "code",
   "execution_count": 1,
   "metadata": {
    "deletable": false,
    "nbgrader": {
     "cell_type": "code",
     "checksum": "65902b6a8996ea75dbd0e52d3f22c3b7",
     "grade": false,
     "grade_id": "cell-e69a127f71184645",
     "locked": false,
     "schema_version": 3,
     "solution": true,
     "task": false
    }
   },
   "outputs": [],
   "source": [
    "def combine_items(item_list):\n",
    "    \"\"\"retorne um dicionário combinando (somando) as quantidades do mesmo item\n",
    "    \"\"\"\n",
    "    ret = {}\n",
    "    for item in item_list:\n",
    "        ret[item[\"item\"]] = ret.get(item[\"item\"], 0) + item[\"quantidade\"]\n",
    "    return ret"
   ]
  },
  {
   "cell_type": "code",
   "execution_count": null,
   "metadata": {},
   "outputs": [],
   "source": [
    "## Faça seus testes aqui\n",
    "\n"
   ]
  },
  {
   "cell_type": "code",
   "execution_count": 2,
   "metadata": {
    "deletable": false,
    "editable": false,
    "nbgrader": {
     "cell_type": "code",
     "checksum": "a8db3ccde09bca1442c1910545b01a20",
     "grade": true,
     "grade_id": "cell-418c099df61d368b",
     "locked": true,
     "points": 1,
     "schema_version": 3,
     "solution": false,
     "task": false
    }
   },
   "outputs": [],
   "source": [
    "# Validação para nota\n",
    "input_data = [{'item': 'carro', 'quantidade': 400}, \n",
    "              {'item': 'moto', 'quantidade': 300}, \n",
    "              {'item': 'carro', 'quantidade': 750}]\n",
    "output_result = {'carro': 1150, 'moto': 300}\n",
    "assert combine_items(input_data) == output_result\n"
   ]
  }
 ],
 "metadata": {
  "kernelspec": {
   "display_name": "Python 3",
   "language": "python",
   "name": "python3"
  },
  "language_info": {
   "codemirror_mode": {
    "name": "ipython",
    "version": 3
   },
   "file_extension": ".py",
   "mimetype": "text/x-python",
   "name": "python",
   "nbconvert_exporter": "python",
   "pygments_lexer": "ipython3",
   "version": "3.8.6"
  }
 },
 "nbformat": 4,
 "nbformat_minor": 4
}
