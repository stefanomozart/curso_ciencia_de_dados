{
 "cells": [
  {
   "cell_type": "markdown",
   "metadata": {},
   "source": [
    "# Aula 8 - Exercícios - Webscrapy\n",
    "### Consulta a internet (Google, Stackoverflow e etc) liberada!!"
   ]
  },
  {
   "cell_type": "markdown",
   "metadata": {},
   "source": [
    "### 8.1 Usando uma IDE de desenvolvimento python (como o Pycharm) desenvolva um script de webscrapy para coletar os dados de uma busca no google. \n",
    "#### Busque por \".gov.br\" inurl:play.google.com. \n",
    "#### Colete os dados apenas da 1a página de resultados.\n",
    "#### Colete os dados do nome do aplicativo (que aparece antes da frase Apps no Google Play), a URL do aplicativo, a sua nota e a quantidade de votos.\n",
    "#### Gere uma lista de dicionários como resultado.\n",
    "#### Depois de testar seu script numa IDE, cole-o na célula deste exercício logo abaixo."
   ]
  },
  {
   "cell_type": "code",
   "execution_count": 1,
   "metadata": {
    "ExecuteTime": {
     "end_time": "2020-11-25T18:30:01.853773Z",
     "start_time": "2020-11-25T18:30:01.598185Z"
    },
    "nbgrader": {
     "grade": true,
     "grade_id": "cell-1020a0ea4e691a14",
     "locked": false,
     "points": 1,
     "schema_version": 3,
     "solution": true,
     "task": false
    }
   },
   "outputs": [],
   "source": [
    "# Importa classes necessárias para leitura da página\n",
    "import pandas as pd\n",
    "import selenium\n",
    "from selenium import webdriver\n",
    "from selenium.common.exceptions import NoSuchElementException, TimeoutException\n",
    "from selenium.webdriver.common.by import By\n",
    "from selenium.webdriver.common.keys import Keys\n",
    "from selenium.webdriver.support.wait import WebDriverWait\n",
    "from selenium.webdriver.support import expected_conditions as EC"
   ]
  },
  {
   "cell_type": "code",
   "execution_count": 2,
   "metadata": {
    "ExecuteTime": {
     "end_time": "2020-11-25T18:30:03.138086Z",
     "start_time": "2020-11-25T18:30:03.135064Z"
    }
   },
   "outputs": [],
   "source": [
    "# Função utilizada para aguardar o carregamento da página\n",
    "def wait_element(driver, id, timeout=8, by=By.ID):\n",
    "    try:\n",
    "        element_present = EC.presence_of_element_located((by, id))\n",
    "        WebDriverWait(driver, timeout).until(element_present)\n",
    "    except TimeoutException:\n",
    "        print(\"Timed out waiting for page to load\")\n",
    "        pass\n",
    "        return False\n",
    "    return True"
   ]
  },
  {
   "cell_type": "code",
   "execution_count": 3,
   "metadata": {
    "ExecuteTime": {
     "end_time": "2020-11-25T18:30:07.949201Z",
     "start_time": "2020-11-25T18:30:04.439100Z"
    }
   },
   "outputs": [],
   "source": [
    "# Inicializa o driver/browser e abre a página\n",
    "driver = webdriver.Firefox()\n",
    "driver.get('https://www.google.com?q=\".gov.br\"+inurl:play.google.com')"
   ]
  },
  {
   "cell_type": "code",
   "execution_count": 4,
   "metadata": {
    "ExecuteTime": {
     "end_time": "2020-11-25T18:30:12.210054Z",
     "start_time": "2020-11-25T18:30:12.150967Z"
    }
   },
   "outputs": [],
   "source": [
    "# Encontra o form e submete a consulta\n",
    "wait_element(driver, id='//form[@id=\"tsf\"]', by=By.XPATH)\n",
    "form = driver.find_element_by_xpath('//form[@id=\"tsf\"]')\n",
    "form.submit()"
   ]
  },
  {
   "cell_type": "code",
   "execution_count": 5,
   "metadata": {
    "ExecuteTime": {
     "end_time": "2020-11-25T18:30:27.040530Z",
     "start_time": "2020-11-25T18:30:18.441135Z"
    }
   },
   "outputs": [
    {
     "name": "stdout",
     "output_type": "stream",
     "text": [
      "Timed out waiting for page to load\n"
     ]
    },
    {
     "data": {
      "text/html": [
       "<div>\n",
       "<style scoped>\n",
       "    .dataframe tbody tr th:only-of-type {\n",
       "        vertical-align: middle;\n",
       "    }\n",
       "\n",
       "    .dataframe tbody tr th {\n",
       "        vertical-align: top;\n",
       "    }\n",
       "\n",
       "    .dataframe thead th {\n",
       "        text-align: right;\n",
       "    }\n",
       "</style>\n",
       "<table border=\"1\" class=\"dataframe\">\n",
       "  <thead>\n",
       "    <tr style=\"text-align: right;\">\n",
       "      <th></th>\n",
       "      <th>Nome</th>\n",
       "      <th>URL</th>\n",
       "      <th>Nota</th>\n",
       "      <th>Votos</th>\n",
       "    </tr>\n",
       "  </thead>\n",
       "  <tbody>\n",
       "    <tr>\n",
       "      <th>0</th>\n",
       "      <td>Meu gov.br</td>\n",
       "      <td>https://play.google.com/store/apps/details?id=...</td>\n",
       "      <td>4,6</td>\n",
       "      <td>51.435</td>\n",
       "    </tr>\n",
       "    <tr>\n",
       "      <th>1</th>\n",
       "      <td>Carteira de Trabalho Digital</td>\n",
       "      <td>https://play.google.com/store/apps/details?id=...</td>\n",
       "      <td>3,8</td>\n",
       "      <td>253.464</td>\n",
       "    </tr>\n",
       "    <tr>\n",
       "      <th>2</th>\n",
       "      <td>Conecte SUS</td>\n",
       "      <td>https://play.google.com/store/apps/details?id=...</td>\n",
       "      <td>3,1</td>\n",
       "      <td>17.203</td>\n",
       "    </tr>\n",
       "    <tr>\n",
       "      <th>3</th>\n",
       "      <td>Meu INSS</td>\n",
       "      <td>https://play.google.com/store/apps/details?id=...</td>\n",
       "      <td>3,4</td>\n",
       "      <td>46.300</td>\n",
       "    </tr>\n",
       "    <tr>\n",
       "      <th>4</th>\n",
       "      <td>SINE Fácil</td>\n",
       "      <td>https://play.google.com/store/apps/details?id=...</td>\n",
       "      <td>3,8</td>\n",
       "      <td>65.687</td>\n",
       "    </tr>\n",
       "    <tr>\n",
       "      <th>5</th>\n",
       "      <td>Meu Imposto de Renda</td>\n",
       "      <td>https://play.google.com/store/apps/details?id=...</td>\n",
       "      <td>3,8</td>\n",
       "      <td>20.658</td>\n",
       "    </tr>\n",
       "    <tr>\n",
       "      <th>6</th>\n",
       "      <td>CAIXA Tem</td>\n",
       "      <td>https://play.google.com/store/apps/details?id=...</td>\n",
       "      <td>3,8</td>\n",
       "      <td>3.166.187</td>\n",
       "    </tr>\n",
       "    <tr>\n",
       "      <th>7</th>\n",
       "      <td>Consumidor.gov.br - Apps on Google Play</td>\n",
       "      <td>https://play.google.com/store/apps/details?id=...</td>\n",
       "      <td>2,2</td>\n",
       "      <td>698</td>\n",
       "    </tr>\n",
       "    <tr>\n",
       "      <th>8</th>\n",
       "      <td>SINE Fácil - Apps on Google Play</td>\n",
       "      <td>https://play.google.com/store/apps/details?id=...</td>\n",
       "      <td>3,8</td>\n",
       "      <td>65.655</td>\n",
       "    </tr>\n",
       "    <tr>\n",
       "      <th>9</th>\n",
       "      <td>Meu CadÚnico</td>\n",
       "      <td>https://play.google.com/store/apps/details?id=...</td>\n",
       "      <td>3,2</td>\n",
       "      <td>21.001</td>\n",
       "    </tr>\n",
       "  </tbody>\n",
       "</table>\n",
       "</div>"
      ],
      "text/plain": [
       "                                      Nome  \\\n",
       "0                               Meu gov.br   \n",
       "1             Carteira de Trabalho Digital   \n",
       "2                              Conecte SUS   \n",
       "3                                 Meu INSS   \n",
       "4                               SINE Fácil   \n",
       "5                     Meu Imposto de Renda   \n",
       "6                                CAIXA Tem   \n",
       "7  Consumidor.gov.br - Apps on Google Play   \n",
       "8         SINE Fácil - Apps on Google Play   \n",
       "9                             Meu CadÚnico   \n",
       "\n",
       "                                                 URL Nota      Votos  \n",
       "0  https://play.google.com/store/apps/details?id=...  4,6     51.435  \n",
       "1  https://play.google.com/store/apps/details?id=...  3,8    253.464  \n",
       "2  https://play.google.com/store/apps/details?id=...  3,1     17.203  \n",
       "3  https://play.google.com/store/apps/details?id=...  3,4     46.300  \n",
       "4  https://play.google.com/store/apps/details?id=...  3,8     65.687  \n",
       "5  https://play.google.com/store/apps/details?id=...  3,8     20.658  \n",
       "6  https://play.google.com/store/apps/details?id=...  3,8  3.166.187  \n",
       "7  https://play.google.com/store/apps/details?id=...  2,2        698  \n",
       "8  https://play.google.com/store/apps/details?id=...  3,8     65.655  \n",
       "9  https://play.google.com/store/apps/details?id=...  3,2     21.001  "
      ]
     },
     "execution_count": 5,
     "metadata": {},
     "output_type": "execute_result"
    }
   ],
   "source": [
    "# Seleciona os resultados\n",
    "wait_element(driver, id='//div[@id=\"search\"]', by=By.XPATH)\n",
    "wait_element(driver, id='//div[@class=\"fG8Fp\"]', by=By.XPATH)\n",
    "Apps = []\n",
    "for res in driver.find_elements_by_class_name(\"rc\"):\n",
    "    nome = res.find_element_by_tag_name(\"h3\").text.split(\"–\")[0].strip()\n",
    "    url = res.find_element_by_tag_name(\"a\").get_attribute('href')\n",
    "    avaliacao = res.find_element_by_class_name(\"fG8Fp\").text.split()\n",
    "    nota = avaliacao[1]\n",
    "    votos = avaliacao[3]\n",
    "    Apps.append({'Nome': nome, 'URL': url, 'Nota': nota, 'Votos': votos})\n",
    "    \n",
    "pd.DataFrame(Apps)"
   ]
  }
 ],
 "metadata": {
  "celltoolbar": "Create Assignment",
  "kernelspec": {
   "display_name": "Python 3",
   "language": "python",
   "name": "python3"
  },
  "language_info": {
   "codemirror_mode": {
    "name": "ipython",
    "version": 3
   },
   "file_extension": ".py",
   "mimetype": "text/x-python",
   "name": "python",
   "nbconvert_exporter": "python",
   "pygments_lexer": "ipython3",
   "version": "3.8.6"
  }
 },
 "nbformat": 4,
 "nbformat_minor": 4
}
