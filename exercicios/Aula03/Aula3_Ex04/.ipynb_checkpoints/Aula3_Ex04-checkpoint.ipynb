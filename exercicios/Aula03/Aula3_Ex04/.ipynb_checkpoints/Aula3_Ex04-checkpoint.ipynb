{
 "cells": [
  {
   "cell_type": "markdown",
   "metadata": {},
   "source": [
    "# Aula 3 - Exercícios - Python e Pandas\n",
    "### Consulta a internet (Google, Stackoverflow e etc) liberada!!"
   ]
  },
  {
   "cell_type": "code",
   "execution_count": 1,
   "metadata": {
    "ExecuteTime": {
     "end_time": "2020-11-23T18:13:13.793681Z",
     "start_time": "2020-11-23T18:13:13.576336Z"
    }
   },
   "outputs": [],
   "source": [
    "import numpy as np\n",
    "import pandas as pd"
   ]
  },
  {
   "cell_type": "markdown",
   "metadata": {},
   "source": [
    "### 3.4 Escreva uma função para mudar o conteúdo de uma coluna de um dataframe, especificando como parâmetros de entrada o nome da coluna, o valor original e o novo valor.\n",
    "#### Exemplo:\n",
    "|    | name      |   score | qualify   |\n",
    "|:---|:----------|--------:|:----------|\n",
    "| a  | Jose |    12.5 | yes       |\n",
    "| b  | Maria      |     9   | no        |\n",
    "| c  | Joao |    16.5 | yes       |\n",
    "| d  | Pedro     |   nan   | no        |\n",
    "\n",
    "#### Resultado Esperado:\n",
    "|    | name      |   score | qualify   |\n",
    "|:---|:----------|--------:|:----------|\n",
    "| a  | Jose |    12.5 | yes       |\n",
    "| b  | Maria      |     9   | no        |\n",
    "| c  | Joao |    16.5 | yes       |\n",
    "| d  | Rafael    |   nan   | no        |\n"
   ]
  },
  {
   "cell_type": "code",
   "execution_count": 2,
   "metadata": {
    "ExecuteTime": {
     "end_time": "2020-11-23T18:13:13.798787Z",
     "start_time": "2020-11-23T18:13:13.795603Z"
    },
    "deletable": false,
    "nbgrader": {
     "cell_type": "code",
     "checksum": "4251d805c9f48193899f312d8c56e39b",
     "grade": false,
     "grade_id": "cell-553f5248eb14bc30",
     "locked": false,
     "schema_version": 3,
     "solution": true,
     "task": false
    }
   },
   "outputs": [],
   "source": [
    "# Dica: Use a função Series.replace. A função replace tem um parâmetro inplace \n",
    "#       para modificar o proprio objeto.\n",
    "\n",
    "def change_value(df, col, orig, new):\n",
    "    \"\"\"altere a coluna col do dataframe df substituindo orig por new\n",
    "    \"\"\"\n",
    "    df[col].replace({orig: new}, inplace=True)\n",
    "    return df\n"
   ]
  },
  {
   "cell_type": "code",
   "execution_count": 3,
   "metadata": {
    "ExecuteTime": {
     "end_time": "2020-11-23T18:13:13.806711Z",
     "start_time": "2020-11-23T18:13:13.800569Z"
    }
   },
   "outputs": [],
   "source": [
    "## Faça seus testes aqui\n"
   ]
  },
  {
   "cell_type": "code",
   "execution_count": 4,
   "metadata": {
    "ExecuteTime": {
     "end_time": "2020-11-23T18:13:13.821602Z",
     "start_time": "2020-11-23T18:13:13.810135Z"
    },
    "deletable": false,
    "editable": false,
    "nbgrader": {
     "cell_type": "code",
     "checksum": "bab6140d4bbe7cbf270b7ab809c4eb2f",
     "grade": true,
     "grade_id": "cell-0e2b65cefe06bdc60",
     "locked": true,
     "points": 1,
     "schema_version": 3,
     "solution": false,
     "task": false
    }
   },
   "outputs": [],
   "source": [
    "# Validação para nota\n",
    "exam_data  = {'name': ['Jose', 'Maria', 'Joao', 'Pedro', 'Emilia',\n",
    "                       'Marcos', 'Mateus', 'Laura', 'Carlos', 'Jonas'],\n",
    "        'score': [12.5, 9, 16.5, np.nan, 9, 20, 14.5, np.nan, 8, 19],\n",
    "        'qualify': ['yes', 'no', 'yes', 'no', 'no', 'yes', 'yes', 'no', 'no', 'yes']}\n",
    "labels = ['a', 'b', 'c', 'd', 'e', 'f', 'g', 'h', 'i', 'j']\n",
    "exam_data2 = {'name': ['Jose', 'Maria', 'Joao', 'Rafael', 'Emilia',\n",
    "                       'Marcos', 'Mateus', 'Laura', 'Carlos', 'Jonas'],\n",
    "        'score': [12.5, 9, 16.5, np.nan, 9, 20, 14.5, np.nan, 8, 19],\n",
    "        'qualify': ['yes', 'no', 'yes', 'no', 'no', 'yes', 'yes', 'no', 'no', 'yes']}\n",
    "df = pd.DataFrame(exam_data, index=labels) \n",
    "df2 = pd.DataFrame(exam_data2, index=labels) \n",
    "\n",
    "assert change_value(df, 'name', 'Pedro', 'Rafael').equals(df2)"
   ]
  }
 ],
 "metadata": {
  "kernelspec": {
   "display_name": "Python 3",
   "language": "python",
   "name": "python3"
  },
  "language_info": {
   "codemirror_mode": {
    "name": "ipython",
    "version": 3
   },
   "file_extension": ".py",
   "mimetype": "text/x-python",
   "name": "python",
   "nbconvert_exporter": "python",
   "pygments_lexer": "ipython3",
   "version": "3.8.6"
  }
 },
 "nbformat": 4,
 "nbformat_minor": 4
}
