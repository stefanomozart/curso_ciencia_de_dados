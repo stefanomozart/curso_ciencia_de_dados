{
 "cells": [
  {
   "cell_type": "markdown",
   "metadata": {},
   "source": [
    "# Aula 3 - Exercícios Extra - Python e Pandas\n",
    "### Consulta a internet (Google, Stackoverflow e etc) liberada!!"
   ]
  },
  {
   "cell_type": "code",
   "execution_count": 1,
   "metadata": {},
   "outputs": [],
   "source": [
    "# Importe a biblioteca pandas e numpy\n",
    "import pandas as pd\n",
    "import numpy as np"
   ]
  },
  {
   "cell_type": "markdown",
   "metadata": {},
   "source": [
    "### 3.9 Escreva uma função para criar uma nova coluna chamada 'segundo' que tenha o segundo maior valor de cada linha de df.\n"
   ]
  },
  {
   "cell_type": "code",
   "execution_count": 2,
   "metadata": {
    "deletable": false,
    "nbgrader": {
     "cell_type": "code",
     "checksum": "aa10660d6091da811513113443e5528a",
     "grade": false,
     "grade_id": "cell-553ee248eb14bc30",
     "locked": false,
     "schema_version": 3,
     "solution": true,
     "task": false
    }
   },
   "outputs": [],
   "source": [
    "# Dica 1: Use a função apply do Dataframe aplicando uma função lambda.\n",
    "#            e use a função sorted dentro da função lambda. Perceba que você precisa converter o argumento da\n",
    "#            da função lambda para list antes de aplicar o método sorted.\n",
    "# Dica 2: Aplique a função lambda no eixo 1.\n",
    "\n",
    "def segundo_maior(df):\n",
    "    \"\"\"retorne o dataframe df com uma nova coluna 'segundo' que tenha o segundo maior valor de cada linha de df\n",
    "    \"\"\"\n",
    "    df['segundo'] = df.apply(lambda l: sorted(l, reverse=True)[1], axis=1)\n",
    "    return df\n"
   ]
  },
  {
   "cell_type": "code",
   "execution_count": 3,
   "metadata": {},
   "outputs": [
    {
     "data": {
      "text/plain": [
       "0    20\n",
       "1    36\n",
       "2    25\n",
       "3    27\n",
       "4    48\n",
       "5    26\n",
       "6    24\n",
       "7    36\n",
       "8     2\n",
       "9    31\n",
       "dtype: int64"
      ]
     },
     "execution_count": 3,
     "metadata": {},
     "output_type": "execute_result"
    }
   ],
   "source": [
    "## Faça seus testes aqui\n",
    "data = {'d1': [20, 36, 25,  4,  1, 20, 17, 47,  2, 40],\n",
    "        'd2': [33, 25, 48, 39, 49, 37, 45, 36, 37, 31],\n",
    "        'd3': [19, 47,  9, 27, 48, 26, 24, 21,  1,  2]}\n",
    "df = pd.DataFrame(data)\n",
    "\n",
    "#segundo_maior(df)\n",
    "df.apply(lambda l: sorted(l, reverse=True)[1], axis=1)"
   ]
  },
  {
   "cell_type": "code",
   "execution_count": 4,
   "metadata": {
    "deletable": false,
    "editable": false,
    "nbgrader": {
     "cell_type": "code",
     "checksum": "92ea5a8749d912191432d5a7829449d1",
     "grade": true,
     "grade_id": "cell-0e2bt6cefe06bdc60",
     "locked": true,
     "points": 1,
     "schema_version": 3,
     "solution": false,
     "task": false
    }
   },
   "outputs": [],
   "source": [
    "# Validação para nota\n",
    "data = {'d1': [20, 36, 25,  4,  1, 20, 17, 47,  2, 40],\n",
    "        'd2': [33, 25, 48, 39, 49, 37, 45, 36, 37, 31],\n",
    "        'd3': [19, 47,  9, 27, 48, 26, 24, 21,  1,  2]}\n",
    "df = pd.DataFrame(data)\n",
    "assert list(segundo_maior(df)['segundo']) == [20, 36, 25, 27, 48, 26, 24, 36, 2, 31]"
   ]
  }
 ],
 "metadata": {
  "kernelspec": {
   "display_name": "Python 3",
   "language": "python",
   "name": "python3"
  },
  "language_info": {
   "codemirror_mode": {
    "name": "ipython",
    "version": 3
   },
   "file_extension": ".py",
   "mimetype": "text/x-python",
   "name": "python",
   "nbconvert_exporter": "python",
   "pygments_lexer": "ipython3",
   "version": "3.8.6"
  }
 },
 "nbformat": 4,
 "nbformat_minor": 4
}
