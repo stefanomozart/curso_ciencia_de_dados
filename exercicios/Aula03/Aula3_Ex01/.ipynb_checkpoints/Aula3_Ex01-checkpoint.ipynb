{
 "cells": [
  {
   "cell_type": "markdown",
   "metadata": {},
   "source": [
    "# Aula 3 - Exercícios - Python e Pandas\n",
    "### Consulta a internet (Google, Stackoverflow e etc) liberada!!"
   ]
  },
  {
   "cell_type": "code",
   "execution_count": 1,
   "metadata": {},
   "outputs": [],
   "source": [
    "# Importe as bibliotecas pandas e numpy\n",
    "import pandas as pd\n",
    "import numpy as np"
   ]
  },
  {
   "cell_type": "markdown",
   "metadata": {},
   "source": [
    "### 3.1 Escreva uma função para retornar os itens de uma determinada série que não estejam presentes em outra série \n",
    "#### Exemplo: Considere uma Serie A com os valores [1, 2, 3, 4, 5, 6, 7, 8], e\n",
    "####          uma Serie B com os valores [2, 4, 6, 8, 10, 12]\n",
    "#### Resultado Esperado: Uma Serie com os valores [1, 3, 5, 7]\n"
   ]
  },
  {
   "cell_type": "code",
   "execution_count": 2,
   "metadata": {
    "nbgrader": {
     "grade": false,
     "grade_id": "cell-c705b9d11473b9f9",
     "locked": false,
     "schema_version": 3,
     "solution": true,
     "task": false
    }
   },
   "outputs": [],
   "source": [
    "# Dica 1: a função Series.isin() retorna uma Serie de valores booleanos representando a \n",
    "#      intersecção da de duas series\n",
    "# Dica 2: o operador ~ serve para inverter os valores booleanos de uma Serie.\n",
    "#      Exemplo: \n",
    "#        ~pd.Series([True, False]) \n",
    "#        0    False\n",
    "#        1     True\n",
    "#        dtype: bool\n",
    "\n",
    "def complemento(s1, s2):\n",
    "    \"\"\"retorne os valores do complemento de s1 em relação a s2\n",
    "    \"\"\"\n",
    "    ### BEGIN SOLUTION\n",
    "    return s1[~s1.isin(s2)]\n",
    "    ### END SOLUTION\n"
   ]
  },
  {
   "cell_type": "code",
   "execution_count": 3,
   "metadata": {},
   "outputs": [
    {
     "data": {
      "text/plain": [
       "0    1\n",
       "2    3\n",
       "4    5\n",
       "6    7\n",
       "dtype: int64"
      ]
     },
     "execution_count": 3,
     "metadata": {},
     "output_type": "execute_result"
    }
   ],
   "source": [
    "## Faça seus testes aqui\n",
    "s1 = pd.Series([1, 2, 3, 4, 5, 6, 7, 8]) \n",
    "s2 = pd.Series([2, 4, 6, 8, 10, 12]) \n",
    "complemento(s1,s2)"
   ]
  },
  {
   "cell_type": "code",
   "execution_count": 4,
   "metadata": {
    "nbgrader": {
     "grade": true,
     "grade_id": "cell-9ffda88d58e9282a",
     "locked": true,
     "points": 1,
     "schema_version": 3,
     "solution": false,
     "task": false
    }
   },
   "outputs": [],
   "source": [
    "# Validação para nota\n",
    "s1 = pd.Series([1, 2, 3, 4, 5, 6, 7, 8]) \n",
    "s2 = pd.Series([2, 4, 6, 8, 10, 12]) \n",
    "c12 = pd.Series([1, 3, 5, 7]) \n",
    "c21 = pd.Series([10, 12]) \n",
    "\n",
    "assert complemento(s1,s2).reset_index()[0].equals(c12)\n",
    "assert complemento(s2,s1).reset_index()[0].equals(c21)"
   ]
  }
 ],
 "metadata": {
  "kernelspec": {
   "display_name": "Python 3",
   "language": "python",
   "name": "python3"
  },
  "language_info": {
   "codemirror_mode": {
    "name": "ipython",
    "version": 3
   },
   "file_extension": ".py",
   "mimetype": "text/x-python",
   "name": "python",
   "nbconvert_exporter": "python",
   "pygments_lexer": "ipython3",
   "version": "3.8.5"
  }
 },
 "nbformat": 4,
 "nbformat_minor": 4
}
