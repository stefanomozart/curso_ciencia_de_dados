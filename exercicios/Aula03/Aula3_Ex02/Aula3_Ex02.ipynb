{
 "cells": [
  {
   "cell_type": "markdown",
   "metadata": {},
   "source": [
    "# Aula 3 - Exercícios - Python e Pandas\n",
    "### Consulta a internet (Google, Stackoverflow e etc) liberada!!"
   ]
  },
  {
   "cell_type": "code",
   "execution_count": 1,
   "metadata": {},
   "outputs": [],
   "source": [
    "# Importe as bibliotecas pandas e numpy\n",
    "import pandas as pd\n",
    "import numpy as np"
   ]
  },
  {
   "cell_type": "markdown",
   "metadata": {},
   "source": [
    "### 3.2 Escreva uma função para obter os itens que não são comuns em duas séries. Ou seja, estão na uniao mas não na intersecção.\n",
    "#### Exemplo: Considere uma Serie A com os valores [1, 2, 3, 4, 5, 6, 7, 8], e\n",
    "####          uma Serie B com os valores [2, 4, 6, 8, 10, 12]\n",
    "#### Resultado Esperado: Uma Serie com os valores [1, 3, 5, 7,10,12]\n"
   ]
  },
  {
   "cell_type": "code",
   "execution_count": 2,
   "metadata": {},
   "outputs": [],
   "source": [
    "# Para carregar uma função definida em outro caderno, execute o seguinte comando\n",
    "%run ../Aula3_Ex01/Aula3_Ex01.ipynb"
   ]
  },
  {
   "cell_type": "code",
   "execution_count": 3,
   "metadata": {
    "deletable": false,
    "nbgrader": {
     "cell_type": "code",
     "checksum": "d6ac35fb8174f3d53cf6cea76108c4ff",
     "grade": false,
     "grade_id": "cell-553ee248eb14bc30",
     "locked": false,
     "schema_version": 3,
     "solution": true,
     "task": false
    }
   },
   "outputs": [],
   "source": [
    "# Dica 1: Pense na teoria de conjuntos. Como você faria isso no papel usando um diagrama de Venn.\n",
    "# Dica 2: Use a função criada no exercicio 3.1\n",
    "# Dica 3: Use a função np.union1d para calcular a união de duas Series.\n",
    "#     Exemplo: o código pd.Series(np.union1d(t1, t2)) cria uma Serie resultante da união de t1 e t2\n",
    "\n",
    "def complemento2(s1, s2):\n",
    "    \"\"\"retorne os valores que não são comuns em duas séries\n",
    "    \"\"\"\n",
    "    u = pd.Series(np.union1d(s1, s2))\n",
    "    i = pd.Series(np.intersect1d(s1, s2))\n",
    "    #return u[~u.isin(i)]\n",
    "    return complemento(u, i)"
   ]
  },
  {
   "cell_type": "code",
   "execution_count": 4,
   "metadata": {},
   "outputs": [],
   "source": [
    "# Solução sem uso do numpy (pandas \"puro\")\n",
    "def complemento2(s1, s2):    \n",
    "    return s1[~s1.isin(s2)].append(s2[~s2.isin(s1)])"
   ]
  },
  {
   "cell_type": "code",
   "execution_count": 5,
   "metadata": {},
   "outputs": [
    {
     "data": {
      "text/plain": [
       "0     1\n",
       "2     3\n",
       "4     5\n",
       "6     7\n",
       "4    10\n",
       "5    12\n",
       "dtype: int64"
      ]
     },
     "execution_count": 5,
     "metadata": {},
     "output_type": "execute_result"
    }
   ],
   "source": [
    "## Faça seus testes aqui\n",
    "s1 = pd.Series([1, 2, 3, 4, 5, 6, 7, 8]) \n",
    "s2 = pd.Series([2, 4, 6, 8, 10, 12]) \n",
    "\n",
    "complemento2(s1, s2)"
   ]
  },
  {
   "cell_type": "code",
   "execution_count": 6,
   "metadata": {
    "deletable": false,
    "editable": false,
    "nbgrader": {
     "cell_type": "code",
     "checksum": "8991c1f5cb95ed7db6fe4066e6cef97e",
     "grade": true,
     "grade_id": "cell-0e2bt6cefe06bdc60",
     "locked": true,
     "points": 1,
     "schema_version": 3,
     "solution": false,
     "task": false
    }
   },
   "outputs": [],
   "source": [
    "# Validação para nota\n",
    "s1 = pd.Series([1, 2, 3, 4, 5, 6, 7, 8]) \n",
    "s2 = pd.Series([2, 4, 6, 8, 10, 12]) \n",
    "c = pd.Series([1, 3, 5, 7, 10, 12]) \n",
    "\n",
    "assert complemento2(s1,s2).reset_index()[0].equals(c) "
   ]
  }
 ],
 "metadata": {
  "kernelspec": {
   "display_name": "Python 3",
   "language": "python",
   "name": "python3"
  },
  "language_info": {
   "codemirror_mode": {
    "name": "ipython",
    "version": 3
   },
   "file_extension": ".py",
   "mimetype": "text/x-python",
   "name": "python",
   "nbconvert_exporter": "python",
   "pygments_lexer": "ipython3",
   "version": "3.8.6"
  }
 },
 "nbformat": 4,
 "nbformat_minor": 4
}
